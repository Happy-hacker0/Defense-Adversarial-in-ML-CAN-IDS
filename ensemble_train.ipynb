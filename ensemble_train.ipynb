{
 "cells": [
  {
   "cell_type": "code",
   "execution_count": 19,
   "metadata": {},
   "outputs": [],
   "source": [
    "import warnings\n",
    "warnings.filterwarnings(\"ignore\")\n",
    "import tensorflow as tf\n",
    "import sklearn\n",
    "from sklearn.model_selection import train_test_split\n",
    "import numpy as np\n",
    "from joblib import load\n",
    "from numpy import genfromtxt\n",
    "import pickle\n",
    "import pandas as pd\n",
    "import os\n",
    "from tqdm import tqdm"
   ]
  },
  {
   "cell_type": "code",
   "execution_count": 3,
   "metadata": {},
   "outputs": [],
   "source": [
    "# Import Model\n",
    "def import_model():\n",
    "    list_model = []\n",
    "    path = './models'\n",
    "    for i in os.listdir(path):\n",
    "        list_model.append(i)\n",
    "    print(list_model)\n",
    "    return list_model"
   ]
  },
  {
   "cell_type": "code",
   "execution_count": 4,
   "metadata": {},
   "outputs": [],
   "source": [
    "# Import normal Dataset\n",
    "def import_dataset():\n",
    "    with open('./Dataset/csv/Attack_merge.csv', newline='') as csvfile:\n",
    "        rows = pd.read_csv(csvfile,header=None)\n",
    "        y = rows[10]\n",
    "        x = rows.drop([10], axis=1)\n",
    "        X_train, X_test, y_train, y_test = train_test_split(x, y , test_size=0.2)\n",
    "    return X_train, X_test, y_train, y_test"
   ]
  },
  {
   "cell_type": "code",
   "execution_count": 5,
   "metadata": {},
   "outputs": [],
   "source": [
    "import itertools\n",
    "def combinations(list_model, num):\n",
    "    return [x for x in itertools.combinations(list_model, num)]"
   ]
  },
  {
   "cell_type": "code",
   "execution_count": 6,
   "metadata": {},
   "outputs": [],
   "source": [
    "def kappa_statistics(pred_labels, y_test):\n",
    "    ks = 0\n",
    "    length = len(pred_labels)\n",
    "    for n in range(len(pred_labels[0])):\n",
    "        # value_b = ''\n",
    "        for o in range(0, length):\n",
    "            if o == 0:\n",
    "                continue\n",
    "            elif pred_labels[o][n] != pred_labels[o-1][n]:\n",
    "                break\n",
    "            elif o == length-1:\n",
    "                ks += 1\n",
    "            else:\n",
    "                continue\n",
    "    ks_percentage = ks/len(y_test) * 100\n",
    "    #print(\"KAPPA STATS: \" + str(ks_percentage))\n",
    "\n",
    "    return ks_percentage"
   ]
  },
  {
   "cell_type": "code",
   "execution_count": 7,
   "metadata": {},
   "outputs": [],
   "source": [
    "def double_fault(pred_labels, y_test):\n",
    "    wrong_gt = ([l for l, m in enumerate(y_test) if m != pred_labels[0][l]])\n",
    "    df = 0\n",
    "    length = len(pred_labels)\n",
    "    for n, o in enumerate(wrong_gt):\n",
    "        for p in range(0, length):\n",
    "            if p == 0:\n",
    "                continue\n",
    "            elif pred_labels[p][o] != pred_labels[p-1][o]:\n",
    "                break\n",
    "            elif p == length-1:\n",
    "                df += 1\n",
    "            else:\n",
    "                continue\n",
    "    df_percentage = df/len(y_test) * 100\n",
    "    #print(\"DOUBLE FAULT: \" + str(df_percentage))\n",
    "    \n",
    "    return df_percentage"
   ]
  },
  {
   "cell_type": "code",
   "execution_count": 17,
   "metadata": {},
   "outputs": [],
   "source": [
    "def prediction_label_prob(model, X_test, X_test_ex, mode=0):\n",
    "    path = str(\"./models/\")\n",
    "    if model == \"CNN.h5\" or model == \"LSTM.h5\":\n",
    "        clf = tf.keras.models.load_model(path + model)\n",
    "        prediction = clf.predict(X_test_ex)\n",
    "        #prediction = clf.predict_proba(X_test_ex)\n",
    "        prediction_prob = tf.keras.models.load_model(path + model).predict(X_test_ex).flatten()\n",
    "\n",
    "    elif model == \"DNN4.h5\":\n",
    "        prediction = tf.keras.models.load_model(path + model).predict(X_test)\n",
    "        prediction_prob = tf.keras.models.load_model(path + model).predict(X_test)[0:,1]\n",
    "        prediction = prediction[0:,1]\n",
    "\n",
    "    elif model == \"SVM.joblib\":\n",
    "        prediction = load(path + model).predict(X_test)\n",
    "        prediction_prob = load(path + model).predict(X_test)\n",
    "        #prediction_prob = load(path + model)._predict_proba_lr(X_test)[0:,1]\n",
    "        \n",
    "    else:\n",
    "        prediction = load(path + model).predict(X_test)\n",
    "        prediction_prob = load(path + model).predict(X_test)\n",
    "\n",
    "    if mode == 0:\n",
    "        return np.rint(prediction)\n",
    "    else:\n",
    "        return prediction_prob"
   ]
  },
  {
   "cell_type": "code",
   "execution_count": 9,
   "metadata": {},
   "outputs": [],
   "source": [
    "def voting(good_team, X_test, X_test_ex, y_test):\n",
    "    #soft voting\n",
    "    f1_score =[]\n",
    "    for i in range(len(good_team)):\n",
    "        #print(good_team[i])\n",
    "        pred = np.array([prediction_label_prob(model, X_test, X_test_ex, mode=1) for model in good_team[i]])\n",
    "        pred = np.average(pred, axis=0, weights=None)\n",
    "        pred_labels = np.rint(pred)\n",
    "        f1 = sklearn.metrics.f1_score(y_test, pred_labels, average=\"weighted\")\n",
    "        f1_score.append(f1)\n",
    "        #print(\"f1_score\",f1_score)\n",
    "\n",
    "    print(good_team)\n",
    "    print(f1_score)\n",
    "    f1_score_max = np.max(f1_score)\n",
    "    best_team_index = np.argmax(f1_score)\n",
    "\n",
    "    return good_team[best_team_index], f1_score_max"
   ]
  },
  {
   "cell_type": "code",
   "execution_count": 20,
   "metadata": {},
   "outputs": [
    {
     "name": "stdout",
     "output_type": "stream",
     "text": [
      "[('CNN.h5', 'SVM.joblib'), ('KNN.joblib', 'LR.joblib'), ('CNN.h5', 'SVM.joblib'), ('LR.joblib', 'XGB.joblib'), ('LSTM.h5', 'SVM.joblib'), ('SVM.joblib', 'XGB.joblib')]\n",
      "[0.9099044656629341, 0.952384477357377, 0.9099044656629341, 0.952474933752038, 0.8996352426952411, 0.952474933752038]\n",
      "best_team, best_team_f1 ('LR.joblib', 'XGB.joblib') 0.952474933752038\n"
     ]
    }
   ],
   "source": [
    "X_train, X_test, y_train, y_test = import_dataset()\n",
    "y_train_ex = tf.expand_dims(y_train, axis=1)\n",
    "X_train_ex = tf.expand_dims(X_train, axis=2)\n",
    "y_test_ex = tf.expand_dims(y_test, axis=1)\n",
    "X_test_ex = tf.expand_dims(X_test, axis=2)\n",
    "good_team = [('CNN.h5', 'SVM.joblib'), ('KNN.joblib', 'LR.joblib'), ('CNN.h5', 'SVM.joblib'), ('LR.joblib', 'XGB.joblib'), ('LSTM.h5', 'SVM.joblib'), ('SVM.joblib', 'XGB.joblib')]\n",
    "best_team, best_team_f1 = voting(good_team, X_test, X_test_ex, y_test)\n",
    "print(\"best_team, best_team_f1\", best_team, best_team_f1)\n"
   ]
  },
  {
   "cell_type": "code",
   "execution_count": 26,
   "metadata": {},
   "outputs": [],
   "source": [
    "def ensemble_learning(num_teams):\n",
    "    good_team = []\n",
    "    f1_score_team = []\n",
    "    list_model = import_model()\n",
    "    X_train, X_test, y_train, y_test = import_dataset()\n",
    "    y_train_ex = tf.expand_dims(y_train, axis=1)\n",
    "    X_train_ex = tf.expand_dims(X_train, axis=2)\n",
    "    y_test_ex = tf.expand_dims(y_test, axis=1)\n",
    "    X_test_ex = tf.expand_dims(X_test, axis=2)\n",
    "\n",
    "    combination_model = combinations(list_model=list_model, num = num_teams)\n",
    "    print(combination_model)\n",
    "    print(\"num of combination model\", len(combination_model))\n",
    "    for j in tqdm(range(0, len(combination_model))):\n",
    "        pred_labels = []\n",
    "        for k in range(0, len(combination_model[j])):\n",
    "            pred_labels.append(prediction_label_prob(combination_model[j][k], X_test, X_test_ex, mode=0))\n",
    "            \n",
    "        #print(pred_labels)\n",
    "        # print(combination_model[j])\n",
    "        # print(f1_inteam)\n",
    "        ks_percentage = kappa_statistics(pred_labels, y_test)\n",
    "        df_percentage = double_fault(pred_labels, y_test)\n",
    "        \n",
    "        if ks_percentage > 50 and ks_percentage < 91 and df_percentage < 50:\n",
    "            good_team.append(combination_model[j])\n",
    "            \n",
    "    best_team, best_team_f1 = voting(good_team, X_test, X_test_ex, y_test)\n",
    "    print(\"best_team, best_team_f1\", best_team, best_team_f1)\n",
    "    \n",
    "\n"
   ]
  },
  {
   "cell_type": "code",
   "execution_count": 23,
   "metadata": {},
   "outputs": [
    {
     "name": "stdout",
     "output_type": "stream",
     "text": [
      "['CNN.h5', 'DNN4.h5', 'DT.joblib', 'KNN.joblib', 'LR.joblib', 'LSTM.h5', 'RF.joblib', 'SVM.joblib', 'XGB.joblib']\n",
      "[('CNN.h5', 'DNN4.h5'), ('CNN.h5', 'DT.joblib'), ('CNN.h5', 'KNN.joblib'), ('CNN.h5', 'LR.joblib'), ('CNN.h5', 'LSTM.h5'), ('CNN.h5', 'RF.joblib'), ('CNN.h5', 'SVM.joblib'), ('CNN.h5', 'XGB.joblib'), ('DNN4.h5', 'DT.joblib'), ('DNN4.h5', 'KNN.joblib'), ('DNN4.h5', 'LR.joblib'), ('DNN4.h5', 'LSTM.h5'), ('DNN4.h5', 'RF.joblib'), ('DNN4.h5', 'SVM.joblib'), ('DNN4.h5', 'XGB.joblib'), ('DT.joblib', 'KNN.joblib'), ('DT.joblib', 'LR.joblib'), ('DT.joblib', 'LSTM.h5'), ('DT.joblib', 'RF.joblib'), ('DT.joblib', 'SVM.joblib'), ('DT.joblib', 'XGB.joblib'), ('KNN.joblib', 'LR.joblib'), ('KNN.joblib', 'LSTM.h5'), ('KNN.joblib', 'RF.joblib'), ('KNN.joblib', 'SVM.joblib'), ('KNN.joblib', 'XGB.joblib'), ('LR.joblib', 'LSTM.h5'), ('LR.joblib', 'RF.joblib'), ('LR.joblib', 'SVM.joblib'), ('LR.joblib', 'XGB.joblib'), ('LSTM.h5', 'RF.joblib'), ('LSTM.h5', 'SVM.joblib'), ('LSTM.h5', 'XGB.joblib'), ('RF.joblib', 'SVM.joblib'), ('RF.joblib', 'XGB.joblib'), ('SVM.joblib', 'XGB.joblib')]\n"
     ]
    },
    {
     "name": "stderr",
     "output_type": "stream",
     "text": [
      "100%|██████████| 36/36 [03:17<00:00,  5.48s/it]\n"
     ]
    },
    {
     "name": "stdout",
     "output_type": "stream",
     "text": [
      "good_team [('DT.joblib', 'SVM.joblib'), ('KNN.joblib', 'LR.joblib'), ('KNN.joblib', 'SVM.joblib'), ('LR.joblib', 'XGB.joblib'), ('LSTM.h5', 'SVM.joblib'), ('SVM.joblib', 'XGB.joblib')]\n",
      "[('DT.joblib', 'SVM.joblib'), ('KNN.joblib', 'LR.joblib'), ('KNN.joblib', 'SVM.joblib'), ('LR.joblib', 'XGB.joblib'), ('LSTM.h5', 'SVM.joblib'), ('SVM.joblib', 'XGB.joblib')]\n",
      "[0.9536798480836417, 0.9536372584264552, 0.9536372584264552, 0.9536372584264552, 0.8987115810705797, 0.9536372584264552]\n",
      "best_team, best_team_f1 ('DT.joblib', 'SVM.joblib') 0.9536798480836417\n"
     ]
    }
   ],
   "source": [
    "ensemble_learning(2)"
   ]
  },
  {
   "cell_type": "code",
   "execution_count": 24,
   "metadata": {},
   "outputs": [
    {
     "name": "stdout",
     "output_type": "stream",
     "text": [
      "['CNN.h5', 'DNN4.h5', 'DT.joblib', 'KNN.joblib', 'LR.joblib', 'LSTM.h5', 'RF.joblib', 'SVM.joblib', 'XGB.joblib']\n",
      "[('CNN.h5', 'DNN4.h5', 'DT.joblib'), ('CNN.h5', 'DNN4.h5', 'KNN.joblib'), ('CNN.h5', 'DNN4.h5', 'LR.joblib'), ('CNN.h5', 'DNN4.h5', 'LSTM.h5'), ('CNN.h5', 'DNN4.h5', 'RF.joblib'), ('CNN.h5', 'DNN4.h5', 'SVM.joblib'), ('CNN.h5', 'DNN4.h5', 'XGB.joblib'), ('CNN.h5', 'DT.joblib', 'KNN.joblib'), ('CNN.h5', 'DT.joblib', 'LR.joblib'), ('CNN.h5', 'DT.joblib', 'LSTM.h5'), ('CNN.h5', 'DT.joblib', 'RF.joblib'), ('CNN.h5', 'DT.joblib', 'SVM.joblib'), ('CNN.h5', 'DT.joblib', 'XGB.joblib'), ('CNN.h5', 'KNN.joblib', 'LR.joblib'), ('CNN.h5', 'KNN.joblib', 'LSTM.h5'), ('CNN.h5', 'KNN.joblib', 'RF.joblib'), ('CNN.h5', 'KNN.joblib', 'SVM.joblib'), ('CNN.h5', 'KNN.joblib', 'XGB.joblib'), ('CNN.h5', 'LR.joblib', 'LSTM.h5'), ('CNN.h5', 'LR.joblib', 'RF.joblib'), ('CNN.h5', 'LR.joblib', 'SVM.joblib'), ('CNN.h5', 'LR.joblib', 'XGB.joblib'), ('CNN.h5', 'LSTM.h5', 'RF.joblib'), ('CNN.h5', 'LSTM.h5', 'SVM.joblib'), ('CNN.h5', 'LSTM.h5', 'XGB.joblib'), ('CNN.h5', 'RF.joblib', 'SVM.joblib'), ('CNN.h5', 'RF.joblib', 'XGB.joblib'), ('CNN.h5', 'SVM.joblib', 'XGB.joblib'), ('DNN4.h5', 'DT.joblib', 'KNN.joblib'), ('DNN4.h5', 'DT.joblib', 'LR.joblib'), ('DNN4.h5', 'DT.joblib', 'LSTM.h5'), ('DNN4.h5', 'DT.joblib', 'RF.joblib'), ('DNN4.h5', 'DT.joblib', 'SVM.joblib'), ('DNN4.h5', 'DT.joblib', 'XGB.joblib'), ('DNN4.h5', 'KNN.joblib', 'LR.joblib'), ('DNN4.h5', 'KNN.joblib', 'LSTM.h5'), ('DNN4.h5', 'KNN.joblib', 'RF.joblib'), ('DNN4.h5', 'KNN.joblib', 'SVM.joblib'), ('DNN4.h5', 'KNN.joblib', 'XGB.joblib'), ('DNN4.h5', 'LR.joblib', 'LSTM.h5'), ('DNN4.h5', 'LR.joblib', 'RF.joblib'), ('DNN4.h5', 'LR.joblib', 'SVM.joblib'), ('DNN4.h5', 'LR.joblib', 'XGB.joblib'), ('DNN4.h5', 'LSTM.h5', 'RF.joblib'), ('DNN4.h5', 'LSTM.h5', 'SVM.joblib'), ('DNN4.h5', 'LSTM.h5', 'XGB.joblib'), ('DNN4.h5', 'RF.joblib', 'SVM.joblib'), ('DNN4.h5', 'RF.joblib', 'XGB.joblib'), ('DNN4.h5', 'SVM.joblib', 'XGB.joblib'), ('DT.joblib', 'KNN.joblib', 'LR.joblib'), ('DT.joblib', 'KNN.joblib', 'LSTM.h5'), ('DT.joblib', 'KNN.joblib', 'RF.joblib'), ('DT.joblib', 'KNN.joblib', 'SVM.joblib'), ('DT.joblib', 'KNN.joblib', 'XGB.joblib'), ('DT.joblib', 'LR.joblib', 'LSTM.h5'), ('DT.joblib', 'LR.joblib', 'RF.joblib'), ('DT.joblib', 'LR.joblib', 'SVM.joblib'), ('DT.joblib', 'LR.joblib', 'XGB.joblib'), ('DT.joblib', 'LSTM.h5', 'RF.joblib'), ('DT.joblib', 'LSTM.h5', 'SVM.joblib'), ('DT.joblib', 'LSTM.h5', 'XGB.joblib'), ('DT.joblib', 'RF.joblib', 'SVM.joblib'), ('DT.joblib', 'RF.joblib', 'XGB.joblib'), ('DT.joblib', 'SVM.joblib', 'XGB.joblib'), ('KNN.joblib', 'LR.joblib', 'LSTM.h5'), ('KNN.joblib', 'LR.joblib', 'RF.joblib'), ('KNN.joblib', 'LR.joblib', 'SVM.joblib'), ('KNN.joblib', 'LR.joblib', 'XGB.joblib'), ('KNN.joblib', 'LSTM.h5', 'RF.joblib'), ('KNN.joblib', 'LSTM.h5', 'SVM.joblib'), ('KNN.joblib', 'LSTM.h5', 'XGB.joblib'), ('KNN.joblib', 'RF.joblib', 'SVM.joblib'), ('KNN.joblib', 'RF.joblib', 'XGB.joblib'), ('KNN.joblib', 'SVM.joblib', 'XGB.joblib'), ('LR.joblib', 'LSTM.h5', 'RF.joblib'), ('LR.joblib', 'LSTM.h5', 'SVM.joblib'), ('LR.joblib', 'LSTM.h5', 'XGB.joblib'), ('LR.joblib', 'RF.joblib', 'SVM.joblib'), ('LR.joblib', 'RF.joblib', 'XGB.joblib'), ('LR.joblib', 'SVM.joblib', 'XGB.joblib'), ('LSTM.h5', 'RF.joblib', 'SVM.joblib'), ('LSTM.h5', 'RF.joblib', 'XGB.joblib'), ('LSTM.h5', 'SVM.joblib', 'XGB.joblib'), ('RF.joblib', 'SVM.joblib', 'XGB.joblib')]\n"
     ]
    },
    {
     "name": "stderr",
     "output_type": "stream",
     "text": [
      "100%|██████████| 84/84 [11:37<00:00,  8.30s/it]\n"
     ]
    },
    {
     "name": "stdout",
     "output_type": "stream",
     "text": [
      "good_team [('CNN.h5', 'DT.joblib', 'SVM.joblib'), ('CNN.h5', 'KNN.joblib', 'LR.joblib'), ('CNN.h5', 'KNN.joblib', 'SVM.joblib'), ('CNN.h5', 'LR.joblib', 'XGB.joblib'), ('CNN.h5', 'LSTM.h5', 'SVM.joblib'), ('CNN.h5', 'SVM.joblib', 'XGB.joblib'), ('DNN4.h5', 'DT.joblib', 'LR.joblib'), ('DNN4.h5', 'DT.joblib', 'SVM.joblib'), ('DNN4.h5', 'KNN.joblib', 'LR.joblib'), ('DNN4.h5', 'KNN.joblib', 'SVM.joblib'), ('DNN4.h5', 'LR.joblib', 'LSTM.h5'), ('DNN4.h5', 'LR.joblib', 'XGB.joblib'), ('DNN4.h5', 'LSTM.h5', 'SVM.joblib'), ('DNN4.h5', 'SVM.joblib', 'XGB.joblib'), ('DT.joblib', 'KNN.joblib', 'LR.joblib'), ('DT.joblib', 'KNN.joblib', 'SVM.joblib'), ('DT.joblib', 'LR.joblib', 'LSTM.h5'), ('DT.joblib', 'LR.joblib', 'SVM.joblib'), ('DT.joblib', 'LR.joblib', 'XGB.joblib'), ('DT.joblib', 'LSTM.h5', 'SVM.joblib'), ('DT.joblib', 'RF.joblib', 'SVM.joblib'), ('DT.joblib', 'SVM.joblib', 'XGB.joblib'), ('KNN.joblib', 'LR.joblib', 'LSTM.h5'), ('KNN.joblib', 'LR.joblib', 'RF.joblib'), ('KNN.joblib', 'LR.joblib', 'SVM.joblib'), ('KNN.joblib', 'LR.joblib', 'XGB.joblib'), ('KNN.joblib', 'LSTM.h5', 'SVM.joblib'), ('KNN.joblib', 'RF.joblib', 'SVM.joblib'), ('KNN.joblib', 'SVM.joblib', 'XGB.joblib'), ('LR.joblib', 'LSTM.h5', 'SVM.joblib'), ('LR.joblib', 'LSTM.h5', 'XGB.joblib'), ('LR.joblib', 'RF.joblib', 'XGB.joblib'), ('LR.joblib', 'SVM.joblib', 'XGB.joblib'), ('LSTM.h5', 'RF.joblib', 'SVM.joblib'), ('LSTM.h5', 'SVM.joblib', 'XGB.joblib'), ('RF.joblib', 'SVM.joblib', 'XGB.joblib')]\n",
      "[('CNN.h5', 'DT.joblib', 'SVM.joblib'), ('CNN.h5', 'KNN.joblib', 'LR.joblib'), ('CNN.h5', 'KNN.joblib', 'SVM.joblib'), ('CNN.h5', 'LR.joblib', 'XGB.joblib'), ('CNN.h5', 'LSTM.h5', 'SVM.joblib'), ('CNN.h5', 'SVM.joblib', 'XGB.joblib'), ('DNN4.h5', 'DT.joblib', 'LR.joblib'), ('DNN4.h5', 'DT.joblib', 'SVM.joblib'), ('DNN4.h5', 'KNN.joblib', 'LR.joblib'), ('DNN4.h5', 'KNN.joblib', 'SVM.joblib'), ('DNN4.h5', 'LR.joblib', 'LSTM.h5'), ('DNN4.h5', 'LR.joblib', 'XGB.joblib'), ('DNN4.h5', 'LSTM.h5', 'SVM.joblib'), ('DNN4.h5', 'SVM.joblib', 'XGB.joblib'), ('DT.joblib', 'KNN.joblib', 'LR.joblib'), ('DT.joblib', 'KNN.joblib', 'SVM.joblib'), ('DT.joblib', 'LR.joblib', 'LSTM.h5'), ('DT.joblib', 'LR.joblib', 'SVM.joblib'), ('DT.joblib', 'LR.joblib', 'XGB.joblib'), ('DT.joblib', 'LSTM.h5', 'SVM.joblib'), ('DT.joblib', 'RF.joblib', 'SVM.joblib'), ('DT.joblib', 'SVM.joblib', 'XGB.joblib'), ('KNN.joblib', 'LR.joblib', 'LSTM.h5'), ('KNN.joblib', 'LR.joblib', 'RF.joblib'), ('KNN.joblib', 'LR.joblib', 'SVM.joblib'), ('KNN.joblib', 'LR.joblib', 'XGB.joblib'), ('KNN.joblib', 'LSTM.h5', 'SVM.joblib'), ('KNN.joblib', 'RF.joblib', 'SVM.joblib'), ('KNN.joblib', 'SVM.joblib', 'XGB.joblib'), ('LR.joblib', 'LSTM.h5', 'SVM.joblib'), ('LR.joblib', 'LSTM.h5', 'XGB.joblib'), ('LR.joblib', 'RF.joblib', 'XGB.joblib'), ('LR.joblib', 'SVM.joblib', 'XGB.joblib'), ('LSTM.h5', 'RF.joblib', 'SVM.joblib'), ('LSTM.h5', 'SVM.joblib', 'XGB.joblib'), ('RF.joblib', 'SVM.joblib', 'XGB.joblib')]\n",
      "[0.9313347824568954, 0.9313570663997603, 0.9313570663997603, 0.9313570663997603, 0.9312456465799485, 0.9313570663997603, 0.9260530440683131, 0.9260530440683131, 0.9260753323646509, 0.9260753323646509, 0.9260753323646509, 0.9260753323646509, 0.9260753323646509, 0.9260753323646509, 0.9840342575644558, 0.9840342575644558, 0.9758223640349513, 0.9092800607829924, 0.9850411791881499, 0.9758223640349513, 0.9513865736408356, 0.9850411791881499, 0.9724518756066809, 0.9514090974850913, 0.9092800607829924, 0.981042148546268, 0.9724518756066809, 0.9514090974850913, 0.981042148546268, 0.9092800607829924, 0.9724312769317387, 0.9513865736408356, 0.9092800607829924, 0.9512514273851658, 0.9724312769317387, 0.9513865736408356]\n",
      "best_team, best_team_f1 ('DT.joblib', 'LR.joblib', 'XGB.joblib') 0.9850411791881499\n"
     ]
    }
   ],
   "source": [
    "ensemble_learning(3)"
   ]
  },
  {
   "cell_type": "code",
   "execution_count": 25,
   "metadata": {},
   "outputs": [
    {
     "name": "stdout",
     "output_type": "stream",
     "text": [
      "['CNN.h5', 'DNN4.h5', 'DT.joblib', 'KNN.joblib', 'LR.joblib', 'LSTM.h5', 'RF.joblib', 'SVM.joblib', 'XGB.joblib']\n",
      "[('CNN.h5', 'DNN4.h5', 'DT.joblib', 'KNN.joblib', 'LR.joblib'), ('CNN.h5', 'DNN4.h5', 'DT.joblib', 'KNN.joblib', 'LSTM.h5'), ('CNN.h5', 'DNN4.h5', 'DT.joblib', 'KNN.joblib', 'RF.joblib'), ('CNN.h5', 'DNN4.h5', 'DT.joblib', 'KNN.joblib', 'SVM.joblib'), ('CNN.h5', 'DNN4.h5', 'DT.joblib', 'KNN.joblib', 'XGB.joblib'), ('CNN.h5', 'DNN4.h5', 'DT.joblib', 'LR.joblib', 'LSTM.h5'), ('CNN.h5', 'DNN4.h5', 'DT.joblib', 'LR.joblib', 'RF.joblib'), ('CNN.h5', 'DNN4.h5', 'DT.joblib', 'LR.joblib', 'SVM.joblib'), ('CNN.h5', 'DNN4.h5', 'DT.joblib', 'LR.joblib', 'XGB.joblib'), ('CNN.h5', 'DNN4.h5', 'DT.joblib', 'LSTM.h5', 'RF.joblib'), ('CNN.h5', 'DNN4.h5', 'DT.joblib', 'LSTM.h5', 'SVM.joblib'), ('CNN.h5', 'DNN4.h5', 'DT.joblib', 'LSTM.h5', 'XGB.joblib'), ('CNN.h5', 'DNN4.h5', 'DT.joblib', 'RF.joblib', 'SVM.joblib'), ('CNN.h5', 'DNN4.h5', 'DT.joblib', 'RF.joblib', 'XGB.joblib'), ('CNN.h5', 'DNN4.h5', 'DT.joblib', 'SVM.joblib', 'XGB.joblib'), ('CNN.h5', 'DNN4.h5', 'KNN.joblib', 'LR.joblib', 'LSTM.h5'), ('CNN.h5', 'DNN4.h5', 'KNN.joblib', 'LR.joblib', 'RF.joblib'), ('CNN.h5', 'DNN4.h5', 'KNN.joblib', 'LR.joblib', 'SVM.joblib'), ('CNN.h5', 'DNN4.h5', 'KNN.joblib', 'LR.joblib', 'XGB.joblib'), ('CNN.h5', 'DNN4.h5', 'KNN.joblib', 'LSTM.h5', 'RF.joblib'), ('CNN.h5', 'DNN4.h5', 'KNN.joblib', 'LSTM.h5', 'SVM.joblib'), ('CNN.h5', 'DNN4.h5', 'KNN.joblib', 'LSTM.h5', 'XGB.joblib'), ('CNN.h5', 'DNN4.h5', 'KNN.joblib', 'RF.joblib', 'SVM.joblib'), ('CNN.h5', 'DNN4.h5', 'KNN.joblib', 'RF.joblib', 'XGB.joblib'), ('CNN.h5', 'DNN4.h5', 'KNN.joblib', 'SVM.joblib', 'XGB.joblib'), ('CNN.h5', 'DNN4.h5', 'LR.joblib', 'LSTM.h5', 'RF.joblib'), ('CNN.h5', 'DNN4.h5', 'LR.joblib', 'LSTM.h5', 'SVM.joblib'), ('CNN.h5', 'DNN4.h5', 'LR.joblib', 'LSTM.h5', 'XGB.joblib'), ('CNN.h5', 'DNN4.h5', 'LR.joblib', 'RF.joblib', 'SVM.joblib'), ('CNN.h5', 'DNN4.h5', 'LR.joblib', 'RF.joblib', 'XGB.joblib'), ('CNN.h5', 'DNN4.h5', 'LR.joblib', 'SVM.joblib', 'XGB.joblib'), ('CNN.h5', 'DNN4.h5', 'LSTM.h5', 'RF.joblib', 'SVM.joblib'), ('CNN.h5', 'DNN4.h5', 'LSTM.h5', 'RF.joblib', 'XGB.joblib'), ('CNN.h5', 'DNN4.h5', 'LSTM.h5', 'SVM.joblib', 'XGB.joblib'), ('CNN.h5', 'DNN4.h5', 'RF.joblib', 'SVM.joblib', 'XGB.joblib'), ('CNN.h5', 'DT.joblib', 'KNN.joblib', 'LR.joblib', 'LSTM.h5'), ('CNN.h5', 'DT.joblib', 'KNN.joblib', 'LR.joblib', 'RF.joblib'), ('CNN.h5', 'DT.joblib', 'KNN.joblib', 'LR.joblib', 'SVM.joblib'), ('CNN.h5', 'DT.joblib', 'KNN.joblib', 'LR.joblib', 'XGB.joblib'), ('CNN.h5', 'DT.joblib', 'KNN.joblib', 'LSTM.h5', 'RF.joblib'), ('CNN.h5', 'DT.joblib', 'KNN.joblib', 'LSTM.h5', 'SVM.joblib'), ('CNN.h5', 'DT.joblib', 'KNN.joblib', 'LSTM.h5', 'XGB.joblib'), ('CNN.h5', 'DT.joblib', 'KNN.joblib', 'RF.joblib', 'SVM.joblib'), ('CNN.h5', 'DT.joblib', 'KNN.joblib', 'RF.joblib', 'XGB.joblib'), ('CNN.h5', 'DT.joblib', 'KNN.joblib', 'SVM.joblib', 'XGB.joblib'), ('CNN.h5', 'DT.joblib', 'LR.joblib', 'LSTM.h5', 'RF.joblib'), ('CNN.h5', 'DT.joblib', 'LR.joblib', 'LSTM.h5', 'SVM.joblib'), ('CNN.h5', 'DT.joblib', 'LR.joblib', 'LSTM.h5', 'XGB.joblib'), ('CNN.h5', 'DT.joblib', 'LR.joblib', 'RF.joblib', 'SVM.joblib'), ('CNN.h5', 'DT.joblib', 'LR.joblib', 'RF.joblib', 'XGB.joblib'), ('CNN.h5', 'DT.joblib', 'LR.joblib', 'SVM.joblib', 'XGB.joblib'), ('CNN.h5', 'DT.joblib', 'LSTM.h5', 'RF.joblib', 'SVM.joblib'), ('CNN.h5', 'DT.joblib', 'LSTM.h5', 'RF.joblib', 'XGB.joblib'), ('CNN.h5', 'DT.joblib', 'LSTM.h5', 'SVM.joblib', 'XGB.joblib'), ('CNN.h5', 'DT.joblib', 'RF.joblib', 'SVM.joblib', 'XGB.joblib'), ('CNN.h5', 'KNN.joblib', 'LR.joblib', 'LSTM.h5', 'RF.joblib'), ('CNN.h5', 'KNN.joblib', 'LR.joblib', 'LSTM.h5', 'SVM.joblib'), ('CNN.h5', 'KNN.joblib', 'LR.joblib', 'LSTM.h5', 'XGB.joblib'), ('CNN.h5', 'KNN.joblib', 'LR.joblib', 'RF.joblib', 'SVM.joblib'), ('CNN.h5', 'KNN.joblib', 'LR.joblib', 'RF.joblib', 'XGB.joblib'), ('CNN.h5', 'KNN.joblib', 'LR.joblib', 'SVM.joblib', 'XGB.joblib'), ('CNN.h5', 'KNN.joblib', 'LSTM.h5', 'RF.joblib', 'SVM.joblib'), ('CNN.h5', 'KNN.joblib', 'LSTM.h5', 'RF.joblib', 'XGB.joblib'), ('CNN.h5', 'KNN.joblib', 'LSTM.h5', 'SVM.joblib', 'XGB.joblib'), ('CNN.h5', 'KNN.joblib', 'RF.joblib', 'SVM.joblib', 'XGB.joblib'), ('CNN.h5', 'LR.joblib', 'LSTM.h5', 'RF.joblib', 'SVM.joblib'), ('CNN.h5', 'LR.joblib', 'LSTM.h5', 'RF.joblib', 'XGB.joblib'), ('CNN.h5', 'LR.joblib', 'LSTM.h5', 'SVM.joblib', 'XGB.joblib'), ('CNN.h5', 'LR.joblib', 'RF.joblib', 'SVM.joblib', 'XGB.joblib'), ('CNN.h5', 'LSTM.h5', 'RF.joblib', 'SVM.joblib', 'XGB.joblib'), ('DNN4.h5', 'DT.joblib', 'KNN.joblib', 'LR.joblib', 'LSTM.h5'), ('DNN4.h5', 'DT.joblib', 'KNN.joblib', 'LR.joblib', 'RF.joblib'), ('DNN4.h5', 'DT.joblib', 'KNN.joblib', 'LR.joblib', 'SVM.joblib'), ('DNN4.h5', 'DT.joblib', 'KNN.joblib', 'LR.joblib', 'XGB.joblib'), ('DNN4.h5', 'DT.joblib', 'KNN.joblib', 'LSTM.h5', 'RF.joblib'), ('DNN4.h5', 'DT.joblib', 'KNN.joblib', 'LSTM.h5', 'SVM.joblib'), ('DNN4.h5', 'DT.joblib', 'KNN.joblib', 'LSTM.h5', 'XGB.joblib'), ('DNN4.h5', 'DT.joblib', 'KNN.joblib', 'RF.joblib', 'SVM.joblib'), ('DNN4.h5', 'DT.joblib', 'KNN.joblib', 'RF.joblib', 'XGB.joblib'), ('DNN4.h5', 'DT.joblib', 'KNN.joblib', 'SVM.joblib', 'XGB.joblib'), ('DNN4.h5', 'DT.joblib', 'LR.joblib', 'LSTM.h5', 'RF.joblib'), ('DNN4.h5', 'DT.joblib', 'LR.joblib', 'LSTM.h5', 'SVM.joblib'), ('DNN4.h5', 'DT.joblib', 'LR.joblib', 'LSTM.h5', 'XGB.joblib'), ('DNN4.h5', 'DT.joblib', 'LR.joblib', 'RF.joblib', 'SVM.joblib'), ('DNN4.h5', 'DT.joblib', 'LR.joblib', 'RF.joblib', 'XGB.joblib'), ('DNN4.h5', 'DT.joblib', 'LR.joblib', 'SVM.joblib', 'XGB.joblib'), ('DNN4.h5', 'DT.joblib', 'LSTM.h5', 'RF.joblib', 'SVM.joblib'), ('DNN4.h5', 'DT.joblib', 'LSTM.h5', 'RF.joblib', 'XGB.joblib'), ('DNN4.h5', 'DT.joblib', 'LSTM.h5', 'SVM.joblib', 'XGB.joblib'), ('DNN4.h5', 'DT.joblib', 'RF.joblib', 'SVM.joblib', 'XGB.joblib'), ('DNN4.h5', 'KNN.joblib', 'LR.joblib', 'LSTM.h5', 'RF.joblib'), ('DNN4.h5', 'KNN.joblib', 'LR.joblib', 'LSTM.h5', 'SVM.joblib'), ('DNN4.h5', 'KNN.joblib', 'LR.joblib', 'LSTM.h5', 'XGB.joblib'), ('DNN4.h5', 'KNN.joblib', 'LR.joblib', 'RF.joblib', 'SVM.joblib'), ('DNN4.h5', 'KNN.joblib', 'LR.joblib', 'RF.joblib', 'XGB.joblib'), ('DNN4.h5', 'KNN.joblib', 'LR.joblib', 'SVM.joblib', 'XGB.joblib'), ('DNN4.h5', 'KNN.joblib', 'LSTM.h5', 'RF.joblib', 'SVM.joblib'), ('DNN4.h5', 'KNN.joblib', 'LSTM.h5', 'RF.joblib', 'XGB.joblib'), ('DNN4.h5', 'KNN.joblib', 'LSTM.h5', 'SVM.joblib', 'XGB.joblib'), ('DNN4.h5', 'KNN.joblib', 'RF.joblib', 'SVM.joblib', 'XGB.joblib'), ('DNN4.h5', 'LR.joblib', 'LSTM.h5', 'RF.joblib', 'SVM.joblib'), ('DNN4.h5', 'LR.joblib', 'LSTM.h5', 'RF.joblib', 'XGB.joblib'), ('DNN4.h5', 'LR.joblib', 'LSTM.h5', 'SVM.joblib', 'XGB.joblib'), ('DNN4.h5', 'LR.joblib', 'RF.joblib', 'SVM.joblib', 'XGB.joblib'), ('DNN4.h5', 'LSTM.h5', 'RF.joblib', 'SVM.joblib', 'XGB.joblib'), ('DT.joblib', 'KNN.joblib', 'LR.joblib', 'LSTM.h5', 'RF.joblib'), ('DT.joblib', 'KNN.joblib', 'LR.joblib', 'LSTM.h5', 'SVM.joblib'), ('DT.joblib', 'KNN.joblib', 'LR.joblib', 'LSTM.h5', 'XGB.joblib'), ('DT.joblib', 'KNN.joblib', 'LR.joblib', 'RF.joblib', 'SVM.joblib'), ('DT.joblib', 'KNN.joblib', 'LR.joblib', 'RF.joblib', 'XGB.joblib'), ('DT.joblib', 'KNN.joblib', 'LR.joblib', 'SVM.joblib', 'XGB.joblib'), ('DT.joblib', 'KNN.joblib', 'LSTM.h5', 'RF.joblib', 'SVM.joblib'), ('DT.joblib', 'KNN.joblib', 'LSTM.h5', 'RF.joblib', 'XGB.joblib'), ('DT.joblib', 'KNN.joblib', 'LSTM.h5', 'SVM.joblib', 'XGB.joblib'), ('DT.joblib', 'KNN.joblib', 'RF.joblib', 'SVM.joblib', 'XGB.joblib'), ('DT.joblib', 'LR.joblib', 'LSTM.h5', 'RF.joblib', 'SVM.joblib'), ('DT.joblib', 'LR.joblib', 'LSTM.h5', 'RF.joblib', 'XGB.joblib'), ('DT.joblib', 'LR.joblib', 'LSTM.h5', 'SVM.joblib', 'XGB.joblib'), ('DT.joblib', 'LR.joblib', 'RF.joblib', 'SVM.joblib', 'XGB.joblib'), ('DT.joblib', 'LSTM.h5', 'RF.joblib', 'SVM.joblib', 'XGB.joblib'), ('KNN.joblib', 'LR.joblib', 'LSTM.h5', 'RF.joblib', 'SVM.joblib'), ('KNN.joblib', 'LR.joblib', 'LSTM.h5', 'RF.joblib', 'XGB.joblib'), ('KNN.joblib', 'LR.joblib', 'LSTM.h5', 'SVM.joblib', 'XGB.joblib'), ('KNN.joblib', 'LR.joblib', 'RF.joblib', 'SVM.joblib', 'XGB.joblib'), ('KNN.joblib', 'LSTM.h5', 'RF.joblib', 'SVM.joblib', 'XGB.joblib'), ('LR.joblib', 'LSTM.h5', 'RF.joblib', 'SVM.joblib', 'XGB.joblib')]\n"
     ]
    },
    {
     "name": "stderr",
     "output_type": "stream",
     "text": [
      "100%|██████████| 126/126 [30:04<00:00, 14.32s/it]\n"
     ]
    },
    {
     "name": "stdout",
     "output_type": "stream",
     "text": [
      "good_team [('CNN.h5', 'DNN4.h5', 'DT.joblib', 'KNN.joblib', 'LR.joblib'), ('CNN.h5', 'DNN4.h5', 'DT.joblib', 'KNN.joblib', 'LSTM.h5'), ('CNN.h5', 'DNN4.h5', 'DT.joblib', 'KNN.joblib', 'SVM.joblib'), ('CNN.h5', 'DNN4.h5', 'DT.joblib', 'LR.joblib', 'LSTM.h5'), ('CNN.h5', 'DNN4.h5', 'DT.joblib', 'LR.joblib', 'RF.joblib'), ('CNN.h5', 'DNN4.h5', 'DT.joblib', 'LR.joblib', 'SVM.joblib'), ('CNN.h5', 'DNN4.h5', 'DT.joblib', 'LR.joblib', 'XGB.joblib'), ('CNN.h5', 'DNN4.h5', 'DT.joblib', 'LSTM.h5', 'SVM.joblib'), ('CNN.h5', 'DNN4.h5', 'DT.joblib', 'LSTM.h5', 'XGB.joblib'), ('CNN.h5', 'DNN4.h5', 'DT.joblib', 'RF.joblib', 'SVM.joblib'), ('CNN.h5', 'DNN4.h5', 'DT.joblib', 'SVM.joblib', 'XGB.joblib'), ('CNN.h5', 'DNN4.h5', 'KNN.joblib', 'LR.joblib', 'LSTM.h5'), ('CNN.h5', 'DNN4.h5', 'KNN.joblib', 'LR.joblib', 'RF.joblib'), ('CNN.h5', 'DNN4.h5', 'KNN.joblib', 'LR.joblib', 'SVM.joblib'), ('CNN.h5', 'DNN4.h5', 'KNN.joblib', 'LR.joblib', 'XGB.joblib'), ('CNN.h5', 'DNN4.h5', 'KNN.joblib', 'LSTM.h5', 'RF.joblib'), ('CNN.h5', 'DNN4.h5', 'KNN.joblib', 'LSTM.h5', 'SVM.joblib'), ('CNN.h5', 'DNN4.h5', 'KNN.joblib', 'LSTM.h5', 'XGB.joblib'), ('CNN.h5', 'DNN4.h5', 'KNN.joblib', 'RF.joblib', 'SVM.joblib'), ('CNN.h5', 'DNN4.h5', 'KNN.joblib', 'SVM.joblib', 'XGB.joblib'), ('CNN.h5', 'DNN4.h5', 'LR.joblib', 'LSTM.h5', 'RF.joblib'), ('CNN.h5', 'DNN4.h5', 'LR.joblib', 'LSTM.h5', 'SVM.joblib'), ('CNN.h5', 'DNN4.h5', 'LR.joblib', 'LSTM.h5', 'XGB.joblib'), ('CNN.h5', 'DNN4.h5', 'LR.joblib', 'RF.joblib', 'XGB.joblib'), ('CNN.h5', 'DNN4.h5', 'LR.joblib', 'SVM.joblib', 'XGB.joblib'), ('CNN.h5', 'DNN4.h5', 'LSTM.h5', 'RF.joblib', 'SVM.joblib'), ('CNN.h5', 'DNN4.h5', 'LSTM.h5', 'RF.joblib', 'XGB.joblib'), ('CNN.h5', 'DNN4.h5', 'LSTM.h5', 'SVM.joblib', 'XGB.joblib'), ('CNN.h5', 'DNN4.h5', 'RF.joblib', 'SVM.joblib', 'XGB.joblib'), ('CNN.h5', 'DT.joblib', 'KNN.joblib', 'LR.joblib', 'LSTM.h5'), ('CNN.h5', 'DT.joblib', 'KNN.joblib', 'LR.joblib', 'RF.joblib'), ('CNN.h5', 'DT.joblib', 'KNN.joblib', 'LR.joblib', 'SVM.joblib'), ('CNN.h5', 'DT.joblib', 'KNN.joblib', 'LR.joblib', 'XGB.joblib'), ('CNN.h5', 'DT.joblib', 'KNN.joblib', 'LSTM.h5', 'SVM.joblib'), ('CNN.h5', 'DT.joblib', 'KNN.joblib', 'RF.joblib', 'SVM.joblib'), ('CNN.h5', 'DT.joblib', 'KNN.joblib', 'SVM.joblib', 'XGB.joblib'), ('CNN.h5', 'DT.joblib', 'LR.joblib', 'LSTM.h5', 'RF.joblib'), ('CNN.h5', 'DT.joblib', 'LR.joblib', 'LSTM.h5', 'SVM.joblib'), ('CNN.h5', 'DT.joblib', 'LR.joblib', 'LSTM.h5', 'XGB.joblib'), ('CNN.h5', 'DT.joblib', 'LR.joblib', 'RF.joblib', 'SVM.joblib'), ('CNN.h5', 'DT.joblib', 'LR.joblib', 'RF.joblib', 'XGB.joblib'), ('CNN.h5', 'DT.joblib', 'LR.joblib', 'SVM.joblib', 'XGB.joblib'), ('CNN.h5', 'DT.joblib', 'LSTM.h5', 'RF.joblib', 'SVM.joblib'), ('CNN.h5', 'DT.joblib', 'LSTM.h5', 'SVM.joblib', 'XGB.joblib'), ('CNN.h5', 'DT.joblib', 'RF.joblib', 'SVM.joblib', 'XGB.joblib'), ('CNN.h5', 'KNN.joblib', 'LR.joblib', 'LSTM.h5', 'RF.joblib'), ('CNN.h5', 'KNN.joblib', 'LR.joblib', 'LSTM.h5', 'SVM.joblib'), ('CNN.h5', 'KNN.joblib', 'LR.joblib', 'LSTM.h5', 'XGB.joblib'), ('CNN.h5', 'KNN.joblib', 'LR.joblib', 'RF.joblib', 'SVM.joblib'), ('CNN.h5', 'KNN.joblib', 'LR.joblib', 'RF.joblib', 'XGB.joblib'), ('CNN.h5', 'KNN.joblib', 'LR.joblib', 'SVM.joblib', 'XGB.joblib'), ('CNN.h5', 'KNN.joblib', 'LSTM.h5', 'RF.joblib', 'SVM.joblib'), ('CNN.h5', 'KNN.joblib', 'LSTM.h5', 'SVM.joblib', 'XGB.joblib'), ('CNN.h5', 'KNN.joblib', 'RF.joblib', 'SVM.joblib', 'XGB.joblib'), ('CNN.h5', 'LR.joblib', 'LSTM.h5', 'RF.joblib', 'SVM.joblib'), ('CNN.h5', 'LR.joblib', 'LSTM.h5', 'RF.joblib', 'XGB.joblib'), ('CNN.h5', 'LR.joblib', 'LSTM.h5', 'SVM.joblib', 'XGB.joblib'), ('CNN.h5', 'LR.joblib', 'RF.joblib', 'SVM.joblib', 'XGB.joblib'), ('CNN.h5', 'LSTM.h5', 'RF.joblib', 'SVM.joblib', 'XGB.joblib'), ('DNN4.h5', 'DT.joblib', 'KNN.joblib', 'LR.joblib', 'LSTM.h5'), ('DNN4.h5', 'DT.joblib', 'KNN.joblib', 'LR.joblib', 'RF.joblib'), ('DNN4.h5', 'DT.joblib', 'KNN.joblib', 'LR.joblib', 'SVM.joblib'), ('DNN4.h5', 'DT.joblib', 'KNN.joblib', 'LR.joblib', 'XGB.joblib'), ('DNN4.h5', 'DT.joblib', 'KNN.joblib', 'LSTM.h5', 'RF.joblib'), ('DNN4.h5', 'DT.joblib', 'KNN.joblib', 'LSTM.h5', 'SVM.joblib'), ('DNN4.h5', 'DT.joblib', 'KNN.joblib', 'LSTM.h5', 'XGB.joblib'), ('DNN4.h5', 'DT.joblib', 'KNN.joblib', 'RF.joblib', 'SVM.joblib'), ('DNN4.h5', 'DT.joblib', 'KNN.joblib', 'RF.joblib', 'XGB.joblib'), ('DNN4.h5', 'DT.joblib', 'KNN.joblib', 'SVM.joblib', 'XGB.joblib'), ('DNN4.h5', 'DT.joblib', 'LR.joblib', 'LSTM.h5', 'RF.joblib'), ('DNN4.h5', 'DT.joblib', 'LR.joblib', 'LSTM.h5', 'SVM.joblib'), ('DNN4.h5', 'DT.joblib', 'LR.joblib', 'LSTM.h5', 'XGB.joblib'), ('DNN4.h5', 'DT.joblib', 'LR.joblib', 'RF.joblib', 'SVM.joblib'), ('DNN4.h5', 'DT.joblib', 'LR.joblib', 'RF.joblib', 'XGB.joblib'), ('DNN4.h5', 'DT.joblib', 'LR.joblib', 'SVM.joblib', 'XGB.joblib'), ('DNN4.h5', 'DT.joblib', 'LSTM.h5', 'RF.joblib', 'SVM.joblib'), ('DNN4.h5', 'DT.joblib', 'LSTM.h5', 'RF.joblib', 'XGB.joblib'), ('DNN4.h5', 'DT.joblib', 'LSTM.h5', 'SVM.joblib', 'XGB.joblib'), ('DNN4.h5', 'DT.joblib', 'RF.joblib', 'SVM.joblib', 'XGB.joblib'), ('DNN4.h5', 'KNN.joblib', 'LR.joblib', 'LSTM.h5', 'RF.joblib'), ('DNN4.h5', 'KNN.joblib', 'LR.joblib', 'LSTM.h5', 'SVM.joblib'), ('DNN4.h5', 'KNN.joblib', 'LR.joblib', 'LSTM.h5', 'XGB.joblib'), ('DNN4.h5', 'KNN.joblib', 'LR.joblib', 'RF.joblib', 'SVM.joblib'), ('DNN4.h5', 'KNN.joblib', 'LR.joblib', 'RF.joblib', 'XGB.joblib'), ('DNN4.h5', 'KNN.joblib', 'LR.joblib', 'SVM.joblib', 'XGB.joblib'), ('DNN4.h5', 'KNN.joblib', 'LSTM.h5', 'RF.joblib', 'SVM.joblib'), ('DNN4.h5', 'KNN.joblib', 'LSTM.h5', 'RF.joblib', 'XGB.joblib'), ('DNN4.h5', 'KNN.joblib', 'LSTM.h5', 'SVM.joblib', 'XGB.joblib'), ('DNN4.h5', 'KNN.joblib', 'RF.joblib', 'SVM.joblib', 'XGB.joblib'), ('DNN4.h5', 'LR.joblib', 'LSTM.h5', 'RF.joblib', 'SVM.joblib'), ('DNN4.h5', 'LR.joblib', 'LSTM.h5', 'RF.joblib', 'XGB.joblib'), ('DNN4.h5', 'LR.joblib', 'LSTM.h5', 'SVM.joblib', 'XGB.joblib'), ('DNN4.h5', 'LR.joblib', 'RF.joblib', 'SVM.joblib', 'XGB.joblib'), ('DNN4.h5', 'LSTM.h5', 'RF.joblib', 'SVM.joblib', 'XGB.joblib'), ('DT.joblib', 'KNN.joblib', 'LR.joblib', 'LSTM.h5', 'RF.joblib'), ('DT.joblib', 'KNN.joblib', 'LR.joblib', 'LSTM.h5', 'SVM.joblib'), ('DT.joblib', 'KNN.joblib', 'LR.joblib', 'LSTM.h5', 'XGB.joblib'), ('DT.joblib', 'KNN.joblib', 'LR.joblib', 'RF.joblib', 'SVM.joblib'), ('DT.joblib', 'KNN.joblib', 'LR.joblib', 'RF.joblib', 'XGB.joblib'), ('DT.joblib', 'KNN.joblib', 'LR.joblib', 'SVM.joblib', 'XGB.joblib'), ('DT.joblib', 'KNN.joblib', 'LSTM.h5', 'RF.joblib', 'SVM.joblib'), ('DT.joblib', 'KNN.joblib', 'LSTM.h5', 'SVM.joblib', 'XGB.joblib'), ('DT.joblib', 'KNN.joblib', 'RF.joblib', 'SVM.joblib', 'XGB.joblib'), ('DT.joblib', 'LR.joblib', 'LSTM.h5', 'RF.joblib', 'SVM.joblib'), ('DT.joblib', 'LR.joblib', 'LSTM.h5', 'RF.joblib', 'XGB.joblib'), ('DT.joblib', 'LR.joblib', 'LSTM.h5', 'SVM.joblib', 'XGB.joblib'), ('DT.joblib', 'LR.joblib', 'RF.joblib', 'SVM.joblib', 'XGB.joblib'), ('DT.joblib', 'LSTM.h5', 'RF.joblib', 'SVM.joblib', 'XGB.joblib'), ('KNN.joblib', 'LR.joblib', 'LSTM.h5', 'RF.joblib', 'SVM.joblib'), ('KNN.joblib', 'LR.joblib', 'LSTM.h5', 'RF.joblib', 'XGB.joblib'), ('KNN.joblib', 'LR.joblib', 'LSTM.h5', 'SVM.joblib', 'XGB.joblib'), ('KNN.joblib', 'LR.joblib', 'RF.joblib', 'SVM.joblib', 'XGB.joblib'), ('KNN.joblib', 'LSTM.h5', 'RF.joblib', 'SVM.joblib', 'XGB.joblib'), ('LR.joblib', 'LSTM.h5', 'RF.joblib', 'SVM.joblib', 'XGB.joblib')]\n",
      "[('CNN.h5', 'DNN4.h5', 'DT.joblib', 'KNN.joblib', 'LR.joblib'), ('CNN.h5', 'DNN4.h5', 'DT.joblib', 'KNN.joblib', 'LSTM.h5'), ('CNN.h5', 'DNN4.h5', 'DT.joblib', 'KNN.joblib', 'SVM.joblib'), ('CNN.h5', 'DNN4.h5', 'DT.joblib', 'LR.joblib', 'LSTM.h5'), ('CNN.h5', 'DNN4.h5', 'DT.joblib', 'LR.joblib', 'RF.joblib'), ('CNN.h5', 'DNN4.h5', 'DT.joblib', 'LR.joblib', 'SVM.joblib'), ('CNN.h5', 'DNN4.h5', 'DT.joblib', 'LR.joblib', 'XGB.joblib'), ('CNN.h5', 'DNN4.h5', 'DT.joblib', 'LSTM.h5', 'SVM.joblib'), ('CNN.h5', 'DNN4.h5', 'DT.joblib', 'LSTM.h5', 'XGB.joblib'), ('CNN.h5', 'DNN4.h5', 'DT.joblib', 'RF.joblib', 'SVM.joblib'), ('CNN.h5', 'DNN4.h5', 'DT.joblib', 'SVM.joblib', 'XGB.joblib'), ('CNN.h5', 'DNN4.h5', 'KNN.joblib', 'LR.joblib', 'LSTM.h5'), ('CNN.h5', 'DNN4.h5', 'KNN.joblib', 'LR.joblib', 'RF.joblib'), ('CNN.h5', 'DNN4.h5', 'KNN.joblib', 'LR.joblib', 'SVM.joblib'), ('CNN.h5', 'DNN4.h5', 'KNN.joblib', 'LR.joblib', 'XGB.joblib'), ('CNN.h5', 'DNN4.h5', 'KNN.joblib', 'LSTM.h5', 'RF.joblib'), ('CNN.h5', 'DNN4.h5', 'KNN.joblib', 'LSTM.h5', 'SVM.joblib'), ('CNN.h5', 'DNN4.h5', 'KNN.joblib', 'LSTM.h5', 'XGB.joblib'), ('CNN.h5', 'DNN4.h5', 'KNN.joblib', 'RF.joblib', 'SVM.joblib'), ('CNN.h5', 'DNN4.h5', 'KNN.joblib', 'SVM.joblib', 'XGB.joblib'), ('CNN.h5', 'DNN4.h5', 'LR.joblib', 'LSTM.h5', 'RF.joblib'), ('CNN.h5', 'DNN4.h5', 'LR.joblib', 'LSTM.h5', 'SVM.joblib'), ('CNN.h5', 'DNN4.h5', 'LR.joblib', 'LSTM.h5', 'XGB.joblib'), ('CNN.h5', 'DNN4.h5', 'LR.joblib', 'RF.joblib', 'XGB.joblib'), ('CNN.h5', 'DNN4.h5', 'LR.joblib', 'SVM.joblib', 'XGB.joblib'), ('CNN.h5', 'DNN4.h5', 'LSTM.h5', 'RF.joblib', 'SVM.joblib'), ('CNN.h5', 'DNN4.h5', 'LSTM.h5', 'RF.joblib', 'XGB.joblib'), ('CNN.h5', 'DNN4.h5', 'LSTM.h5', 'SVM.joblib', 'XGB.joblib'), ('CNN.h5', 'DNN4.h5', 'RF.joblib', 'SVM.joblib', 'XGB.joblib'), ('CNN.h5', 'DT.joblib', 'KNN.joblib', 'LR.joblib', 'LSTM.h5'), ('CNN.h5', 'DT.joblib', 'KNN.joblib', 'LR.joblib', 'RF.joblib'), ('CNN.h5', 'DT.joblib', 'KNN.joblib', 'LR.joblib', 'SVM.joblib'), ('CNN.h5', 'DT.joblib', 'KNN.joblib', 'LR.joblib', 'XGB.joblib'), ('CNN.h5', 'DT.joblib', 'KNN.joblib', 'LSTM.h5', 'SVM.joblib'), ('CNN.h5', 'DT.joblib', 'KNN.joblib', 'RF.joblib', 'SVM.joblib'), ('CNN.h5', 'DT.joblib', 'KNN.joblib', 'SVM.joblib', 'XGB.joblib'), ('CNN.h5', 'DT.joblib', 'LR.joblib', 'LSTM.h5', 'RF.joblib'), ('CNN.h5', 'DT.joblib', 'LR.joblib', 'LSTM.h5', 'SVM.joblib'), ('CNN.h5', 'DT.joblib', 'LR.joblib', 'LSTM.h5', 'XGB.joblib'), ('CNN.h5', 'DT.joblib', 'LR.joblib', 'RF.joblib', 'SVM.joblib'), ('CNN.h5', 'DT.joblib', 'LR.joblib', 'RF.joblib', 'XGB.joblib'), ('CNN.h5', 'DT.joblib', 'LR.joblib', 'SVM.joblib', 'XGB.joblib'), ('CNN.h5', 'DT.joblib', 'LSTM.h5', 'RF.joblib', 'SVM.joblib'), ('CNN.h5', 'DT.joblib', 'LSTM.h5', 'SVM.joblib', 'XGB.joblib'), ('CNN.h5', 'DT.joblib', 'RF.joblib', 'SVM.joblib', 'XGB.joblib'), ('CNN.h5', 'KNN.joblib', 'LR.joblib', 'LSTM.h5', 'RF.joblib'), ('CNN.h5', 'KNN.joblib', 'LR.joblib', 'LSTM.h5', 'SVM.joblib'), ('CNN.h5', 'KNN.joblib', 'LR.joblib', 'LSTM.h5', 'XGB.joblib'), ('CNN.h5', 'KNN.joblib', 'LR.joblib', 'RF.joblib', 'SVM.joblib'), ('CNN.h5', 'KNN.joblib', 'LR.joblib', 'RF.joblib', 'XGB.joblib'), ('CNN.h5', 'KNN.joblib', 'LR.joblib', 'SVM.joblib', 'XGB.joblib'), ('CNN.h5', 'KNN.joblib', 'LSTM.h5', 'RF.joblib', 'SVM.joblib'), ('CNN.h5', 'KNN.joblib', 'LSTM.h5', 'SVM.joblib', 'XGB.joblib'), ('CNN.h5', 'KNN.joblib', 'RF.joblib', 'SVM.joblib', 'XGB.joblib'), ('CNN.h5', 'LR.joblib', 'LSTM.h5', 'RF.joblib', 'SVM.joblib'), ('CNN.h5', 'LR.joblib', 'LSTM.h5', 'RF.joblib', 'XGB.joblib'), ('CNN.h5', 'LR.joblib', 'LSTM.h5', 'SVM.joblib', 'XGB.joblib'), ('CNN.h5', 'LR.joblib', 'RF.joblib', 'SVM.joblib', 'XGB.joblib'), ('CNN.h5', 'LSTM.h5', 'RF.joblib', 'SVM.joblib', 'XGB.joblib'), ('DNN4.h5', 'DT.joblib', 'KNN.joblib', 'LR.joblib', 'LSTM.h5'), ('DNN4.h5', 'DT.joblib', 'KNN.joblib', 'LR.joblib', 'RF.joblib'), ('DNN4.h5', 'DT.joblib', 'KNN.joblib', 'LR.joblib', 'SVM.joblib'), ('DNN4.h5', 'DT.joblib', 'KNN.joblib', 'LR.joblib', 'XGB.joblib'), ('DNN4.h5', 'DT.joblib', 'KNN.joblib', 'LSTM.h5', 'RF.joblib'), ('DNN4.h5', 'DT.joblib', 'KNN.joblib', 'LSTM.h5', 'SVM.joblib'), ('DNN4.h5', 'DT.joblib', 'KNN.joblib', 'LSTM.h5', 'XGB.joblib'), ('DNN4.h5', 'DT.joblib', 'KNN.joblib', 'RF.joblib', 'SVM.joblib'), ('DNN4.h5', 'DT.joblib', 'KNN.joblib', 'RF.joblib', 'XGB.joblib'), ('DNN4.h5', 'DT.joblib', 'KNN.joblib', 'SVM.joblib', 'XGB.joblib'), ('DNN4.h5', 'DT.joblib', 'LR.joblib', 'LSTM.h5', 'RF.joblib'), ('DNN4.h5', 'DT.joblib', 'LR.joblib', 'LSTM.h5', 'SVM.joblib'), ('DNN4.h5', 'DT.joblib', 'LR.joblib', 'LSTM.h5', 'XGB.joblib'), ('DNN4.h5', 'DT.joblib', 'LR.joblib', 'RF.joblib', 'SVM.joblib'), ('DNN4.h5', 'DT.joblib', 'LR.joblib', 'RF.joblib', 'XGB.joblib'), ('DNN4.h5', 'DT.joblib', 'LR.joblib', 'SVM.joblib', 'XGB.joblib'), ('DNN4.h5', 'DT.joblib', 'LSTM.h5', 'RF.joblib', 'SVM.joblib'), ('DNN4.h5', 'DT.joblib', 'LSTM.h5', 'RF.joblib', 'XGB.joblib'), ('DNN4.h5', 'DT.joblib', 'LSTM.h5', 'SVM.joblib', 'XGB.joblib'), ('DNN4.h5', 'DT.joblib', 'RF.joblib', 'SVM.joblib', 'XGB.joblib'), ('DNN4.h5', 'KNN.joblib', 'LR.joblib', 'LSTM.h5', 'RF.joblib'), ('DNN4.h5', 'KNN.joblib', 'LR.joblib', 'LSTM.h5', 'SVM.joblib'), ('DNN4.h5', 'KNN.joblib', 'LR.joblib', 'LSTM.h5', 'XGB.joblib'), ('DNN4.h5', 'KNN.joblib', 'LR.joblib', 'RF.joblib', 'SVM.joblib'), ('DNN4.h5', 'KNN.joblib', 'LR.joblib', 'RF.joblib', 'XGB.joblib'), ('DNN4.h5', 'KNN.joblib', 'LR.joblib', 'SVM.joblib', 'XGB.joblib'), ('DNN4.h5', 'KNN.joblib', 'LSTM.h5', 'RF.joblib', 'SVM.joblib'), ('DNN4.h5', 'KNN.joblib', 'LSTM.h5', 'RF.joblib', 'XGB.joblib'), ('DNN4.h5', 'KNN.joblib', 'LSTM.h5', 'SVM.joblib', 'XGB.joblib'), ('DNN4.h5', 'KNN.joblib', 'RF.joblib', 'SVM.joblib', 'XGB.joblib'), ('DNN4.h5', 'LR.joblib', 'LSTM.h5', 'RF.joblib', 'SVM.joblib'), ('DNN4.h5', 'LR.joblib', 'LSTM.h5', 'RF.joblib', 'XGB.joblib'), ('DNN4.h5', 'LR.joblib', 'LSTM.h5', 'SVM.joblib', 'XGB.joblib'), ('DNN4.h5', 'LR.joblib', 'RF.joblib', 'SVM.joblib', 'XGB.joblib'), ('DNN4.h5', 'LSTM.h5', 'RF.joblib', 'SVM.joblib', 'XGB.joblib'), ('DT.joblib', 'KNN.joblib', 'LR.joblib', 'LSTM.h5', 'RF.joblib'), ('DT.joblib', 'KNN.joblib', 'LR.joblib', 'LSTM.h5', 'SVM.joblib'), ('DT.joblib', 'KNN.joblib', 'LR.joblib', 'LSTM.h5', 'XGB.joblib'), ('DT.joblib', 'KNN.joblib', 'LR.joblib', 'RF.joblib', 'SVM.joblib'), ('DT.joblib', 'KNN.joblib', 'LR.joblib', 'RF.joblib', 'XGB.joblib'), ('DT.joblib', 'KNN.joblib', 'LR.joblib', 'SVM.joblib', 'XGB.joblib'), ('DT.joblib', 'KNN.joblib', 'LSTM.h5', 'RF.joblib', 'SVM.joblib'), ('DT.joblib', 'KNN.joblib', 'LSTM.h5', 'SVM.joblib', 'XGB.joblib'), ('DT.joblib', 'KNN.joblib', 'RF.joblib', 'SVM.joblib', 'XGB.joblib'), ('DT.joblib', 'LR.joblib', 'LSTM.h5', 'RF.joblib', 'SVM.joblib'), ('DT.joblib', 'LR.joblib', 'LSTM.h5', 'RF.joblib', 'XGB.joblib'), ('DT.joblib', 'LR.joblib', 'LSTM.h5', 'SVM.joblib', 'XGB.joblib'), ('DT.joblib', 'LR.joblib', 'RF.joblib', 'SVM.joblib', 'XGB.joblib'), ('DT.joblib', 'LSTM.h5', 'RF.joblib', 'SVM.joblib', 'XGB.joblib'), ('KNN.joblib', 'LR.joblib', 'LSTM.h5', 'RF.joblib', 'SVM.joblib'), ('KNN.joblib', 'LR.joblib', 'LSTM.h5', 'RF.joblib', 'XGB.joblib'), ('KNN.joblib', 'LR.joblib', 'LSTM.h5', 'SVM.joblib', 'XGB.joblib'), ('KNN.joblib', 'LR.joblib', 'RF.joblib', 'SVM.joblib', 'XGB.joblib'), ('KNN.joblib', 'LSTM.h5', 'RF.joblib', 'SVM.joblib', 'XGB.joblib'), ('LR.joblib', 'LSTM.h5', 'RF.joblib', 'SVM.joblib', 'XGB.joblib')]\n",
      "[0.9612894283474631, 0.9818263600448334, 0.9612894283474631, 0.9533751719938208, 0.9323676832770776, 0.9268427932095976, 0.9623396047376057, 0.9533751719938208, 0.9815810612122006, 0.9323676832770776, 0.9623396047376057, 0.9496897453765536, 0.9323676832770776, 0.9268873526227412, 0.9579316261636808, 0.9714848491596721, 0.9496897453765536, 0.979168483488954, 0.9323676832770776, 0.9579316261636808, 0.9322340240547614, 0.9268873526227412, 0.9502263077816603, 0.9323231302222027, 0.9268650729267421, 0.9322340240547614, 0.9720692272463113, 0.9502263077816603, 0.9323231302222027, 0.9830507421739871, 0.953996343616992, 0.9320558114741209, 0.9840543512668627, 0.9830507421739871, 0.953996343616992, 0.9840543512668627, 0.954040952513825, 0.931877598537249, 0.9841472529242649, 0.9320558114741209, 0.953996343616992, 0.9320112582746382, 0.954040952513825, 0.9841472529242649, 0.953996343616992, 0.9539738100496434, 0.9319221518067374, 0.9797253544290846, 0.9321003646513395, 0.953996343616992, 0.932033534877196, 0.9539738100496434, 0.9797253544290846, 0.953996343616992, 0.9319221518067374, 0.953996343616992, 0.931877598537249, 0.932033534877196, 0.953996343616992, 0.98298364424626, 0.953996343616992, 0.9268427932095976, 0.9840096588148732, 0.9830282995591346, 0.98298364424626, 0.9835256498712949, 0.953996343616992, 0.9840990438555964, 0.9840096588148732, 0.954018648033034, 0.9268427932095976, 0.9840801605469299, 0.9268427932095976, 0.9539517349788835, 0.9268427932095976, 0.954018648033034, 0.9841471952203215, 0.9840801605469299, 0.9539517349788835, 0.9539515057452739, 0.9268873526227412, 0.9796806248622225, 0.9268873526227412, 0.9539517349788835, 0.9268650729267421, 0.9539515057452739, 0.9797029445142736, 0.9796806248622225, 0.9539517349788835, 0.9268873526227412, 0.9539740392656313, 0.9268650729267421, 0.9268650729267421, 0.9539740392656313, 0.9761303155029609, 0.9759740135987681, 0.9836355745593005, 0.9539517349788835, 0.9840766975441029, 0.9839873126399892, 0.9761303155029609, 0.9836355745593005, 0.9840766975441029, 0.9539071265989562, 0.9772953569572944, 0.9771613208243881, 0.9539294307566814, 0.9772953569572944, 0.9538845932197046, 0.9738135028866537, 0.9737018838205684, 0.9539294307566814, 0.9738135028866537, 0.953884822505641]\n",
      "best_team, best_team_f1 ('CNN.h5', 'DT.joblib', 'LR.joblib', 'LSTM.h5', 'XGB.joblib') 0.9841472529242649\n"
     ]
    }
   ],
   "source": [
    "ensemble_learning(5)"
   ]
  }
 ],
 "metadata": {
  "kernelspec": {
   "display_name": "Python 3.8.13 ('Adversarial_attack_')",
   "language": "python",
   "name": "python3"
  },
  "language_info": {
   "codemirror_mode": {
    "name": "ipython",
    "version": 3
   },
   "file_extension": ".py",
   "mimetype": "text/x-python",
   "name": "python",
   "nbconvert_exporter": "python",
   "pygments_lexer": "ipython3",
   "version": "3.8.13"
  },
  "orig_nbformat": 4,
  "vscode": {
   "interpreter": {
    "hash": "8dab91cb55a779ebb65e73a37577434c9648b8bfd406d9f159bac9d9fb993402"
   }
  }
 },
 "nbformat": 4,
 "nbformat_minor": 2
}
