{
 "cells": [
  {
   "cell_type": "code",
   "execution_count": 1,
   "metadata": {},
   "outputs": [],
   "source": [
    "import os \n",
    "import sys\n",
    "import pandas as pd\n",
    "import numpy as np\n",
    "import can\n",
    "import glob, os, sys"
   ]
  },
  {
   "cell_type": "code",
   "execution_count": 12,
   "metadata": {},
   "outputs": [],
   "source": [
    "os.chdir(sys.path[0] + '/Dataset/logs')\n",
    "\n",
    "for files in glob.glob(\"*.log\"):\n",
    "    file_path = os.path.join(sys.path[0],\"Dataset\")\n",
    "    with open(os.path.join(file_path,\"logs\",files),\"r\") as file:\n",
    "        lines = file.read().splitlines()\n",
    "        for i in range(len(lines)):\n",
    "            lines[i] = lines[i].replace(\" \",\",\")\n",
    "            lines[i] = lines[i].replace(\"#\",\",\")\n",
    "            lines[i] = lines[i].replace(\"(\",\"\")\n",
    "            lines[i] = lines[i].replace(\")\",\"\")\n",
    "            lines[i] = lines[i].split(\",\")\n",
    "            lines[i][2] = int(lines[i][2], 16)\n",
    "            chunk, chunk_size = len(lines[i][3]), 2\n",
    "            x = [int(lines[i][3][j:j+chunk_size], 16) for j in range(0, chunk, chunk_size)]\n",
    "            del lines[i][3]\n",
    "            lines[i] = lines[i] + x\n",
    "            lines[i][0] = float(lines[i][0])\n",
    "\n",
    "            #Dos attack\n",
    "            if files == \"DoS_attack.log\":\n",
    "                if lines[i][2] != 0: # beingn\n",
    "                    lines[i].append(int(0))\n",
    "                else:                # malicious\n",
    "                    lines[i].append(int(1))\n",
    "            else:\n",
    "                if lines[i][len(lines[i])-1] == 0: # beingn\n",
    "                    lines[i].append(int(0))\n",
    "                else:                # malicious\n",
    "                    lines[i][len(lines[i])-1] = 0\n",
    "                    if lines[i][2] == 487:\n",
    "                        lines[i] = lines[i] + [0,0,0,0]\n",
    "                    lines[i].append(int(1))\n",
    "        for i in range(1,len(lines)):\n",
    "            lines[len(lines)-i][0] = lines[len(lines)-i][0] - lines[len(lines)-i-1][0]\n",
    "        df = pd.DataFrame(lines)\n",
    "        df.fillna(0, inplace=True)\n",
    "        df.drop([1], axis=1, inplace=True)\n",
    "        df.drop([0,len(df.index)-1], axis=0, inplace=True)\n",
    "        df.to_csv(os.path.join(file_path, \"csv\", files.replace(\".log\",\".csv\")), index=False, header=False)"
   ]
  },
  {
   "cell_type": "code",
   "execution_count": 11,
   "metadata": {},
   "outputs": [
    {
     "name": "stdout",
     "output_type": "stream",
     "text": [
      "[1664352024.250551, 'vcan0', 501, 0, 200, 0, 0, 0, 0, 0, 1]\n",
      "[1664352024.262028, 'vcan0', 501, 0, 0, 0, 0, 0, 0, 0, 0]\n",
      "[1664352024.262042, 'vcan0', 487, 0, 0, 0, 0, 0, 0, 0, 0]\n",
      "[1664352024.262044, 'vcan0', 330, 0, 0, 0, 0, 0, 0, 0, 0]\n",
      "[1664352024.277992, 'vcan0', 501, 0, 0, 0, 0, 0, 0, 0, 0]\n",
      "[1664352024.278063, 'vcan0', 487, 0, 0, 0, 0, 0, 0, 0, 0]\n",
      "[1664352024.278076, 'vcan0', 330, 0, 0, 0, 0, 0, 0, 0, 0]\n",
      "[1664352024.296107, 'vcan0', 501, 0, 0, 0, 0, 0, 0, 0, 0]\n",
      "[1664352024.296163, 'vcan0', 487, 0, 0, 0, 0, 0, 0, 0, 0]\n",
      "[1664352024.296174, 'vcan0', 330, 0, 0, 0, 0, 0, 0, 0, 0]\n",
      "[1664352024.30136, 'vcan0', 501, 0, 200, 0, 0, 0, 0, 0, 1]\n",
      "[1664352024.351091, 'vcan0', 501, 0, 200, 0, 0, 0, 0, 0, 1]\n",
      "[1664352024.40175, 'vcan0', 501, 0, 200, 0, 0, 0, 0, 0, 1]\n",
      "[1664352024.451257, 'vcan0', 501, 0, 200, 0, 0, 0, 0, 0, 1]\n",
      "[1664352024.501763, 'vcan0', 501, 0, 200, 0, 0, 0, 0, 0, 1]\n",
      "[1664352024.551265, 'vcan0', 501, 0, 200, 0, 0, 0, 0, 0, 1]\n",
      "[1664352024.601845, 'vcan0', 501, 0, 200, 0, 0, 0, 0, 0, 1]\n",
      "[1664352024.651545, 'vcan0', 501, 0, 200, 0, 0, 0, 0, 0, 1]\n",
      "[1664352024.702197, 'vcan0', 501, 0, 200, 0, 0, 0, 0, 0, 1]\n",
      "[1664352024.752777, 'vcan0', 501, 0, 200, 0, 0, 0, 0, 0, 1]\n",
      "[1664352024.802353, 'vcan0', 501, 0, 200, 0, 0, 0, 0, 0, 1]\n",
      "[1664352024.852942, 'vcan0', 501, 0, 200, 0, 0, 0, 0, 0, 1]\n",
      "[1664352024.902525, 'vcan0', 501, 0, 200, 0, 0, 0, 0, 0, 1]\n",
      "[1664352024.953134, 'vcan0', 501, 0, 200, 0, 0, 0, 0, 0, 1]\n",
      "[1664352025.002619, 'vcan0', 501, 0, 200, 0, 0, 0, 0, 0, 1]\n",
      "[1664352025.053154, 'vcan0', 501, 0, 200, 0, 0, 0, 0, 0, 1]\n",
      "[1664352025.103787, 'vcan0', 501, 0, 200, 0, 0, 0, 0, 0, 1]\n",
      "[1664352025.153372, 'vcan0', 501, 0, 200, 0, 0, 0, 0, 0, 1]\n",
      "[1664352025.204, 'vcan0', 501, 0, 200, 0, 0, 0, 0, 0, 1]\n",
      "[1664352025.253476, 'vcan0', 501, 0, 200, 0, 0, 0, 0, 0, 1]\n",
      "[1664352025.304055, 'vcan0', 501, 0, 200, 0, 0, 0, 0, 0, 1]\n",
      "[1664352025.354618, 'vcan0', 501, 0, 200, 0, 0, 0, 0, 0, 1]\n",
      "[1664352025.404093, 'vcan0', 501, 0, 200, 0, 0, 0, 0, 0, 1]\n",
      "[1664352025.454614, 'vcan0', 501, 0, 200, 0, 0, 0, 0, 0, 1]\n",
      "[1664352025.505151, 'vcan0', 501, 0, 200, 0, 0, 0, 0, 0, 1]\n",
      "[1664352025.506219, 'vcan0', 501, 0, 200, 0, 0, 0, 0, 0, 1]\n",
      "[1664352025.555654, 'vcan0', 501, 0, 200, 0, 0, 0, 0, 0, 1]\n",
      "[1664352025.60618, 'vcan0', 501, 0, 200, 0, 0, 0, 0, 0, 1]\n"
     ]
    }
   ],
   "source": [
    "# with open(\"./Dataset/logs/123.log\",\"r\") as file:\n",
    "#     lines = file.read().splitlines()\n",
    "#     for i in range(len(lines)):\n",
    "#         lines[i] = lines[i].replace(\" \",\",\")\n",
    "#         lines[i] = lines[i].replace(\"#\",\",\")\n",
    "#         lines[i] = lines[i].replace(\"(\",\"\")\n",
    "#         lines[i] = lines[i].replace(\")\",\"\")\n",
    "#         lines[i] = lines[i].split(\",\")\n",
    "#         lines[i][2] = int(lines[i][2], 16)\n",
    "#         chunk, chunk_size = len(lines[i][3]), 2\n",
    "#         x = [int(lines[i][3][j:j+chunk_size], 16) for j in range(0, chunk, chunk_size)]\n",
    "#         del lines[i][3]\n",
    "#         lines[i] = lines[i] + x\n",
    "#         lines[i][0] = float(lines[i][0])\n",
    "#         if lines[i][2] == 487:\n",
    "#             lines[i] = lines[i] + list([0,0,0,0])\n",
    "#         print(lines[i])\n",
    "#         if lines[i][len(lines[i])-1] == 0: # beingn\n",
    "#             lines[i].append(int(0))\n",
    "#         else:                # malicious\n",
    "#             lines[i].append(int(1))\n",
    "\n",
    "#     # for i in range(1,len(lines)):\n",
    "#     #     lines[len(lines)-i][0] = lines[len(lines)-i][0] - lines[len(lines)-i-1][0]\n",
    "#     # df = pd.DataFrame(lines)\n",
    "#     # df.fillna(0, inplace=True)\n",
    "#     # df.drop([1], axis=1, inplace=True)\n",
    "#     # df.drop([0,len(df.index)-1], axis=0, inplace=True)\n",
    "#     # df.to_csv(os.path.join(file_path, \"csv\", files.replace(\".log\",\".csv\")), index=False, header=False)"
   ]
  },
  {
   "cell_type": "code",
   "execution_count": null,
   "metadata": {},
   "outputs": [],
   "source": []
  }
 ],
 "metadata": {
  "kernelspec": {
   "display_name": "Python 3.8.13 ('Adversarial_attack_')",
   "language": "python",
   "name": "python3"
  },
  "language_info": {
   "codemirror_mode": {
    "name": "ipython",
    "version": 3
   },
   "file_extension": ".py",
   "mimetype": "text/x-python",
   "name": "python",
   "nbconvert_exporter": "python",
   "pygments_lexer": "ipython3",
   "version": "3.8.13"
  },
  "orig_nbformat": 4,
  "vscode": {
   "interpreter": {
    "hash": "8dab91cb55a779ebb65e73a37577434c9648b8bfd406d9f159bac9d9fb993402"
   }
  }
 },
 "nbformat": 4,
 "nbformat_minor": 2
}
