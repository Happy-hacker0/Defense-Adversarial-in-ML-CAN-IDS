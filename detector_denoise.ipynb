{
 "cells": [
  {
   "cell_type": "code",
   "execution_count": 1,
   "metadata": {},
   "outputs": [],
   "source": [
    "import os\n",
    "import time\n",
    "import numpy as np\n",
    "import pandas as pd\n",
    "from numpy import newaxis\n",
    "from sklearn.model_selection import train_test_split\n",
    "import glob\n",
    "import matplotlib.pyplot as plt\n",
    "import PIL"
   ]
  },
  {
   "cell_type": "code",
   "execution_count": 2,
   "metadata": {},
   "outputs": [
    {
     "name": "stdout",
     "output_type": "stream",
     "text": [
      "tensorflow version: 2.5.0\n",
      "tensorflow version: 2.5.0\n"
     ]
    }
   ],
   "source": [
    "import tensorflow as tf\n",
    "\n",
    "print(f\"tensorflow version: {tf.__version__}\")\n",
    "print(f\"tensorflow version: {tf.keras.__version__}\")"
   ]
  },
  {
   "cell_type": "code",
   "execution_count": 57,
   "metadata": {},
   "outputs": [],
   "source": [
    "# Import normal Dataset\n",
    "def import_dataset(filename = \"./Dataset/csv/Attacked/Original_X_test.csv\"):\n",
    "    with open(filename, newline='') as csvfile:\n",
    "        rows = pd.read_csv(csvfile,header=None)\n",
    "        X_train, X_test = train_test_split(rows, test_size=0.2)\n",
    "        X_train = np.array(X_train)\n",
    "        X_test = np.array(X_test)\n",
    "        X_train_ex = X_train[:, :, newaxis]\n",
    "        X_test_ex = X_test[:, :, newaxis]\n",
    "    return X_train, X_test, X_train_ex, X_test_ex"
   ]
  },
  {
   "cell_type": "code",
   "execution_count": 58,
   "metadata": {},
   "outputs": [],
   "source": [
    "X_train, X_test, X_train_ex, X_test_ex = import_dataset()"
   ]
  },
  {
   "cell_type": "code",
   "execution_count": 27,
   "metadata": {},
   "outputs": [
    {
     "data": {
      "text/plain": [
       "'0b100000001110100101000000000000000000000000000000000000000000000'"
      ]
     },
     "execution_count": 27,
     "metadata": {},
     "output_type": "execute_result"
    }
   ],
   "source": [
    "import ctypes\n",
    "bin(ctypes.c_uint64.from_buffer(ctypes.c_double(1C6C000000000000)).value)"
   ]
  },
  {
   "cell_type": "code",
   "execution_count": 38,
   "metadata": {},
   "outputs": [
    {
     "name": "stdout",
     "output_type": "stream",
     "text": [
      "[5.39e-03 5.01e+02 0.00e+00 1.00e+02 0.00e+00 0.00e+00 0.00e+00 0.00e+00\n",
      " 0.00e+00 0.00e+00]\n",
      "0\n",
      "111110101\n",
      "0\n",
      "1100100\n",
      "0\n",
      "0\n",
      "0\n",
      "0\n",
      "0\n",
      "0\n"
     ]
    }
   ],
   "source": [
    "print(X_train[2])\n",
    "for i in X_train[2]:\n",
    "    print(\"{0:b}\".format(int(i)))"
   ]
  },
  {
   "cell_type": "code",
   "execution_count": 63,
   "metadata": {},
   "outputs": [
    {
     "name": "stdout",
     "output_type": "stream",
     "text": [
      "Model: \"model_3\"\n",
      "_________________________________________________________________\n",
      "Layer (type)                 Output Shape              Param #   \n",
      "=================================================================\n",
      "input_5 (InputLayer)         [(None, 10)]              0         \n",
      "_________________________________________________________________\n",
      "dense_17 (Dense)             (None, 10)                110       \n",
      "_________________________________________________________________\n",
      "dense_18 (Dense)             (None, 8)                 88        \n",
      "_________________________________________________________________\n",
      "latent_space (Dense)         (None, 2)                 18        \n",
      "_________________________________________________________________\n",
      "dense_19 (Dense)             (None, 8)                 24        \n",
      "_________________________________________________________________\n",
      "dense_20 (Dense)             (None, 10)                90        \n",
      "_________________________________________________________________\n",
      "dense_21 (Dense)             (None, 10)                110       \n",
      "=================================================================\n",
      "Total params: 440\n",
      "Trainable params: 440\n",
      "Non-trainable params: 0\n",
      "_________________________________________________________________\n"
     ]
    }
   ],
   "source": [
    "from keras.models import Sequential\n",
    "\n",
    "input_img = tf.keras.layers.Input(shape = (X_train.shape[1],))\n",
    "encoder = tf.keras.layers.Dense(10, activation='relu')(input_img)\n",
    "encoder = tf.keras.layers.Dense(8, activation='relu')(encoder)\n",
    "encoder = tf.keras.layers.Dense(2, activation='relu', name=\"latent_space\")(encoder)\n",
    "\n",
    "decoder = tf.keras.layers.Dense(8, activation='relu')(encoder)\n",
    "decoder = tf.keras.layers.Dense(10, activation='relu')(decoder)\n",
    "decoder = tf.keras.layers.Dense(X_train.shape[1], activation='relu')(decoder)\n",
    "\n",
    "autoencoder = tf.keras.models.Model(input_img, decoder)\n",
    "autoencoder.compile(loss='binary_crossentropy', optimizer= 'adam')\n",
    "\n",
    "autoencoder.summary()"
   ]
  },
  {
   "cell_type": "code",
   "execution_count": 47,
   "metadata": {},
   "outputs": [
    {
     "name": "stdout",
     "output_type": "stream",
     "text": [
      "Epoch 1/10\n",
      "140/140 [==============================] - 1s 5ms/step - loss: 447.8049 - val_loss: 450.0454\n",
      "Epoch 2/10\n",
      "140/140 [==============================] - 1s 4ms/step - loss: 447.8049 - val_loss: 450.0454\n",
      "Epoch 3/10\n",
      "140/140 [==============================] - 1s 4ms/step - loss: 447.8048 - val_loss: 450.0454\n",
      "Epoch 4/10\n",
      "140/140 [==============================] - 1s 4ms/step - loss: 447.8050 - val_loss: 450.0454\n",
      "Epoch 5/10\n",
      "140/140 [==============================] - 1s 4ms/step - loss: 447.8049 - val_loss: 450.0454\n",
      "Epoch 6/10\n",
      "140/140 [==============================] - 1s 4ms/step - loss: 447.8050 - val_loss: 450.0454\n",
      "Epoch 7/10\n",
      "140/140 [==============================] - 1s 4ms/step - loss: 447.8048 - val_loss: 450.0454\n",
      "Epoch 8/10\n",
      "140/140 [==============================] - 1s 4ms/step - loss: 447.8049 - val_loss: 450.0454\n",
      "Epoch 9/10\n",
      "140/140 [==============================] - 1s 4ms/step - loss: 447.8049 - val_loss: 450.0454\n",
      "Epoch 10/10\n",
      "140/140 [==============================] - 1s 4ms/step - loss: 447.8049 - val_loss: 450.0454\n"
     ]
    },
    {
     "data": {
      "text/plain": [
       "<tensorflow.python.keras.callbacks.History at 0x216f2351370>"
      ]
     },
     "execution_count": 47,
     "metadata": {},
     "output_type": "execute_result"
    }
   ],
   "source": [
    "autoencoder.fit(X_train ,X_train ,epochs=10, batch_size=256,validation_data=(X_test, X_test))"
   ]
  },
  {
   "cell_type": "code",
   "execution_count": 48,
   "metadata": {},
   "outputs": [],
   "source": [
    "decode_msg = autoencoder.predict(X_test)"
   ]
  },
  {
   "cell_type": "code",
   "execution_count": 51,
   "metadata": {},
   "outputs": [
    {
     "data": {
      "text/plain": [
       "array([ 0.      ,  0.      ,  0.      , 12.861246, 34.474308, 31.388147,\n",
       "        0.      , 44.982544, 17.23376 , 31.459887], dtype=float32)"
      ]
     },
     "execution_count": 51,
     "metadata": {},
     "output_type": "execute_result"
    }
   ],
   "source": [
    "decode_msg[0]"
   ]
  },
  {
   "cell_type": "code",
   "execution_count": 52,
   "metadata": {},
   "outputs": [
    {
     "data": {
      "text/plain": [
       "array([1.91e-06, 3.30e+02, 0.00e+00, 0.00e+00, 0.00e+00, 0.00e+00,\n",
       "       0.00e+00, 0.00e+00, 0.00e+00, 0.00e+00])"
      ]
     },
     "execution_count": 52,
     "metadata": {},
     "output_type": "execute_result"
    }
   ],
   "source": [
    "X_test[0]"
   ]
  },
  {
   "cell_type": "code",
   "execution_count": 83,
   "metadata": {},
   "outputs": [
    {
     "name": "stdout",
     "output_type": "stream",
     "text": [
      "Model: \"model_15\"\n",
      "_________________________________________________________________\n",
      "Layer (type)                 Output Shape              Param #   \n",
      "=================================================================\n",
      "input_7 (InputLayer)         [(None, 10, 1)]           0         \n",
      "_________________________________________________________________\n",
      "conv1d_76 (Conv1D)           (None, 10, 100)           600       \n",
      "_________________________________________________________________\n",
      "conv1d_77 (Conv1D)           (None, 10, 50)            25050     \n",
      "_________________________________________________________________\n",
      "conv1d_78 (Conv1D)           (None, 10, 50)            12550     \n",
      "_________________________________________________________________\n",
      "conv1d_79 (Conv1D)           (None, 10, 100)           25100     \n",
      "_________________________________________________________________\n",
      "dense_31 (Dense)             (None, 10, 1)             101       \n",
      "=================================================================\n",
      "Total params: 63,401\n",
      "Trainable params: 63,401\n",
      "Non-trainable params: 0\n",
      "_________________________________________________________________\n"
     ]
    }
   ],
   "source": [
    "from keras.models import Sequential\n",
    "from keras.layers import Dense, Dropout, Activation, Conv1D, Conv2D, MaxPooling1D, MaxPooling2D, Embedding, GlobalAveragePooling1D, Flatten\n",
    "from keras.models import Sequential\n",
    "from keras.layers import Dense,Dropout,Flatten,Conv1D,MaxPool1D\n",
    "\n",
    "tf.compat.v1.disable_eager_execution()\n",
    "config = tf.compat.v1.ConfigProto()\n",
    "config.gpu_options.allow_growth = True\n",
    "sess = tf.compat.v1.Session(config=config)\n",
    "# model = Sequential()\n",
    "# model.add(Conv1D(filters=100, kernel_size=5, padding='same',activation='relu',strides=1, input_shape=(X_train_ex.shape[1],1))) \n",
    "# model.add(Dropout(0.2))\n",
    "# model.add(Conv1D(filters=200, kernel_size=5, padding='same', activation='relu',strides=1))\n",
    "# model.add(Dropout(0.2))\n",
    "# model.add(Conv1D(filters=400, kernel_size=10, padding='same', activation='relu',strides=1))\n",
    "# model.add(MaxPooling1D(pool_size=2))\n",
    "# model.add(Flatten())\n",
    "# model.add(Dropout(0.2))\n",
    "# model.add(Dense(1, activation='sigmoid'))\n",
    "# model.compile(loss='binary_crossentropy', optimizer= 'adam', metrics=['accuracy'])\n",
    "# model.summary()\n",
    "\n",
    "input = tf.keras.layers.Input(shape = (X_train_ex.shape[1],1))\n",
    "encoder = tf.keras.layers.Conv1D(filters=100, kernel_size=5, padding='same',activation='relu',strides=1)(input)\n",
    "# encoder = tf.keras.layers.MaxPool1D(pool_size=2)(encoder)\n",
    "encoder = tf.keras.layers.Conv1D(filters=50, kernel_size=5, padding='same',activation='relu',strides=1)(encoder)\n",
    "# encoder = tf.keras.layers.MaxPool1D(pool_size=2)(encoder)\n",
    "\n",
    "decoder = tf.keras.layers.Conv1D(filters=50, kernel_size=5, padding='same',activation='relu',strides=1)(encoder)\n",
    "# decoder = tf.keras.layers.MaxPool1D(pool_size=2)(decoder)\n",
    "decoder = tf.keras.layers.Conv1D(filters=100, kernel_size=5, padding='same',activation='relu',strides=1)(decoder)\n",
    "#decoder = tf.keras.layers.MaxPool1D(pool_size=2)(decoder)\n",
    "decoder = tf.keras.layers.Dense(1, activation='relu')(decoder)\n",
    "          \n",
    "\n",
    "conv_autoencoder = tf.keras.models.Model(input, decoder)\n",
    "conv_autoencoder.compile(optimizer = 'Adam', loss = 'binary_crossentropy')\n",
    "conv_autoencoder.summary()\n"
   ]
  },
  {
   "cell_type": "code",
   "execution_count": 84,
   "metadata": {},
   "outputs": [
    {
     "name": "stdout",
     "output_type": "stream",
     "text": [
      "Train on 35784 samples, validate on 8946 samples\n",
      "Epoch 1/10\n"
     ]
    },
    {
     "ename": "UnknownError",
     "evalue": "2 root error(s) found.\n  (0) Unknown: Failed to get convolution algorithm. This is probably because cuDNN failed to initialize, so try looking to see if a warning log message was printed above.\n\t [[{{node conv1d_76/conv1d}}]]\n\t [[loss_5/mul/_291]]\n  (1) Unknown: Failed to get convolution algorithm. This is probably because cuDNN failed to initialize, so try looking to see if a warning log message was printed above.\n\t [[{{node conv1d_76/conv1d}}]]\n0 successful operations.\n0 derived errors ignored.",
     "output_type": "error",
     "traceback": [
      "\u001b[1;31m---------------------------------------------------------------------------\u001b[0m",
      "\u001b[1;31mUnknownError\u001b[0m                              Traceback (most recent call last)",
      "\u001b[1;32me:\\Speed_Lab\\Code\\Defense-Adversarial-in-ML-CAN-IDS\\detector_denoise.ipynb Cell 13\u001b[0m in \u001b[0;36m<cell line: 1>\u001b[1;34m()\u001b[0m\n\u001b[1;32m----> <a href='vscode-notebook-cell:/e%3A/Speed_Lab/Code/Defense-Adversarial-in-ML-CAN-IDS/detector_denoise.ipynb#X20sZmlsZQ%3D%3D?line=0'>1</a>\u001b[0m conv_autoencoder\u001b[39m.\u001b[39;49mfit(X_train_ex, X_train_ex, epochs\u001b[39m=\u001b[39;49m\u001b[39m10\u001b[39;49m, batch_size\u001b[39m=\u001b[39;49m\u001b[39m128\u001b[39;49m, validation_data\u001b[39m=\u001b[39;49m(X_test_ex, X_test_ex))\n",
      "File \u001b[1;32me:\\anaconda\\envs\\Adversarial_attack\\lib\\site-packages\\tensorflow\\python\\keras\\engine\\training_v1.py:795\u001b[0m, in \u001b[0;36mModel.fit\u001b[1;34m(self, x, y, batch_size, epochs, verbose, callbacks, validation_split, validation_data, shuffle, class_weight, sample_weight, initial_epoch, steps_per_epoch, validation_steps, validation_freq, max_queue_size, workers, use_multiprocessing, **kwargs)\u001b[0m\n\u001b[0;32m    792\u001b[0m \u001b[39mself\u001b[39m\u001b[39m.\u001b[39m_check_call_args(\u001b[39m'\u001b[39m\u001b[39mfit\u001b[39m\u001b[39m'\u001b[39m)\n\u001b[0;32m    794\u001b[0m func \u001b[39m=\u001b[39m \u001b[39mself\u001b[39m\u001b[39m.\u001b[39m_select_training_loop(x)\n\u001b[1;32m--> 795\u001b[0m \u001b[39mreturn\u001b[39;00m func\u001b[39m.\u001b[39;49mfit(\n\u001b[0;32m    796\u001b[0m     \u001b[39mself\u001b[39;49m,\n\u001b[0;32m    797\u001b[0m     x\u001b[39m=\u001b[39;49mx,\n\u001b[0;32m    798\u001b[0m     y\u001b[39m=\u001b[39;49my,\n\u001b[0;32m    799\u001b[0m     batch_size\u001b[39m=\u001b[39;49mbatch_size,\n\u001b[0;32m    800\u001b[0m     epochs\u001b[39m=\u001b[39;49mepochs,\n\u001b[0;32m    801\u001b[0m     verbose\u001b[39m=\u001b[39;49mverbose,\n\u001b[0;32m    802\u001b[0m     callbacks\u001b[39m=\u001b[39;49mcallbacks,\n\u001b[0;32m    803\u001b[0m     validation_split\u001b[39m=\u001b[39;49mvalidation_split,\n\u001b[0;32m    804\u001b[0m     validation_data\u001b[39m=\u001b[39;49mvalidation_data,\n\u001b[0;32m    805\u001b[0m     shuffle\u001b[39m=\u001b[39;49mshuffle,\n\u001b[0;32m    806\u001b[0m     class_weight\u001b[39m=\u001b[39;49mclass_weight,\n\u001b[0;32m    807\u001b[0m     sample_weight\u001b[39m=\u001b[39;49msample_weight,\n\u001b[0;32m    808\u001b[0m     initial_epoch\u001b[39m=\u001b[39;49minitial_epoch,\n\u001b[0;32m    809\u001b[0m     steps_per_epoch\u001b[39m=\u001b[39;49msteps_per_epoch,\n\u001b[0;32m    810\u001b[0m     validation_steps\u001b[39m=\u001b[39;49mvalidation_steps,\n\u001b[0;32m    811\u001b[0m     validation_freq\u001b[39m=\u001b[39;49mvalidation_freq,\n\u001b[0;32m    812\u001b[0m     max_queue_size\u001b[39m=\u001b[39;49mmax_queue_size,\n\u001b[0;32m    813\u001b[0m     workers\u001b[39m=\u001b[39;49mworkers,\n\u001b[0;32m    814\u001b[0m     use_multiprocessing\u001b[39m=\u001b[39;49muse_multiprocessing)\n",
      "File \u001b[1;32me:\\anaconda\\envs\\Adversarial_attack\\lib\\site-packages\\tensorflow\\python\\keras\\engine\\training_arrays_v1.py:644\u001b[0m, in \u001b[0;36mArrayLikeTrainingLoop.fit\u001b[1;34m(self, model, x, y, batch_size, epochs, verbose, callbacks, validation_split, validation_data, shuffle, class_weight, sample_weight, initial_epoch, steps_per_epoch, validation_steps, validation_freq, **kwargs)\u001b[0m\n\u001b[0;32m    640\u001b[0m     \u001b[39mraise\u001b[39;00m \u001b[39mValueError\u001b[39;00m(\u001b[39m'\u001b[39m\u001b[39m`validation_steps` should not be specified if \u001b[39m\u001b[39m'\u001b[39m\n\u001b[0;32m    641\u001b[0m                      \u001b[39m'\u001b[39m\u001b[39m`validation_data` is None.\u001b[39m\u001b[39m'\u001b[39m)\n\u001b[0;32m    642\u001b[0m   val_x, val_y, val_sample_weights \u001b[39m=\u001b[39m \u001b[39mNone\u001b[39;00m, \u001b[39mNone\u001b[39;00m, \u001b[39mNone\u001b[39;00m\n\u001b[1;32m--> 644\u001b[0m \u001b[39mreturn\u001b[39;00m fit_loop(\n\u001b[0;32m    645\u001b[0m     model,\n\u001b[0;32m    646\u001b[0m     inputs\u001b[39m=\u001b[39;49mx,\n\u001b[0;32m    647\u001b[0m     targets\u001b[39m=\u001b[39;49my,\n\u001b[0;32m    648\u001b[0m     sample_weights\u001b[39m=\u001b[39;49msample_weights,\n\u001b[0;32m    649\u001b[0m     batch_size\u001b[39m=\u001b[39;49mbatch_size,\n\u001b[0;32m    650\u001b[0m     epochs\u001b[39m=\u001b[39;49mepochs,\n\u001b[0;32m    651\u001b[0m     verbose\u001b[39m=\u001b[39;49mverbose,\n\u001b[0;32m    652\u001b[0m     callbacks\u001b[39m=\u001b[39;49mcallbacks,\n\u001b[0;32m    653\u001b[0m     val_inputs\u001b[39m=\u001b[39;49mval_x,\n\u001b[0;32m    654\u001b[0m     val_targets\u001b[39m=\u001b[39;49mval_y,\n\u001b[0;32m    655\u001b[0m     val_sample_weights\u001b[39m=\u001b[39;49mval_sample_weights,\n\u001b[0;32m    656\u001b[0m     shuffle\u001b[39m=\u001b[39;49mshuffle,\n\u001b[0;32m    657\u001b[0m     initial_epoch\u001b[39m=\u001b[39;49minitial_epoch,\n\u001b[0;32m    658\u001b[0m     steps_per_epoch\u001b[39m=\u001b[39;49msteps_per_epoch,\n\u001b[0;32m    659\u001b[0m     validation_steps\u001b[39m=\u001b[39;49mvalidation_steps,\n\u001b[0;32m    660\u001b[0m     validation_freq\u001b[39m=\u001b[39;49mvalidation_freq,\n\u001b[0;32m    661\u001b[0m     steps_name\u001b[39m=\u001b[39;49m\u001b[39m'\u001b[39;49m\u001b[39msteps_per_epoch\u001b[39;49m\u001b[39m'\u001b[39;49m)\n",
      "File \u001b[1;32me:\\anaconda\\envs\\Adversarial_attack\\lib\\site-packages\\tensorflow\\python\\keras\\engine\\training_arrays_v1.py:380\u001b[0m, in \u001b[0;36mmodel_iteration\u001b[1;34m(model, inputs, targets, sample_weights, batch_size, epochs, verbose, callbacks, val_inputs, val_targets, val_sample_weights, shuffle, initial_epoch, steps_per_epoch, validation_steps, validation_freq, mode, validation_in_fit, prepared_feed_values_from_dataset, steps_name, **kwargs)\u001b[0m\n\u001b[0;32m    377\u001b[0m callbacks\u001b[39m.\u001b[39m_call_batch_hook(mode, \u001b[39m'\u001b[39m\u001b[39mbegin\u001b[39m\u001b[39m'\u001b[39m, batch_index, batch_logs)\n\u001b[0;32m    379\u001b[0m \u001b[39m# Get outputs.\u001b[39;00m\n\u001b[1;32m--> 380\u001b[0m batch_outs \u001b[39m=\u001b[39m f(ins_batch)\n\u001b[0;32m    381\u001b[0m \u001b[39mif\u001b[39;00m \u001b[39mnot\u001b[39;00m \u001b[39misinstance\u001b[39m(batch_outs, \u001b[39mlist\u001b[39m):\n\u001b[0;32m    382\u001b[0m   batch_outs \u001b[39m=\u001b[39m [batch_outs]\n",
      "File \u001b[1;32me:\\anaconda\\envs\\Adversarial_attack\\lib\\site-packages\\tensorflow\\python\\keras\\backend.py:4054\u001b[0m, in \u001b[0;36mGraphExecutionFunction.__call__\u001b[1;34m(self, inputs)\u001b[0m\n\u001b[0;32m   4048\u001b[0m \u001b[39mif\u001b[39;00m (\u001b[39mself\u001b[39m\u001b[39m.\u001b[39m_callable_fn \u001b[39mis\u001b[39;00m \u001b[39mNone\u001b[39;00m \u001b[39mor\u001b[39;00m feed_arrays \u001b[39m!=\u001b[39m \u001b[39mself\u001b[39m\u001b[39m.\u001b[39m_feed_arrays \u001b[39mor\u001b[39;00m\n\u001b[0;32m   4049\u001b[0m     symbol_vals \u001b[39m!=\u001b[39m \u001b[39mself\u001b[39m\u001b[39m.\u001b[39m_symbol_vals \u001b[39mor\u001b[39;00m\n\u001b[0;32m   4050\u001b[0m     feed_symbols \u001b[39m!=\u001b[39m \u001b[39mself\u001b[39m\u001b[39m.\u001b[39m_feed_symbols \u001b[39mor\u001b[39;00m \u001b[39mself\u001b[39m\u001b[39m.\u001b[39mfetches \u001b[39m!=\u001b[39m \u001b[39mself\u001b[39m\u001b[39m.\u001b[39m_fetches \u001b[39mor\u001b[39;00m\n\u001b[0;32m   4051\u001b[0m     session \u001b[39m!=\u001b[39m \u001b[39mself\u001b[39m\u001b[39m.\u001b[39m_session):\n\u001b[0;32m   4052\u001b[0m   \u001b[39mself\u001b[39m\u001b[39m.\u001b[39m_make_callable(feed_arrays, feed_symbols, symbol_vals, session)\n\u001b[1;32m-> 4054\u001b[0m fetched \u001b[39m=\u001b[39m \u001b[39mself\u001b[39;49m\u001b[39m.\u001b[39;49m_callable_fn(\u001b[39m*\u001b[39;49marray_vals,\n\u001b[0;32m   4055\u001b[0m                             run_metadata\u001b[39m=\u001b[39;49m\u001b[39mself\u001b[39;49m\u001b[39m.\u001b[39;49mrun_metadata)\n\u001b[0;32m   4056\u001b[0m \u001b[39mself\u001b[39m\u001b[39m.\u001b[39m_call_fetch_callbacks(fetched[\u001b[39m-\u001b[39m\u001b[39mlen\u001b[39m(\u001b[39mself\u001b[39m\u001b[39m.\u001b[39m_fetches):])\n\u001b[0;32m   4057\u001b[0m output_structure \u001b[39m=\u001b[39m nest\u001b[39m.\u001b[39mpack_sequence_as(\n\u001b[0;32m   4058\u001b[0m     \u001b[39mself\u001b[39m\u001b[39m.\u001b[39m_outputs_structure,\n\u001b[0;32m   4059\u001b[0m     fetched[:\u001b[39mlen\u001b[39m(\u001b[39mself\u001b[39m\u001b[39m.\u001b[39moutputs)],\n\u001b[0;32m   4060\u001b[0m     expand_composites\u001b[39m=\u001b[39m\u001b[39mTrue\u001b[39;00m)\n",
      "File \u001b[1;32me:\\anaconda\\envs\\Adversarial_attack\\lib\\site-packages\\tensorflow\\python\\client\\session.py:1480\u001b[0m, in \u001b[0;36mBaseSession._Callable.__call__\u001b[1;34m(self, *args, **kwargs)\u001b[0m\n\u001b[0;32m   1478\u001b[0m \u001b[39mtry\u001b[39;00m:\n\u001b[0;32m   1479\u001b[0m   run_metadata_ptr \u001b[39m=\u001b[39m tf_session\u001b[39m.\u001b[39mTF_NewBuffer() \u001b[39mif\u001b[39;00m run_metadata \u001b[39melse\u001b[39;00m \u001b[39mNone\u001b[39;00m\n\u001b[1;32m-> 1480\u001b[0m   ret \u001b[39m=\u001b[39m tf_session\u001b[39m.\u001b[39;49mTF_SessionRunCallable(\u001b[39mself\u001b[39;49m\u001b[39m.\u001b[39;49m_session\u001b[39m.\u001b[39;49m_session,\n\u001b[0;32m   1481\u001b[0m                                          \u001b[39mself\u001b[39;49m\u001b[39m.\u001b[39;49m_handle, args,\n\u001b[0;32m   1482\u001b[0m                                          run_metadata_ptr)\n\u001b[0;32m   1483\u001b[0m   \u001b[39mif\u001b[39;00m run_metadata:\n\u001b[0;32m   1484\u001b[0m     proto_data \u001b[39m=\u001b[39m tf_session\u001b[39m.\u001b[39mTF_GetBuffer(run_metadata_ptr)\n",
      "\u001b[1;31mUnknownError\u001b[0m: 2 root error(s) found.\n  (0) Unknown: Failed to get convolution algorithm. This is probably because cuDNN failed to initialize, so try looking to see if a warning log message was printed above.\n\t [[{{node conv1d_76/conv1d}}]]\n\t [[loss_5/mul/_291]]\n  (1) Unknown: Failed to get convolution algorithm. This is probably because cuDNN failed to initialize, so try looking to see if a warning log message was printed above.\n\t [[{{node conv1d_76/conv1d}}]]\n0 successful operations.\n0 derived errors ignored."
     ]
    }
   ],
   "source": [
    "conv_autoencoder.fit(X_train_ex, X_train_ex, epochs=10, batch_size=128, validation_data=(X_test_ex, X_test_ex))"
   ]
  }
 ],
 "metadata": {
  "kernelspec": {
   "display_name": "Python 3.8.13 ('Adversarial_attack')",
   "language": "python",
   "name": "python3"
  },
  "language_info": {
   "codemirror_mode": {
    "name": "ipython",
    "version": 3
   },
   "file_extension": ".py",
   "mimetype": "text/x-python",
   "name": "python",
   "nbconvert_exporter": "python",
   "pygments_lexer": "ipython3",
   "version": "3.8.13"
  },
  "orig_nbformat": 4,
  "vscode": {
   "interpreter": {
    "hash": "6f6ad8de01885d29b1b3b20bb7ace6e41bbb669d38f4345665609eaa30831f6d"
   }
  }
 },
 "nbformat": 4,
 "nbformat_minor": 2
}
