{
 "cells": [
  {
   "cell_type": "code",
   "execution_count": 1,
   "metadata": {},
   "outputs": [],
   "source": [
    "import os\n",
    "import time\n",
    "import numpy as np\n",
    "import pandas as pd\n",
    "from numpy import newaxis\n",
    "from sklearn.model_selection import train_test_split\n",
    "import glob\n",
    "import matplotlib.pyplot as plt\n",
    "import PIL"
   ]
  },
  {
   "cell_type": "code",
   "execution_count": 2,
   "metadata": {},
   "outputs": [
    {
     "name": "stdout",
     "output_type": "stream",
     "text": [
      "tensorflow version: 2.5.0\n",
      "tensorflow version: 2.5.0\n"
     ]
    }
   ],
   "source": [
    "import tensorflow as tf\n",
    "\n",
    "print(f\"tensorflow version: {tf.__version__}\")\n",
    "print(f\"tensorflow version: {tf.keras.__version__}\")"
   ]
  },
  {
   "cell_type": "code",
   "execution_count": 3,
   "metadata": {},
   "outputs": [],
   "source": [
    "# Import normal Dataset\n",
    "def import_dataset(filename = \"./Dataset/csv/Attacked/Original_X_test.csv\"):\n",
    "    with open(filename, newline='') as csvfile:\n",
    "        rows = pd.read_csv(csvfile,header=None)\n",
    "        X_train, X_test = train_test_split(rows, test_size=0.2)\n",
    "        X_train = np.array(X_train)\n",
    "        X_test = np.array(X_test)\n",
    "        X_train_ex = X_train[:, :, newaxis]\n",
    "        X_test_ex = X_test[:, :, newaxis]\n",
    "    return X_train, X_test, X_train_ex, X_test_ex"
   ]
  },
  {
   "cell_type": "code",
   "execution_count": 4,
   "metadata": {},
   "outputs": [],
   "source": [
    "X_train, X_test, X_train_ex, X_test_ex = import_dataset()"
   ]
  },
  {
   "cell_type": "code",
   "execution_count": 27,
   "metadata": {},
   "outputs": [
    {
     "data": {
      "text/plain": [
       "'0b100000001110100101000000000000000000000000000000000000000000000'"
      ]
     },
     "execution_count": 27,
     "metadata": {},
     "output_type": "execute_result"
    }
   ],
   "source": [
    "import ctypes\n",
    "bin(ctypes.c_uint64.from_buffer(ctypes.c_double(1C6C000000000000)).value)"
   ]
  },
  {
   "cell_type": "code",
   "execution_count": 38,
   "metadata": {},
   "outputs": [
    {
     "name": "stdout",
     "output_type": "stream",
     "text": [
      "[5.39e-03 5.01e+02 0.00e+00 1.00e+02 0.00e+00 0.00e+00 0.00e+00 0.00e+00\n",
      " 0.00e+00 0.00e+00]\n",
      "0\n",
      "111110101\n",
      "0\n",
      "1100100\n",
      "0\n",
      "0\n",
      "0\n",
      "0\n",
      "0\n",
      "0\n"
     ]
    }
   ],
   "source": [
    "print(X_train[2])\n",
    "for i in X_train[2]:\n",
    "    print(\"{0:b}\".format(int(i)))"
   ]
  },
  {
   "cell_type": "code",
   "execution_count": 5,
   "metadata": {},
   "outputs": [
    {
     "name": "stdout",
     "output_type": "stream",
     "text": [
      "Model: \"model\"\n",
      "_________________________________________________________________\n",
      "Layer (type)                 Output Shape              Param #   \n",
      "=================================================================\n",
      "input_1 (InputLayer)         [(None, 10)]              0         \n",
      "_________________________________________________________________\n",
      "dense (Dense)                (None, 10)                110       \n",
      "_________________________________________________________________\n",
      "dense_1 (Dense)              (None, 8)                 88        \n",
      "_________________________________________________________________\n",
      "latent_space (Dense)         (None, 2)                 18        \n",
      "_________________________________________________________________\n",
      "dense_2 (Dense)              (None, 8)                 24        \n",
      "_________________________________________________________________\n",
      "dense_3 (Dense)              (None, 10)                90        \n",
      "_________________________________________________________________\n",
      "dense_4 (Dense)              (None, 10)                110       \n",
      "=================================================================\n",
      "Total params: 440\n",
      "Trainable params: 440\n",
      "Non-trainable params: 0\n",
      "_________________________________________________________________\n"
     ]
    }
   ],
   "source": [
    "from keras.models import Sequential\n",
    "\n",
    "input_img = tf.keras.layers.Input(shape = (X_train.shape[1],))\n",
    "encoder = tf.keras.layers.Dense(10, activation='relu')(input_img)\n",
    "encoder = tf.keras.layers.Dense(8, activation='relu')(encoder)\n",
    "encoder = tf.keras.layers.Dense(2, activation='relu', name=\"latent_space\")(encoder)\n",
    "\n",
    "decoder = tf.keras.layers.Dense(8, activation='relu')(encoder)\n",
    "decoder = tf.keras.layers.Dense(10, activation='relu')(decoder)\n",
    "decoder = tf.keras.layers.Dense(X_train.shape[1], activation='relu')(decoder)\n",
    "\n",
    "autoencoder = tf.keras.models.Model(input_img, decoder)\n",
    "autoencoder.compile(loss='binary_crossentropy', optimizer= 'adam')\n",
    "\n",
    "autoencoder.summary()"
   ]
  },
  {
   "cell_type": "code",
   "execution_count": 6,
   "metadata": {},
   "outputs": [
    {
     "name": "stdout",
     "output_type": "stream",
     "text": [
      "Epoch 1/10\n",
      "140/140 [==============================] - 1s 5ms/step - loss: 725.0390 - val_loss: 733.7499\n",
      "Epoch 2/10\n",
      "140/140 [==============================] - 1s 4ms/step - loss: 725.0378 - val_loss: 733.7499\n",
      "Epoch 3/10\n",
      "140/140 [==============================] - 1s 4ms/step - loss: 725.0378 - val_loss: 733.7499\n",
      "Epoch 4/10\n",
      "140/140 [==============================] - 1s 4ms/step - loss: 725.0379 - val_loss: 733.7499\n",
      "Epoch 5/10\n",
      "140/140 [==============================] - 1s 4ms/step - loss: 725.0381 - val_loss: 733.7499\n",
      "Epoch 6/10\n",
      "140/140 [==============================] - 1s 4ms/step - loss: 725.0378 - val_loss: 733.7499\n",
      "Epoch 7/10\n",
      "140/140 [==============================] - 1s 4ms/step - loss: 725.0379 - val_loss: 733.7499\n",
      "Epoch 8/10\n",
      "140/140 [==============================] - 1s 4ms/step - loss: 725.0380 - val_loss: 733.7499\n",
      "Epoch 9/10\n",
      "140/140 [==============================] - 1s 4ms/step - loss: 725.0380 - val_loss: 733.7499\n",
      "Epoch 10/10\n",
      "140/140 [==============================] - 1s 4ms/step - loss: 725.0379 - val_loss: 733.7499\n"
     ]
    },
    {
     "data": {
      "text/plain": [
       "<tensorflow.python.keras.callbacks.History at 0x19b0fd5fe80>"
      ]
     },
     "execution_count": 6,
     "metadata": {},
     "output_type": "execute_result"
    }
   ],
   "source": [
    "autoencoder.fit(X_train ,X_train ,epochs=10, batch_size=256,validation_data=(X_test, X_test))"
   ]
  },
  {
   "cell_type": "code",
   "execution_count": 7,
   "metadata": {},
   "outputs": [],
   "source": [
    "decode_msg = autoencoder.predict(X_test)"
   ]
  },
  {
   "cell_type": "code",
   "execution_count": 8,
   "metadata": {},
   "outputs": [
    {
     "data": {
      "text/plain": [
       "array([0.       , 0.       , 1.3617331, 0.       , 0.       , 0.       ,\n",
       "       0.       , 0.       , 0.       , 0.       ], dtype=float32)"
      ]
     },
     "execution_count": 8,
     "metadata": {},
     "output_type": "execute_result"
    }
   ],
   "source": [
    "decode_msg[0]"
   ]
  },
  {
   "cell_type": "code",
   "execution_count": 9,
   "metadata": {},
   "outputs": [
    {
     "data": {
      "text/plain": [
       "array([9.81e-04, 3.30e+02, 1.30e+01, 1.71e+02, 0.00e+00, 0.00e+00,\n",
       "       0.00e+00, 1.30e+01, 1.71e+02, 0.00e+00])"
      ]
     },
     "execution_count": 9,
     "metadata": {},
     "output_type": "execute_result"
    }
   ],
   "source": [
    "X_test[0]"
   ]
  },
  {
   "cell_type": "code",
   "execution_count": 10,
   "metadata": {},
   "outputs": [
    {
     "name": "stdout",
     "output_type": "stream",
     "text": [
      "Model: \"model_1\"\n",
      "_________________________________________________________________\n",
      "Layer (type)                 Output Shape              Param #   \n",
      "=================================================================\n",
      "input_1 (InputLayer)         [(None, 10, 1)]           0         \n",
      "_________________________________________________________________\n",
      "conv1d (Conv1D)              (None, 10, 100)           600       \n",
      "_________________________________________________________________\n",
      "conv1d_1 (Conv1D)            (None, 10, 50)            25050     \n",
      "_________________________________________________________________\n",
      "conv1d_2 (Conv1D)            (None, 10, 50)            12550     \n",
      "_________________________________________________________________\n",
      "conv1d_3 (Conv1D)            (None, 10, 100)           25100     \n",
      "_________________________________________________________________\n",
      "dense_5 (Dense)              (None, 10, 1)             101       \n",
      "=================================================================\n",
      "Total params: 63,401\n",
      "Trainable params: 63,401\n",
      "Non-trainable params: 0\n",
      "_________________________________________________________________\n"
     ]
    }
   ],
   "source": [
    "from keras.models import Sequential\n",
    "from keras.layers import Dense, Dropout, Activation, Conv1D, Conv2D, MaxPooling1D, MaxPooling2D, Embedding, GlobalAveragePooling1D, Flatten\n",
    "from keras.models import Sequential\n",
    "from keras.layers import Dense,Dropout,Flatten,Conv1D,MaxPool1D\n",
    "\n",
    "tf.compat.v1.disable_eager_execution()\n",
    "config = tf.compat.v1.ConfigProto()\n",
    "config.gpu_options.allow_growth = True\n",
    "sess = tf.compat.v1.Session(config=config)\n",
    "# model = Sequential()\n",
    "# model.add(Conv1D(filters=100, kernel_size=5, padding='same',activation='relu',strides=1, input_shape=(X_train_ex.shape[1],1))) \n",
    "# model.add(Dropout(0.2))\n",
    "# model.add(Conv1D(filters=200, kernel_size=5, padding='same', activation='relu',strides=1))\n",
    "# model.add(Dropout(0.2))\n",
    "# model.add(Conv1D(filters=400, kernel_size=10, padding='same', activation='relu',strides=1))\n",
    "# model.add(MaxPooling1D(pool_size=2))\n",
    "# model.add(Flatten())\n",
    "# model.add(Dropout(0.2))\n",
    "# model.add(Dense(1, activation='sigmoid'))\n",
    "# model.compile(loss='binary_crossentropy', optimizer= 'adam', metrics=['accuracy'])\n",
    "# model.summary()\n",
    "\n",
    "input = tf.keras.layers.Input(shape = (X_train_ex.shape[1],1))\n",
    "encoder = tf.keras.layers.Conv1D(filters=100, kernel_size=5, padding='same',activation='relu',strides=1)(input)\n",
    "# encoder = tf.keras.layers.MaxPool1D(pool_size=2)(encoder)\n",
    "encoder = tf.keras.layers.Conv1D(filters=50, kernel_size=5, padding='same',activation='relu',strides=1)(encoder)\n",
    "# encoder = tf.keras.layers.MaxPool1D(pool_size=2)(encoder)\n",
    "\n",
    "decoder = tf.keras.layers.Conv1D(filters=50, kernel_size=5, padding='same',activation='relu',strides=1)(encoder)\n",
    "# decoder = tf.keras.layers.MaxPool1D(pool_size=2)(decoder)\n",
    "decoder = tf.keras.layers.Conv1D(filters=100, kernel_size=5, padding='same',activation='relu',strides=1)(decoder)\n",
    "#decoder = tf.keras.layers.MaxPool1D(pool_size=2)(decoder)\n",
    "decoder = tf.keras.layers.Dense(1, activation='relu')(decoder)\n",
    "          \n",
    "\n",
    "conv_autoencoder = tf.keras.models.Model(input, decoder)\n",
    "conv_autoencoder.compile(optimizer = 'Adam', loss = 'binary_crossentropy')\n",
    "conv_autoencoder.summary()\n"
   ]
  },
  {
   "cell_type": "code",
   "execution_count": 11,
   "metadata": {},
   "outputs": [
    {
     "name": "stdout",
     "output_type": "stream",
     "text": [
      "Train on 35784 samples, validate on 8946 samples\n",
      "Epoch 1/10\n",
      "35784/35784 [==============================] - ETA: 0s - loss: -723.1050"
     ]
    },
    {
     "name": "stderr",
     "output_type": "stream",
     "text": [
      "e:\\anaconda\\envs\\Adversarial_attack\\lib\\site-packages\\tensorflow\\python\\keras\\engine\\training.py:2426: UserWarning: `Model.state_updates` will be removed in a future version. This property should not be used in TensorFlow 2.0, as `updates` are applied automatically.\n",
      "  warnings.warn('`Model.state_updates` will be removed in a future version. '\n"
     ]
    },
    {
     "name": "stdout",
     "output_type": "stream",
     "text": [
      "35784/35784 [==============================] - 10s 281us/sample - loss: -723.1050 - val_loss: -732.8928\n",
      "Epoch 2/10\n",
      "35784/35784 [==============================] - 1s 38us/sample - loss: -728.2979 - val_loss: -732.8928\n",
      "Epoch 3/10\n",
      "35784/35784 [==============================] - 1s 38us/sample - loss: -728.2979 - val_loss: -732.8928\n",
      "Epoch 4/10\n",
      "35784/35784 [==============================] - 1s 38us/sample - loss: -728.2980 - val_loss: -732.8928\n",
      "Epoch 5/10\n",
      "35784/35784 [==============================] - 1s 39us/sample - loss: -728.2979 - val_loss: -732.8928\n",
      "Epoch 6/10\n",
      "35784/35784 [==============================] - 1s 38us/sample - loss: -728.2979 - val_loss: -732.8928\n",
      "Epoch 7/10\n",
      "35784/35784 [==============================] - 1s 38us/sample - loss: -728.2980 - val_loss: -732.8928\n",
      "Epoch 8/10\n",
      "35784/35784 [==============================] - 1s 38us/sample - loss: -728.2980 - val_loss: -732.8928\n",
      "Epoch 9/10\n",
      "35784/35784 [==============================] - 1s 38us/sample - loss: -728.2979 - val_loss: -732.8928\n",
      "Epoch 10/10\n",
      "35784/35784 [==============================] - 1s 38us/sample - loss: -728.2979 - val_loss: -732.8928\n"
     ]
    },
    {
     "data": {
      "text/plain": [
       "<tensorflow.python.keras.callbacks.History at 0x19b3a416040>"
      ]
     },
     "execution_count": 11,
     "metadata": {},
     "output_type": "execute_result"
    }
   ],
   "source": [
    "conv_autoencoder.fit(X_train_ex, X_train_ex, epochs=10, batch_size=128, validation_data=(X_test_ex, X_test_ex))"
   ]
  },
  {
   "cell_type": "code",
   "execution_count": null,
   "metadata": {},
   "outputs": [],
   "source": []
  },
  {
   "cell_type": "code",
   "execution_count": null,
   "metadata": {},
   "outputs": [],
   "source": []
  }
 ],
 "metadata": {
  "kernelspec": {
   "display_name": "Python 3.8.13 ('Adversarial_attack')",
   "language": "python",
   "name": "python3"
  },
  "language_info": {
   "codemirror_mode": {
    "name": "ipython",
    "version": 3
   },
   "file_extension": ".py",
   "mimetype": "text/x-python",
   "name": "python",
   "nbconvert_exporter": "python",
   "pygments_lexer": "ipython3",
   "version": "3.8.13"
  },
  "orig_nbformat": 4,
  "vscode": {
   "interpreter": {
    "hash": "6f6ad8de01885d29b1b3b20bb7ace6e41bbb669d38f4345665609eaa30831f6d"
   }
  }
 },
 "nbformat": 4,
 "nbformat_minor": 2
}
