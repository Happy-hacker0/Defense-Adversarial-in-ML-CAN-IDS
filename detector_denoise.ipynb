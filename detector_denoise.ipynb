{
 "cells": [
  {
   "cell_type": "code",
   "execution_count": 6,
   "metadata": {},
   "outputs": [],
   "source": [
    "import os\n",
    "import time\n",
    "import numpy as np\n",
    "import pandas as pd\n",
    "from numpy import newaxis\n",
    "from sklearn.model_selection import train_test_split\n",
    "import glob\n",
    "import matplotlib.pyplot as plt\n",
    "import PIL"
   ]
  },
  {
   "cell_type": "code",
   "execution_count": 5,
   "metadata": {},
   "outputs": [
    {
     "name": "stdout",
     "output_type": "stream",
     "text": [
      "tensorflow version: 2.5.0\n",
      "tensorflow version: 2.5.0\n"
     ]
    }
   ],
   "source": [
    "import tensorflow as tf\n",
    "\n",
    "print(f\"tensorflow version: {tf.__version__}\")\n",
    "print(f\"tensorflow version: {tf.keras.__version__}\")"
   ]
  },
  {
   "cell_type": "code",
   "execution_count": 15,
   "metadata": {},
   "outputs": [],
   "source": [
    "# Import normal Dataset\n",
    "def import_dataset(filename = \"./Dataset/csv/Attacked/Original_X_test.csv\"):\n",
    "    with open(filename, newline='') as csvfile:\n",
    "        rows = pd.read_csv(csvfile,header=None)\n",
    "        y = rows[10]\n",
    "        x = rows.drop([10], axis=1)\n",
    "        X_train, X_test, y_train, y_test = train_test_split(x, y , test_size=0.2)\n",
    "        X_train = np.array(X_train)\n",
    "        X_test = np.array(X_test)\n",
    "        y_train = np.array(y_train)\n",
    "        y_test = np.array(y_test)\n",
    "        y_train_ex = y_train[:, newaxis]\n",
    "        X_train_ex = X_train[:, :, newaxis]\n",
    "        y_test_ex = y_test[:, newaxis]\n",
    "        X_test_ex = X_test[:, :, newaxis]\n",
    "    return X_train, X_test, y_train, y_test, X_train_ex, X_test_ex, y_train_ex, y_test_ex"
   ]
  },
  {
   "cell_type": "code",
   "execution_count": 16,
   "metadata": {},
   "outputs": [],
   "source": [
    "X_train, X_test, y_train, y_test, X_train_ex, X_test_ex, y_train_ex, y_test_ex = import_dataset()"
   ]
  },
  {
   "cell_type": "code",
   "execution_count": 9,
   "metadata": {},
   "outputs": [
    {
     "name": "stdout",
     "output_type": "stream",
     "text": [
      "Model: \"model\"\n",
      "_________________________________________________________________\n",
      "Layer (type)                 Output Shape              Param #   \n",
      "=================================================================\n",
      "input_1 (InputLayer)         [(None, 784)]             0         \n",
      "_________________________________________________________________\n",
      "dense (Dense)                (None, 128)               100480    \n",
      "_________________________________________________________________\n",
      "dense_1 (Dense)              (None, 32)                4128      \n",
      "_________________________________________________________________\n",
      "latent_space (Dense)         (None, 2)                 66        \n",
      "_________________________________________________________________\n",
      "dense_2 (Dense)              (None, 32)                96        \n",
      "_________________________________________________________________\n",
      "dense_3 (Dense)              (None, 128)               4224      \n",
      "_________________________________________________________________\n",
      "dense_4 (Dense)              (None, 784)               101136    \n",
      "=================================================================\n",
      "Total params: 210,130\n",
      "Trainable params: 210,130\n",
      "Non-trainable params: 0\n",
      "_________________________________________________________________\n"
     ]
    },
    {
     "name": "stderr",
     "output_type": "stream",
     "text": [
      "c:\\Users\\Maxwang\\anaconda3\\envs\\Adversarial_attack_\\lib\\site-packages\\tensorflow\\python\\keras\\optimizer_v2\\optimizer_v2.py:374: UserWarning: The `lr` argument is deprecated, use `learning_rate` instead.\n",
      "  warnings.warn(\n"
     ]
    }
   ],
   "source": [
    "input_img = tf.keras.layers.Input(shape = (X_train.shape[1],))\n",
    "encoder = tf.keras.layers.Dense(128, activation='relu')(input_img)\n",
    "encoder = tf.keras.layers.Dense(32, activation='relu')(encoder)\n",
    "encoder = tf.keras.layers.Dense(2, activation='relu', name=\"latent_space\")(encoder)\n",
    "\n",
    "decoder = tf.keras.layers.Dense(32, activation='relu')(encoder)\n",
    "decoder = tf.keras.layers.Dense(128, activation='relu')(decoder)\n",
    "decoder = tf.keras.layers.Dense(784, activation='sigmoid')(decoder)\n",
    "\n",
    "autoencoder = tf.keras.models.Model(input_img, decoder)\n",
    "autoencoder.compile(optimizer = tf.keras.optimizers.Adam(lr = 0.001), loss='binary_crossentropy')\n",
    "\n",
    "autoencoder.summary()"
   ]
  },
  {
   "cell_type": "code",
   "execution_count": null,
   "metadata": {},
   "outputs": [],
   "source": []
  }
 ],
 "metadata": {
  "kernelspec": {
   "display_name": "Python 3.8.13 ('Adversarial_attack_')",
   "language": "python",
   "name": "python3"
  },
  "language_info": {
   "codemirror_mode": {
    "name": "ipython",
    "version": 3
   },
   "file_extension": ".py",
   "mimetype": "text/x-python",
   "name": "python",
   "nbconvert_exporter": "python",
   "pygments_lexer": "ipython3",
   "version": "3.8.13"
  },
  "orig_nbformat": 4,
  "vscode": {
   "interpreter": {
    "hash": "8dab91cb55a779ebb65e73a37577434c9648b8bfd406d9f159bac9d9fb993402"
   }
  }
 },
 "nbformat": 4,
 "nbformat_minor": 2
}
