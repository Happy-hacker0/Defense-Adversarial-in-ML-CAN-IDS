{
 "cells": [
  {
   "cell_type": "code",
   "execution_count": 36,
   "metadata": {},
   "outputs": [],
   "source": [
    "from scapy.all import *\n",
    "import sys\n",
    "import codecs\n",
    "import re\n",
    "import numpy as np\n",
    "from numpy import newaxis\n",
    "from numpy import savetxt\n",
    "import string\n",
    "from nltk.corpus import stopwords \n",
    "import time\n",
    "from sklearn.tree import DecisionTreeClassifier\n",
    "from xgboost import XGBClassifier\n",
    "from sklearn.linear_model import LogisticRegression\n",
    "from sklearn.svm import LinearSVC\n",
    "from sklearn.neighbors import KNeighborsClassifier\n",
    "from sklearn.model_selection import train_test_split\n",
    "import tensorflow as tf\n",
    "tf.compat.v1.experimental.output_all_intermediates(True)\n",
    "\n",
    "from joblib import dump, load\n",
    "\n",
    "from sklearn.metrics import classification_report\n",
    "from art.attacks.evasion import ProjectedGradientDescent\n",
    "from art.attacks.evasion import ZooAttack\n",
    "from art.attacks.evasion import FastGradientMethod\n",
    "from art.attacks.evasion import CarliniL2Method\n",
    "from art.attacks.evasion import SaliencyMapMethod\n",
    "from art.attacks.evasion import DecisionTreeAttack\n",
    "\n",
    "import sklearn\n",
    "from art.estimators import BaseEstimator\n",
    "from art.estimators.classification import SklearnClassifier\n",
    "from art.estimators.classification import XGBoostClassifier\n",
    "from art.estimators.classification import KerasClassifier\n",
    "from art.estimators.classification import EnsembleClassifier\n",
    "from art.estimators.classification.scikitlearn import ScikitlearnRandomForestClassifier\n",
    "\n",
    "\n",
    "from itertools import islice\n",
    "from tqdm import tqdm\n",
    "import pandas as pd\n",
    "import numpy as np\n",
    "from keras.callbacks import EarlyStopping, ModelCheckpoint, ReduceLROnPlateau\n",
    "tf.compat.v1.disable_eager_execution()\n"
   ]
  },
  {
   "cell_type": "code",
   "execution_count": 10,
   "metadata": {},
   "outputs": [],
   "source": [
    "# Import normal Dataset\n",
    "def import_dataset():\n",
    "    with open('./Dataset/csv/Original/Attack_merge.csv', newline='') as csvfile:\n",
    "        rows = pd.read_csv(csvfile,header=None)\n",
    "        y = rows[10]\n",
    "        x = rows.drop([10], axis=1)\n",
    "        X_train, X_test, y_train, y_test = train_test_split(x, y , test_size=0.2)\n",
    "        X_train = np.array(X_train)\n",
    "        X_test = np.array(X_test)\n",
    "        y_train = np.array(y_train)\n",
    "        y_test = np.array(y_test)\n",
    "        y_train_ex = y_train[:, newaxis]\n",
    "        X_train_ex = X_train[:, :, newaxis]\n",
    "        y_test_ex = y_test[:, newaxis]\n",
    "        X_test_ex = X_test[:, :, newaxis]\n",
    "    return X_train, X_test, y_train, y_test, X_train_ex, X_test_ex, y_train_ex, y_test_ex"
   ]
  },
  {
   "cell_type": "code",
   "execution_count": 3,
   "metadata": {},
   "outputs": [],
   "source": [
    "# Import Model\n",
    "def import_model():\n",
    "    DT = load(\"./models/DT.joblib\")\n",
    "    RF = load(\"./models/RF.joblib\")\n",
    "    LR = load(\"./models/LR.joblib\")\n",
    "    XGB = load(\"./models/XGB.joblib\") \n",
    "    SVM = load (\"./models/SVM.joblib\")\n",
    "    KNN = load(\"./models/KNN.joblib\")\n",
    "    DNN = tf.keras.models.load_model(\"./models/DNN4.h5\")\n",
    "    CNN = tf.keras.models.load_model(\"./models/CNN.h5\")\n",
    "    LSTM = tf.keras.models.load_model(\"./models/LSTM.h5\")\n",
    "    return DT, RF, LR, XGB, SVM, KNN, DNN, CNN, LSTM"
   ]
  },
  {
   "cell_type": "code",
   "execution_count": null,
   "metadata": {},
   "outputs": [],
   "source": [
    "def DTA(model, model_, X_test, X_test_ex):\n",
    "    print(\"######## DTA_\", model_,\" ########\")\n",
    "    DT_adv = SklearnClassifier(model)\n",
    "    attack_DT = DecisionTreeAttack(DT_adv)\n",
    "    adv = attack_DT.generate(X_test)\n",
    "    if not os.path.exists(\"./Dataset/csv/Attacked\"):\n",
    "        os.mkdir(\"./Dataset/csv/Attacked\")\n",
    "\n",
    "    adv_i = np.rint(adv[:,1:])\n",
    "    adv_int = np.insert(adv_i, 0, adv[:,0], axis=1)\n",
    "    np.savetxt(\"./Dataset/csv/Attacked/DTA_DT_X_Test.csv\", adv_int, delimiter=\",\")\n",
    "    return adv"
   ]
  },
  {
   "cell_type": "code",
   "execution_count": null,
   "metadata": {},
   "outputs": [],
   "source": [
    "def CW(model, model_, X_test, X_test_ex):\n",
    "    print(\"######## CW_\", model_,\" ########\")\n",
    "    if model_ =='SVM':\n",
    "        model_adv = SklearnClassifier(model, clip_values=(0, 10))\n",
    "    elif model_ == 'LR' or model_ == 'DT':\n",
    "        model_adv = SklearnClassifier(model)\n",
    "    elif model_ == 'RF':\n",
    "        model_adv = ScikitlearnRandomForestClassifier(model)\n",
    "    elif model_ == 'XGB':\n",
    "        model_adv = XGBoostClassifier(model=model, nb_features=X_test.shape[1], nb_classes=10)\n",
    "    else:\n",
    "        model_adv = KerasClassifier(model, clip_values=(0, 1))\n",
    "\n",
    "    attack_CW = CarliniL2Method(model_adv, max_iter=20, verbose=True)\n",
    "\n",
    "    if model_ == \"CNN\" or model_ ==\"LSTM\":\n",
    "        adv = attack_CW.generate(X_test_ex)\n",
    "    else:\n",
    "        adv = attack_CW.generate(X_test)\n",
    "    if not os.path.exists(\"./Dataset/csv/Attacked\"):\n",
    "        os.mkdir(\"./Dataset/csv/Attacked\")\n",
    "    \n",
    "    adv_i = np.rint(adv[:,1:])\n",
    "    adv_int = np.insert(adv_i, 0, adv[:,0], axis=1)\n",
    "    if model_ == \"CNN\" or model_ ==\"LSTM\":\n",
    "            np.savetxt(\"./Dataset/csv/Attacked/CW_\" + model_ +\"_X_Test.csv\", adv_int[:,:,0], delimiter=\",\")\n",
    "    else:\n",
    "        np.savetxt(\"./Dataset/csv/Attacked/CW_\" + model_ +\"_X_Test.csv\", adv_int, delimiter=\",\")\n",
    "    return adv"
   ]
  },
  {
   "cell_type": "code",
   "execution_count": 16,
   "metadata": {},
   "outputs": [],
   "source": [
    "def JSMA(model, model_, X_test, X_test_ex):\n",
    "    print(\"######## JSMA_\",model_,\" ########\")\n",
    "    if model_ =='SVM':\n",
    "        model_adv = SklearnClassifier(model, clip_values=(0, 10))\n",
    "    elif model_ == 'LR' or model_ == 'DT':\n",
    "        model_adv = SklearnClassifier(model)\n",
    "    elif model_ == 'RF':\n",
    "        model_adv = ScikitlearnRandomForestClassifier(model)\n",
    "    elif model_ == 'XGB':\n",
    "        model_adv = XGBoostClassifier(model=model, nb_features=X_test.shape[1], nb_classes=10)\n",
    "    else:\n",
    "        model_adv = KerasClassifier(model, clip_values=(0, 1))\n",
    "        \n",
    "    attack_JSMA = SaliencyMapMethod(classifier=model_adv)\n",
    "\n",
    "    if model_ == \"CNN\" or model_ ==\"LSTM\":\n",
    "        adv = attack_JSMA.generate(X_test_ex)\n",
    "    else:\n",
    "        adv = attack_JSMA.generate(X_test)\n",
    "\n",
    "    if not os.path.exists(\"./Dataset/csv/Attacked\"):\n",
    "        os.mkdir(\"./Dataset/csv/Attacked\")\n",
    "    \n",
    "    adv_i = np.rint(adv[:,1:])\n",
    "    adv_int = np.insert(adv_i, 0, adv[:,0], axis=1)\n",
    "    if model_ == \"CNN\" or model_ ==\"LSTM\":\n",
    "            np.savetxt(\"./Dataset/csv/Attacked/JSMA_\" + model_ +\"_X_Test.csv\", adv_int[:,:,0], delimiter=\",\")\n",
    "    else:\n",
    "        np.savetxt(\"./Dataset/csv/Attacked/JSMA_\" + model_ +\"_X_Test.csv\", adv_int, delimiter=\",\")\n",
    "    return adv"
   ]
  },
  {
   "cell_type": "code",
   "execution_count": 15,
   "metadata": {},
   "outputs": [],
   "source": [
    "def PGD(model, model_, X_test, X_test_ex):\n",
    "    print(\"######## PGD_\",model_,\" ########\")\n",
    "    if model_ =='SVM':\n",
    "        model_adv = SklearnClassifier(model, clip_values=(0, 10))\n",
    "    elif model_ == 'LR' or model_ == 'DT':\n",
    "        model_adv = SklearnClassifier(model)\n",
    "    elif model_ == 'RF':\n",
    "        model_adv = ScikitlearnRandomForestClassifier(model)\n",
    "    elif model_ == 'XGB':\n",
    "        model_adv = XGBoostClassifier(model=model, nb_features=X_test.shape[1], nb_classes=10)\n",
    "    else:\n",
    "        model_adv = KerasClassifier(model, clip_values=(0, 1))\n",
    "\n",
    "    attack_PGD = ProjectedGradientDescent(estimator=model_adv, norm=np.inf, eps=.3, eps_step=0.1, max_iter=20, \n",
    "                               targeted=False, num_random_init=0, batch_size=128, verbose=False)\n",
    "    \n",
    "    if model_ == \"CNN\" or model_ ==\"LSTM\":\n",
    "        adv = attack_PGD.generate(X_test_ex)\n",
    "    else:\n",
    "        adv = attack_PGD.generate(X_test)\n",
    "\n",
    "    if not os.path.exists(\"./Dataset/csv/Attacked\"):\n",
    "        os.mkdir(\"./Dataset/csv/Attacked\")\n",
    "    \n",
    "    adv_i = np.rint(adv[:,1:])\n",
    "    adv_int = np.insert(adv_i, 0, adv[:,0], axis=1)\n",
    "    if model_ == \"CNN\" or model_ ==\"LSTM\":\n",
    "        np.savetxt(\"./Dataset/csv/Attacked/PGD_\" + model_ +\"_X_Test.csv\", adv_int[:,:,0], delimiter=\",\")\n",
    "    else:\n",
    "        np.savetxt(\"./Dataset/csv/Attacked/PGD_\" + model_ +\"_X_Test.csv\", adv_int, delimiter=\",\")\n",
    "    return adv"
   ]
  },
  {
   "cell_type": "code",
   "execution_count": 31,
   "metadata": {},
   "outputs": [],
   "source": [
    "def ZOO(model, model_, X_test, X_test_ex):\n",
    "    print(\"######## ZOO_\",model_,\" ########\")\n",
    "    if model_ =='SVM':\n",
    "        model_adv = SklearnClassifier(model, clip_values=(0, 10))\n",
    "    elif model_ == 'LR' or model_ == 'DT':\n",
    "        model_adv = SklearnClassifier(model)\n",
    "    elif model_ == 'RF':\n",
    "        model_adv = ScikitlearnRandomForestClassifier(model)\n",
    "    elif model_ == 'XGB':\n",
    "        model_adv = XGBoostClassifier(model=model, nb_features=X_test.shape[1], nb_classes=10)\n",
    "    else:\n",
    "        model_adv = KerasClassifier(model, clip_values=(0, 1))\n",
    "\n",
    "    attack_ZOO = ZooAttack(classifier=model_adv, confidence=0.0, targeted=False, learning_rate=1e-1, max_iter=20,\n",
    "                    binary_search_steps=10, initial_const=1e-3, abort_early=True, use_resize=False, \n",
    "                    use_importance=False, nb_parallel=1, batch_size=1, variable_h=0.2)\n",
    "    \n",
    "    if model_ == \"CNN\" or model_ ==\"LSTM\":\n",
    "        adv = attack_ZOO.generate(X_test_ex)\n",
    "    else:\n",
    "        adv = attack_ZOO.generate(X_test)\n",
    "\n",
    "    if not os.path.exists(\"./Dataset/csv/Attacked\"):\n",
    "        os.mkdir(\"./Dataset/csv/Attacked\")\n",
    "    \n",
    "    adv_i = np.rint(adv[:,1:])\n",
    "    adv_int = np.insert(adv_i, 0, adv[:,0], axis=1)\n",
    "    if model_ == \"CNN\" or model_ ==\"LSTM\":\n",
    "        np.savetxt(\"./Dataset/csv/Attacked/ZOO_\" + model_ +\"_X_Test.csv\", adv_int[:,:,0], delimiter=\",\")\n",
    "    else:\n",
    "        np.savetxt(\"./Dataset/csv/Attacked/ZOO_\" + model_ +\"_X_Test.csv\", adv_int, delimiter=\",\")\n",
    "    return adv"
   ]
  },
  {
   "cell_type": "code",
   "execution_count": 18,
   "metadata": {},
   "outputs": [],
   "source": [
    "def FGSM(model, model_, X_test, X_test_ex):\n",
    "    print(\"######## FGSM_\",model_,\" ########\")\n",
    "    if model_ =='SVM' or model_ == \"RF\" :\n",
    "        model_adv = SklearnClassifier(model, clip_values=(0, 10))\n",
    "    elif model_ == 'LR':\n",
    "        model_adv = SklearnClassifier(model)\n",
    "    elif model_ == 'RF':\n",
    "        model_adv = ScikitlearnRandomForestClassifier(model)\n",
    "    elif model_ == 'XGB':\n",
    "        model_adv = XGBoostClassifier(model)\n",
    "    elif model_ == 'KNN':\n",
    "        model_adv = BaseEstimator(model)\n",
    "    else:\n",
    "        model_adv = KerasClassifier(model, clip_values=(0, 1))\n",
    "\n",
    "    attack_FGSM = FastGradientMethod(estimator=model_adv, eps=0.3)\n",
    "    if model_ == \"CNN\" or model_ == \"LSTM\":\n",
    "        adv = attack_FGSM.generate(X_test_ex)\n",
    "    else:\n",
    "        adv = attack_FGSM.generate(X_test)\n",
    "\n",
    "    if not os.path.exists(\"./Dataset/csv/Attacked\"):\n",
    "        os.mkdir(\"./Dataset/csv/Attacked\")\n",
    "    \n",
    "    adv_i = np.rint(adv[:,1:])\n",
    "    adv_int = np.insert(adv_i, 0, adv[:,0], axis=1)\n",
    "    if model_ == \"CNN\" or model_ ==\"LSTM\":\n",
    "        np.savetxt(\"./Dataset/csv/Attacked/FGSM_\" + model_ +\"_X_Test.csv\", adv_int[:,:,0], delimiter=\",\")\n",
    "    else:\n",
    "        np.savetxt(\"./Dataset/csv/Attacked/FGSM_\" + model_ +\"_X_Test.csv\", adv_int, delimiter=\",\")\n",
    "    return adv"
   ]
  },
  {
   "cell_type": "code",
   "execution_count": 35,
   "metadata": {},
   "outputs": [
    {
     "name": "stdout",
     "output_type": "stream",
     "text": [
      "WARNING:tensorflow:Layer lstm will not use cuDNN kernels since it doesn't meet the criteria. It will use a generic GPU kernel as fallback when running on GPU.\n",
      "WARNING:tensorflow:Layer lstm_1 will not use cuDNN kernels since it doesn't meet the criteria. It will use a generic GPU kernel as fallback when running on GPU.\n",
      "WARNING:tensorflow:Layer lstm_2 will not use cuDNN kernels since it doesn't meet the criteria. It will use a generic GPU kernel as fallback when running on GPU.\n",
      "WARNING:tensorflow:Layer lstm_3 will not use cuDNN kernels since it doesn't meet the criteria. It will use a generic GPU kernel as fallback when running on GPU.\n"
     ]
    }
   ],
   "source": [
    "X_train, X_test, y_train, y_test, X_train_ex, X_test_ex, y_train_ex, y_test_ex = import_dataset()\n",
    "DT, RF, LR, XGB, SVM, KNN, DNN, CNN, LSTM = import_model()\n",
    "#DTA FGSM(完成 快) CW(很久) JSMA(跑條跑不出來) PGD(完成) ZOO(很久 ing)"
   ]
  },
  {
   "cell_type": "code",
   "execution_count": 39,
   "metadata": {},
   "outputs": [],
   "source": [
    "savetxt(\"./Dataset/csv/Attacked/Original_X_Test.csv\", X_test, delimiter=\",\")\n",
    "savetxt(\"./Dataset/csv/Attacked/Original_y_Test.csv\", y_test, delimiter=\",\")"
   ]
  },
  {
   "cell_type": "code",
   "execution_count": 41,
   "metadata": {},
   "outputs": [
    {
     "name": "stdout",
     "output_type": "stream",
     "text": [
      "######## DTA_ DT  ########\n"
     ]
    },
    {
     "name": "stderr",
     "output_type": "stream",
     "text": [
      "c:\\Users\\Maxwang\\anaconda3\\envs\\Adversarial_attack_\\lib\\site-packages\\sklearn\\utils\\deprecation.py:103: FutureWarning: The attribute `n_features_` is deprecated in 1.0 and will be removed in 1.2. Use `n_features_in_` instead.\n",
      "  warnings.warn(msg, category=FutureWarning)\n",
      "Decision tree attack: 100%|██████████| 44730/44730 [00:16<00:00, 2791.89it/s]\n"
     ]
    },
    {
     "data": {
      "text/plain": [
       "array([[ 5.15089962e-05,  3.30000000e+02,  1.30000000e+01, ...,\n",
       "         1.30000000e+01,  1.71000000e+02,  0.00000000e+00],\n",
       "       [-9.98948000e-04,  4.87000000e+02,  0.00000000e+00, ...,\n",
       "         0.00000000e+00,  1.69501000e+02,  0.00000000e+00],\n",
       "       [ 5.15089962e-05,  3.30000000e+02,  1.30000000e+01, ...,\n",
       "         1.30000000e+01,  1.71000000e+02,  0.00000000e+00],\n",
       "       ...,\n",
       "       [-9.98948000e-04,  4.87000000e+02,  0.00000000e+00, ...,\n",
       "         0.00000000e+00,  1.69501000e+02,  0.00000000e+00],\n",
       "       [ 5.15089962e-05,  1.65001000e+02,  0.00000000e+00, ...,\n",
       "         0.00000000e+00,  0.00000000e+00,  0.00000000e+00],\n",
       "       [ 5.15089962e-05,  3.30000000e+02,  1.30000000e+01, ...,\n",
       "         1.30000000e+01,  1.71000000e+02,  0.00000000e+00]])"
      ]
     },
     "execution_count": 41,
     "metadata": {},
     "output_type": "execute_result"
    }
   ],
   "source": [
    "DTA(DT,\"DT\",X_test)"
   ]
  },
  {
   "cell_type": "code",
   "execution_count": 42,
   "metadata": {},
   "outputs": [
    {
     "name": "stdout",
     "output_type": "stream",
     "text": [
      "######## FGSM_ LR  ########\n",
      "######## FGSM_ SVM  ########\n",
      "######## FGSM_ DNN  ########\n"
     ]
    },
    {
     "name": "stderr",
     "output_type": "stream",
     "text": [
      "c:\\Users\\Maxwang\\anaconda3\\envs\\Adversarial_attack_\\lib\\site-packages\\tensorflow\\python\\keras\\engine\\training.py:2426: UserWarning: `Model.state_updates` will be removed in a future version. This property should not be used in TensorFlow 2.0, as `updates` are applied automatically.\n",
      "  warnings.warn('`Model.state_updates` will be removed in a future version. '\n"
     ]
    },
    {
     "name": "stdout",
     "output_type": "stream",
     "text": [
      "######## FGSM_ CNN  ########\n",
      "######## FGSM_ LSTM  ########\n"
     ]
    },
    {
     "data": {
      "text/plain": [
       "array([[[0.000e+00],\n",
       "        [3.297e+02],\n",
       "        [1.270e+01],\n",
       "        ...,\n",
       "        [1.270e+01],\n",
       "        [1.707e+02],\n",
       "        [0.000e+00]],\n",
       "\n",
       "       [[0.000e+00],\n",
       "        [4.867e+02],\n",
       "        [0.000e+00],\n",
       "        ...,\n",
       "        [0.000e+00],\n",
       "        [0.000e+00],\n",
       "        [0.000e+00]],\n",
       "\n",
       "       [[0.000e+00],\n",
       "        [3.297e+02],\n",
       "        [1.270e+01],\n",
       "        ...,\n",
       "        [1.270e+01],\n",
       "        [1.707e+02],\n",
       "        [0.000e+00]],\n",
       "\n",
       "       ...,\n",
       "\n",
       "       [[0.000e+00],\n",
       "        [4.867e+02],\n",
       "        [0.000e+00],\n",
       "        ...,\n",
       "        [0.000e+00],\n",
       "        [0.000e+00],\n",
       "        [0.000e+00]],\n",
       "\n",
       "       [[0.000e+00],\n",
       "        [0.000e+00],\n",
       "        [0.000e+00],\n",
       "        ...,\n",
       "        [3.000e-01],\n",
       "        [3.000e-01],\n",
       "        [3.000e-01]],\n",
       "\n",
       "       [[0.000e+00],\n",
       "        [3.297e+02],\n",
       "        [1.270e+01],\n",
       "        ...,\n",
       "        [1.270e+01],\n",
       "        [1.707e+02],\n",
       "        [0.000e+00]]], dtype=float32)"
      ]
     },
     "execution_count": 42,
     "metadata": {},
     "output_type": "execute_result"
    }
   ],
   "source": [
    "FGSM(LR, \"LR\", X_test, X_test_ex) \n",
    "FGSM(SVM, \"SVM\", X_test, X_test_ex) \n",
    "#FGSM(KNN, \"KNN\", X_test, X_test_ex)?\n",
    "FGSM(DNN, \"DNN\", X_test, X_test_ex) \n",
    "FGSM(CNN, \"CNN\", X_test, X_test_ex) \n",
    "FGSM(LSTM, \"LSTM\", X_test, X_test_ex) "
   ]
  },
  {
   "cell_type": "code",
   "execution_count": 43,
   "metadata": {},
   "outputs": [
    {
     "name": "stdout",
     "output_type": "stream",
     "text": [
      "######## CW_ LR  ########\n"
     ]
    },
    {
     "name": "stderr",
     "output_type": "stream",
     "text": [
      "C&W L_2: 100%|██████████| 44730/44730 [1:56:53<00:00,  6.38it/s]  \n"
     ]
    },
    {
     "name": "stdout",
     "output_type": "stream",
     "text": [
      "######## CW_ SVM  ########\n"
     ]
    },
    {
     "name": "stderr",
     "output_type": "stream",
     "text": [
      "C&W L_2: 100%|██████████| 44730/44730 [1:46:40<00:00,  6.99it/s]\n"
     ]
    },
    {
     "data": {
      "text/plain": [
       "array([[1.491070e-03, 3.300000e+02, 1.300000e+01, ..., 1.300000e+01,\n",
       "        1.710000e+02, 0.000000e+00],\n",
       "       [4.080000e-05, 4.870000e+02, 0.000000e+00, ..., 0.000000e+00,\n",
       "        0.000000e+00, 0.000000e+00],\n",
       "       [5.171150e-03, 3.300000e+02, 1.300000e+01, ..., 1.300000e+01,\n",
       "        1.710000e+02, 0.000000e+00],\n",
       "       ...,\n",
       "       [1.410000e-05, 4.870000e+02, 0.000000e+00, ..., 0.000000e+00,\n",
       "        0.000000e+00, 0.000000e+00],\n",
       "       [1.366854e-03, 0.000000e+00, 0.000000e+00, ..., 0.000000e+00,\n",
       "        0.000000e+00, 0.000000e+00],\n",
       "       [4.191011e-03, 3.300000e+02, 1.300000e+01, ..., 1.300000e+01,\n",
       "        1.710000e+02, 0.000000e+00]], dtype=float32)"
      ]
     },
     "execution_count": 43,
     "metadata": {},
     "output_type": "execute_result"
    }
   ],
   "source": [
    "CW(LR, \"LR\", X_test, X_test_ex) \n",
    "CW(SVM, \"SVM\", X_test, X_test_ex)  \n",
    "#CW(KNN, \"KNN\", X_test, X_test_ex) ?"
   ]
  },
  {
   "cell_type": "code",
   "execution_count": 44,
   "metadata": {},
   "outputs": [
    {
     "name": "stdout",
     "output_type": "stream",
     "text": [
      "######## ZOO_ DT  ########\n"
     ]
    },
    {
     "name": "stderr",
     "output_type": "stream",
     "text": [
      "c:\\Users\\Maxwang\\anaconda3\\envs\\Adversarial_attack_\\lib\\site-packages\\sklearn\\utils\\deprecation.py:103: FutureWarning: The attribute `n_features_` is deprecated in 1.0 and will be removed in 1.2. Use `n_features_in_` instead.\n",
      "  warnings.warn(msg, category=FutureWarning)\n",
      "ZOO: 100%|██████████| 44730/44730 [07:27<00:00, 100.02it/s]\n"
     ]
    },
    {
     "name": "stdout",
     "output_type": "stream",
     "text": [
      "######## ZOO_ RF  ########\n"
     ]
    },
    {
     "name": "stderr",
     "output_type": "stream",
     "text": [
      "c:\\Users\\Maxwang\\anaconda3\\envs\\Adversarial_attack_\\lib\\site-packages\\sklearn\\utils\\deprecation.py:103: FutureWarning: Attribute `n_features_` was deprecated in version 1.0 and will be removed in 1.2. Use `n_features_in_` instead.\n",
      "  warnings.warn(msg, category=FutureWarning)\n",
      "ZOO: 100%|██████████| 44730/44730 [1:00:03<00:00, 12.41it/s]\n"
     ]
    },
    {
     "name": "stdout",
     "output_type": "stream",
     "text": [
      "######## ZOO_ LR  ########\n"
     ]
    },
    {
     "name": "stderr",
     "output_type": "stream",
     "text": [
      "ZOO: 100%|██████████| 44730/44730 [12:38<00:00, 58.94it/s]\n"
     ]
    },
    {
     "name": "stdout",
     "output_type": "stream",
     "text": [
      "######## ZOO_ XGB  ########\n"
     ]
    },
    {
     "name": "stderr",
     "output_type": "stream",
     "text": [
      "ZOO: 100%|██████████| 44730/44730 [1:07:18<00:00, 11.08it/s]\n"
     ]
    },
    {
     "name": "stdout",
     "output_type": "stream",
     "text": [
      "######## ZOO_ SVM  ########\n"
     ]
    },
    {
     "name": "stderr",
     "output_type": "stream",
     "text": [
      "ZOO: 100%|██████████| 44730/44730 [07:50<00:00, 95.15it/s]\n"
     ]
    },
    {
     "name": "stdout",
     "output_type": "stream",
     "text": [
      "######## ZOO_ DNN  ########\n"
     ]
    },
    {
     "name": "stderr",
     "output_type": "stream",
     "text": [
      "ZOO: 100%|██████████| 44730/44730 [4:54:40<00:00,  2.53it/s]  \n"
     ]
    },
    {
     "data": {
      "text/plain": [
       "array([[1.49107000e-03, 1.00000000e+00, 1.00000000e+00, ...,\n",
       "        1.00000000e+00, 1.00000000e+00, 1.00000000e+00],\n",
       "       [4.08000000e-05, 1.00000000e+00, 0.00000000e+00, ...,\n",
       "        0.00000000e+00, 0.00000000e+00, 0.00000000e+00],\n",
       "       [5.17115000e-03, 1.00000000e+00, 1.00000000e+00, ...,\n",
       "        1.00000000e+00, 1.00000000e+00, 1.00000000e+00],\n",
       "       ...,\n",
       "       [1.41000000e-05, 1.00000000e+00, 0.00000000e+00, ...,\n",
       "        0.00000000e+00, 0.00000000e+00, 0.00000000e+00],\n",
       "       [2.01366857e-01, 0.00000000e+00, 0.00000000e+00, ...,\n",
       "        0.00000000e+00, 0.00000000e+00, 0.00000000e+00],\n",
       "       [4.19101100e-03, 1.00000000e+00, 1.00000000e+00, ...,\n",
       "        1.00000000e+00, 1.00000000e+00, 0.00000000e+00]])"
      ]
     },
     "execution_count": 44,
     "metadata": {},
     "output_type": "execute_result"
    }
   ],
   "source": [
    "ZOO(DT, \"DT\", X_test, X_test_ex) \n",
    "ZOO(RF, \"RF\", X_test, X_test_ex) \n",
    "ZOO(LR, \"LR\", X_test, X_test_ex) \n",
    "ZOO(XGB, \"XGB\", X_test, X_test_ex) \n",
    "ZOO(SVM, \"SVM\", X_test, X_test_ex) \n",
    "#ZOO(KNN, \"KNN\", X_test, X_test_ex)\n",
    "ZOO(DNN, \"DNN\", X_test, X_test_ex) "
   ]
  },
  {
   "cell_type": "code",
   "execution_count": 45,
   "metadata": {},
   "outputs": [
    {
     "name": "stdout",
     "output_type": "stream",
     "text": [
      "######## JSMA_ LR  ########\n"
     ]
    },
    {
     "name": "stderr",
     "output_type": "stream",
     "text": [
      "JSMA: 100%|██████████| 44730/44730 [01:06<00:00, 670.65it/s]\n"
     ]
    },
    {
     "name": "stdout",
     "output_type": "stream",
     "text": [
      "######## JSMA_ SVM  ########\n"
     ]
    },
    {
     "name": "stderr",
     "output_type": "stream",
     "text": [
      "JSMA: 100%|██████████| 44730/44730 [17:44<00:00, 42.03it/s]\n"
     ]
    },
    {
     "name": "stdout",
     "output_type": "stream",
     "text": [
      "######## JSMA_ DNN  ########\n"
     ]
    },
    {
     "name": "stderr",
     "output_type": "stream",
     "text": [
      "JSMA: 100%|██████████| 44730/44730 [3:09:33<00:00,  3.93it/s]  \n"
     ]
    },
    {
     "data": {
      "text/plain": [
       "array([[1.00000000e+00, 3.30000000e+02, 1.00000000e+00, ...,\n",
       "        1.30000000e+01, 1.71000000e+02, 1.00000000e+00],\n",
       "       [1.00000000e+00, 4.87000000e+02, 1.00000000e+00, ...,\n",
       "        1.00000000e+00, 1.00000000e+00, 1.00000000e+00],\n",
       "       [1.00000000e+00, 3.30000000e+02, 1.00000000e+00, ...,\n",
       "        1.30000000e+01, 1.71000000e+02, 1.00000000e+00],\n",
       "       ...,\n",
       "       [1.00000000e+00, 4.87000000e+02, 1.00000000e+00, ...,\n",
       "        1.00000000e+00, 1.00000000e+00, 1.00000000e+00],\n",
       "       [1.01366855e-01, 2.00000003e-01, 8.00000072e-01, ...,\n",
       "        4.00000006e-01, 7.00000048e-01, 1.00000000e+00],\n",
       "       [1.00000000e+00, 3.30000000e+02, 1.00000000e+00, ...,\n",
       "        1.30000000e+01, 1.71000000e+02, 1.00000000e+00]], dtype=float32)"
      ]
     },
     "execution_count": 45,
     "metadata": {},
     "output_type": "execute_result"
    }
   ],
   "source": [
    "JSMA(LR, \"LR\", X_test, X_test_ex) \n",
    "JSMA(SVM, \"SVM\", X_test, X_test_ex) \n",
    "#JSMA(KNN, \"KNN\", X_test, X_test_ex) ?\n",
    "JSMA(DNN, \"DNN\", X_test, X_test_ex)"
   ]
  },
  {
   "cell_type": "code",
   "execution_count": 46,
   "metadata": {},
   "outputs": [
    {
     "name": "stdout",
     "output_type": "stream",
     "text": [
      "######## PGD_ LR  ########\n",
      "######## PGD_ SVM  ########\n",
      "######## PGD_ DNN  ########\n",
      "######## PGD_ CNN  ########\n",
      "######## PGD_ LSTM  ########\n"
     ]
    },
    {
     "data": {
      "text/plain": [
       "array([[[0.000e+00],\n",
       "        [3.297e+02],\n",
       "        [1.270e+01],\n",
       "        ...,\n",
       "        [1.270e+01],\n",
       "        [1.707e+02],\n",
       "        [0.000e+00]],\n",
       "\n",
       "       [[0.000e+00],\n",
       "        [4.867e+02],\n",
       "        [0.000e+00],\n",
       "        ...,\n",
       "        [0.000e+00],\n",
       "        [0.000e+00],\n",
       "        [0.000e+00]],\n",
       "\n",
       "       [[0.000e+00],\n",
       "        [3.297e+02],\n",
       "        [1.270e+01],\n",
       "        ...,\n",
       "        [1.270e+01],\n",
       "        [1.707e+02],\n",
       "        [0.000e+00]],\n",
       "\n",
       "       ...,\n",
       "\n",
       "       [[0.000e+00],\n",
       "        [4.867e+02],\n",
       "        [0.000e+00],\n",
       "        ...,\n",
       "        [0.000e+00],\n",
       "        [0.000e+00],\n",
       "        [0.000e+00]],\n",
       "\n",
       "       [[0.000e+00],\n",
       "        [0.000e+00],\n",
       "        [0.000e+00],\n",
       "        ...,\n",
       "        [3.000e-01],\n",
       "        [3.000e-01],\n",
       "        [3.000e-01]],\n",
       "\n",
       "       [[0.000e+00],\n",
       "        [3.297e+02],\n",
       "        [1.270e+01],\n",
       "        ...,\n",
       "        [1.270e+01],\n",
       "        [1.707e+02],\n",
       "        [0.000e+00]]], dtype=float32)"
      ]
     },
     "execution_count": 46,
     "metadata": {},
     "output_type": "execute_result"
    }
   ],
   "source": [
    "PGD(LR, \"LR\", X_test, X_test_ex) \n",
    "PGD(SVM, \"SVM\", X_test, X_test_ex) \n",
    "#PGD(KNN, \"KNN\", X_test, X_test_ex) ?\n",
    "PGD(DNN, \"DNN\", X_test, X_test_ex)\n",
    "PGD(CNN, \"CNN\", X_test, X_test_ex)\n",
    "PGD(LSTM, \"LSTM\", X_test, X_test_ex)"
   ]
  },
  {
   "cell_type": "code",
   "execution_count": null,
   "metadata": {},
   "outputs": [
    {
     "name": "stderr",
     "output_type": "stream",
     "text": [
      "c:\\Users\\Maxwang\\anaconda3\\envs\\Adversarial_attack_\\lib\\site-packages\\sklearn\\utils\\deprecation.py:103: FutureWarning: The attribute `n_features_` is deprecated in 1.0 and will be removed in 1.2. Use `n_features_in_` instead.\n",
      "  warnings.warn(msg, category=FutureWarning)\n",
      "Decision tree attack: 100%|██████████| 44730/44730 [00:17<00:00, 2615.59it/s]\n"
     ]
    }
   ],
   "source": [
    "adv = DTA(DT, \"DT\", X_test)"
   ]
  },
  {
   "cell_type": "code",
   "execution_count": null,
   "metadata": {},
   "outputs": [],
   "source": [
    "adv_i = np.rint(adv[:,1:])\n",
    "arr = np.insert(adv_i, 0, adv[:,0], axis=1)\n",
    "np.savetxt(\"./Dataset/csv/Attacked/test.csv\", arr, delimiter=\",\")"
   ]
  },
  {
   "cell_type": "code",
   "execution_count": null,
   "metadata": {},
   "outputs": [
    {
     "name": "stdout",
     "output_type": "stream",
     "text": [
      "0.971070869662419\n",
      "              precision    recall  f1-score   support\n",
      "\n",
      "           0       0.97      0.98      0.97     23042\n",
      "           1       0.97      0.97      0.97     21688\n",
      "\n",
      "    accuracy                           0.97     44730\n",
      "   macro avg       0.97      0.97      0.97     44730\n",
      "weighted avg       0.97      0.97      0.97     44730\n",
      "\n"
     ]
    }
   ],
   "source": [
    "model = DT\n",
    "model.fit(X_train,y_train)\n",
    "print(model.score(X_test, y_test))\n",
    "prediction = model.predict(X_test)\n",
    "print(classification_report(y_test,prediction))"
   ]
  },
  {
   "cell_type": "code",
   "execution_count": null,
   "metadata": {},
   "outputs": [
    {
     "name": "stdout",
     "output_type": "stream",
     "text": [
      "0.44804381846635366\n",
      "              precision    recall  f1-score   support\n",
      "\n",
      "           0       0.33      0.07      0.12     23042\n",
      "           1       0.46      0.85      0.60     21688\n",
      "\n",
      "    accuracy                           0.45     44730\n",
      "   macro avg       0.40      0.46      0.36     44730\n",
      "weighted avg       0.39      0.45      0.35     44730\n",
      "\n"
     ]
    }
   ],
   "source": [
    "model = DT\n",
    "model.fit(X_train,y_train)\n",
    "print(model.score(arr, y_test))\n",
    "prediction = model.predict(arr)\n",
    "print(classification_report(y_test,prediction))"
   ]
  }
 ],
 "metadata": {
  "kernelspec": {
   "display_name": "Python 3.8.13 ('Adversarial_attack_')",
   "language": "python",
   "name": "python3"
  },
  "language_info": {
   "codemirror_mode": {
    "name": "ipython",
    "version": 3
   },
   "file_extension": ".py",
   "mimetype": "text/x-python",
   "name": "python",
   "nbconvert_exporter": "python",
   "pygments_lexer": "ipython3",
   "version": "3.8.13"
  },
  "orig_nbformat": 4,
  "vscode": {
   "interpreter": {
    "hash": "8dab91cb55a779ebb65e73a37577434c9648b8bfd406d9f159bac9d9fb993402"
   }
  }
 },
 "nbformat": 4,
 "nbformat_minor": 2
}
