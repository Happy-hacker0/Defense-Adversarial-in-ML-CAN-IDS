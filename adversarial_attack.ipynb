{
 "cells": [
  {
   "cell_type": "code",
   "execution_count": 41,
   "metadata": {},
   "outputs": [],
   "source": [
    "from scapy.all import *\n",
    "import sys\n",
    "import codecs\n",
    "import re\n",
    "import numpy as np\n",
    "from numpy import newaxis\n",
    "import string\n",
    "from nltk.corpus import stopwords \n",
    "import time\n",
    "from sklearn.tree import DecisionTreeClassifier\n",
    "from xgboost import XGBClassifier\n",
    "from sklearn.linear_model import LogisticRegression\n",
    "from sklearn.svm import LinearSVC\n",
    "from sklearn.neighbors import KNeighborsClassifier\n",
    "from sklearn.model_selection import train_test_split\n",
    "import tensorflow as tf\n",
    "tf.compat.v1.experimental.output_all_intermediates(True)\n",
    "\n",
    "from joblib import dump, load\n",
    "\n",
    "from sklearn.metrics import classification_report\n",
    "from art.attacks.evasion import ProjectedGradientDescent\n",
    "from art.attacks.evasion import ZooAttack\n",
    "from art.attacks.evasion import FastGradientMethod\n",
    "from art.attacks.evasion import CarliniL2Method\n",
    "from art.attacks.evasion import SaliencyMapMethod\n",
    "from art.attacks.evasion import DecisionTreeAttack\n",
    "\n",
    "import sklearn\n",
    "from art.estimators.classification import SklearnClassifier\n",
    "from art.estimators.classification import XGBoostClassifier\n",
    "from art.estimators.classification import KerasClassifier\n",
    "from art.estimators.classification import EnsembleClassifier\n",
    "from art.estimators.classification.scikitlearn import ScikitlearnRandomForestClassifier\n",
    "\n",
    "\n",
    "from itertools import islice\n",
    "from tqdm import tqdm\n",
    "import pandas as pd\n",
    "import numpy as np\n",
    "from keras.callbacks import EarlyStopping, ModelCheckpoint, ReduceLROnPlateau\n",
    "tf.compat.v1.disable_eager_execution()\n"
   ]
  },
  {
   "cell_type": "code",
   "execution_count": 2,
   "metadata": {},
   "outputs": [],
   "source": [
    "# Import normal Dataset\n",
    "def import_dataset():\n",
    "    with open('./Dataset/csv/Original/Attack_merge.csv', newline='') as csvfile:\n",
    "        rows = pd.read_csv(csvfile,header=None)\n",
    "        y = rows[10]\n",
    "        x = rows.drop([10], axis=1)\n",
    "        X_train, X_test, y_train, y_test = train_test_split(x, y , test_size=0.2)\n",
    "        y_train_ex = tf.expand_dims(y_train, axis=1)\n",
    "        X_train_ex = tf.expand_dims(X_train, axis=2)\n",
    "        y_test_ex = tf.expand_dims(y_test, axis=1)\n",
    "        X_test_ex = tf.expand_dims(X_test, axis=2)\n",
    "    return X_train, X_test, y_train, y_test, X_train_ex, X_test_ex, y_train_ex, y_test_ex"
   ]
  },
  {
   "cell_type": "code",
   "execution_count": 3,
   "metadata": {},
   "outputs": [],
   "source": [
    "# Import Model\n",
    "def import_model():\n",
    "    DT = load(\"./models/DT.joblib\")\n",
    "    RF = load(\"./models/RF.joblib\")\n",
    "    LR = load(\"./models/LR.joblib\")\n",
    "    XGB = load(\"./models/XGB.joblib\") \n",
    "    SVM = load (\"./models/SVM.joblib\")\n",
    "    KNN = load(\"./models/KNN.joblib\")\n",
    "    DNN = tf.keras.models.load_model(\"./models/DNN4.h5\")\n",
    "    CNN = tf.keras.models.load_model(\"./models/CNN.h5\")\n",
    "    LSTM = tf.keras.models.load_model(\"./models/LSTM.h5\")\n",
    "    return DT, RF, LR, XGB, SVM, KNN, DNN, CNN, LSTM"
   ]
  },
  {
   "cell_type": "code",
   "execution_count": 4,
   "metadata": {},
   "outputs": [],
   "source": [
    "def DTA(model, model_, X_test):\n",
    "    print(\"######## DTA_\", model_,\" ########\")\n",
    "    DT_adv = SklearnClassifier(model)\n",
    "    attack_DT = DecisionTreeAttack(DT_adv)\n",
    "    adv = attack_DT.generate(np.array(X_test))\n",
    "    if not os.path.exists(\"./Dataset/csv/Attacked\"):\n",
    "        os.mkdir(\"./Dataset/csv/Attacked\")\n",
    "\n",
    "    adv_i = np.rint(adv[:,1:])\n",
    "    adv_int = np.insert(adv_i, 0, adv[:,0], axis=1)\n",
    "    np.savetxt(\"./Dataset/csv/Attacked/DTA_DT_X_Test.csv\", adv_int, delimiter=\",\")\n",
    "    return adv"
   ]
  },
  {
   "cell_type": "code",
   "execution_count": 64,
   "metadata": {},
   "outputs": [],
   "source": [
    "def CW(model, model_, X_test):\n",
    "    print(\"######## CW_\", model_,\" ########\")\n",
    "    if model_ =='SVM':\n",
    "        model_adv = SklearnClassifier(model, clip_values=(0, 10))\n",
    "    elif model_ == 'LR' or model_ == 'DT':\n",
    "        model_adv = SklearnClassifier(model)\n",
    "    elif model_ == 'RF':\n",
    "        model_adv = ScikitlearnRandomForestClassifier(model)\n",
    "    elif model_ == 'XGB':\n",
    "        model_adv = XGBoostClassifier(model=model, nb_features=X_test.shape[1], nb_classes=10)\n",
    "    else:\n",
    "        model_adv = KerasClassifier(model, clip_values=(0, 1))\n",
    "\n",
    "    attack_CW = CarliniL2Method(model_adv, max_iter=20, verbose=True)\n",
    "\n",
    "    if model_ == \"CNN\" or model_ ==\"LSTM\":\n",
    "        X_test = np.array(X_test)\n",
    "        X_test_ex = X_test[:, :, newaxis]\n",
    "        adv = attack_CW.generate(np.array(X_test_ex))\n",
    "    else:\n",
    "        adv = attack_CW.generate(np.array(X_test))\n",
    "    if not os.path.exists(\"./Dataset/csv/Attacked\"):\n",
    "        os.mkdir(\"./Dataset/csv/Attacked\")\n",
    "    \n",
    "    adv_i = np.rint(adv[:,1:])\n",
    "    adv_int = np.insert(adv_i, 0, adv[:,0], axis=1)\n",
    "    np.savetxt(\"./Dataset/csv/Attacked/CW_\" + model_ +\"_X_Test.csv\", adv_int, delimiter=\",\")\n",
    "    return adv"
   ]
  },
  {
   "cell_type": "code",
   "execution_count": 71,
   "metadata": {},
   "outputs": [],
   "source": [
    "def JSMA(model, model_, X_test):\n",
    "    print(\"######## JSMA_\", model_,\" ########\")\n",
    "    if model_ =='SVM':\n",
    "        model_adv = SklearnClassifier(model, clip_values=(0, 10))\n",
    "    elif model_ == 'LR' or model_ == 'DT':\n",
    "        model_adv = SklearnClassifier(model)\n",
    "    elif model_ == 'RF':\n",
    "        model_adv = ScikitlearnRandomForestClassifier(model)\n",
    "    elif model_ == 'XGB':\n",
    "        model_adv = XGBoostClassifier(model=model, nb_features=X_test.shape[1], nb_classes=10)\n",
    "    else:\n",
    "        model_adv = KerasClassifier(model, clip_values=(0, 1))\n",
    "        \n",
    "    attack_JSMA = SaliencyMapMethod(estimator=model_adv)\n",
    "\n",
    "    if model_ == \"CNN\" or model_ ==\"LSTM\":\n",
    "        X_test = np.array(X_test)\n",
    "        X_test_ex = X_test[:, :, newaxis]\n",
    "        adv = attack_JSMA.generate(np.array(X_test_ex))\n",
    "    else:\n",
    "        adv = attack_JSMA.generate(np.array(X_test))\n",
    "\n",
    "    if not os.path.exists(\"./Dataset/csv/Attacked\"):\n",
    "        os.mkdir(\"./Dataset/csv/Attacked\")\n",
    "    \n",
    "    adv_i = np.rint(adv[:,1:])\n",
    "    adv_int = np.insert(adv_i, 0, adv[:,0], axis=1)\n",
    "    np.savetxt(\"./Dataset/csv/Attacked/JSMA_\" + model_ +\"_X_Test.csv\", adv_int, delimiter=\",\")\n",
    "    return adv"
   ]
  },
  {
   "cell_type": "code",
   "execution_count": 67,
   "metadata": {},
   "outputs": [],
   "source": [
    "def PGD(model, model_, X_test):\n",
    "    print(\"######## PGD_\", model_,\" ########\")\n",
    "    if model_ =='SVM':\n",
    "        model_adv = SklearnClassifier(model, clip_values=(0, 10))\n",
    "    elif model_ == 'LR' or model_ == 'DT':\n",
    "        model_adv = SklearnClassifier(model)\n",
    "    elif model_ == 'RF':\n",
    "        model_adv = ScikitlearnRandomForestClassifier(model)\n",
    "    elif model_ == 'XGB':\n",
    "        model_adv = XGBoostClassifier(model=model, nb_features=X_test.shape[1], nb_classes=10)\n",
    "    else:\n",
    "        model_adv = KerasClassifier(model, clip_values=(0, 1))\n",
    "\n",
    "    attack_PGD = ProjectedGradientDescent(estimator=model_adv, norm=np.inf, eps=.3, eps_step=0.1, max_iter=20, \n",
    "                               targeted=False, num_random_init=0, batch_size=128, verbose=False)\n",
    "    \n",
    "    if model_ == \"CNN\" or model_ ==\"LSTM\":\n",
    "        X_test = np.array(X_test)\n",
    "        X_test_ex = X_test[:, :, newaxis]\n",
    "        adv = attack_PGD.generate(np.array(X_test_ex))\n",
    "    else:\n",
    "        adv = attack_PGD.generate(np.array(X_test))\n",
    "\n",
    "    if not os.path.exists(\"./Dataset/csv/Attacked\"):\n",
    "        os.mkdir(\"./Dataset/csv/Attacked\")\n",
    "    \n",
    "    adv_i = np.rint(adv[:,1:])\n",
    "    adv_int = np.insert(adv_i, 0, adv[:,0], axis=1)\n",
    "    np.savetxt(\"./Dataset/csv/Attacked/PGD_\" + model_ +\"_X_Test.csv\", adv_int, delimiter=\",\")\n",
    "    return adv"
   ]
  },
  {
   "cell_type": "code",
   "execution_count": 52,
   "metadata": {},
   "outputs": [],
   "source": [
    "def ZOO(model, model_, X_test):\n",
    "    print(\"######## ZOO_\", model_,\" ########\")\n",
    "    if model_ =='SVM':\n",
    "        model_adv = SklearnClassifier(model, clip_values=(0, 10))\n",
    "    elif model_ == 'LR' or model_ == 'DT':\n",
    "        model_adv = SklearnClassifier(model)\n",
    "    elif model_ == 'RF':\n",
    "        model_adv = ScikitlearnRandomForestClassifier(model)\n",
    "    elif model_ == 'XGB':\n",
    "        model_adv = XGBoostClassifier(model=model, nb_features=X_test.shape[1], nb_classes=10)\n",
    "    else:\n",
    "        model_adv = KerasClassifier(model, clip_values=(0, 1))\n",
    "\n",
    "    attack_ZOO = ZooAttack(classifier=model_adv, confidence=0.0, targeted=False, learning_rate=1e-1, max_iter=20,\n",
    "                    binary_search_steps=10, initial_const=1e-3, abort_early=True, use_resize=False, \n",
    "                    use_importance=False, nb_parallel=1, batch_size=1, variable_h=0.2)\n",
    "    \n",
    "    if model_ == \"CNN\" or model_ ==\"LSTM\":\n",
    "        X_test = np.array(X_test)\n",
    "        X_test_ex = X_test[:, :, newaxis]\n",
    "        adv = attack_ZOO.generate(np.array(X_test_ex))\n",
    "    else:\n",
    "        adv = attack_ZOO.generate(np.array(X_test))\n",
    "\n",
    "    if not os.path.exists(\"./Dataset/csv/Attacked\"):\n",
    "        os.mkdir(\"./Dataset/csv/Attacked\")\n",
    "    \n",
    "    adv_i = np.rint(adv[:,1:])\n",
    "    adv_int = np.insert(adv_i, 0, adv[:,0], axis=1)\n",
    "    np.savetxt(\"./Dataset/csv/Attacked/ZOO_\" + model_ +\"_X_Test.csv\", adv_int, delimiter=\",\")\n",
    "    return adv"
   ]
  },
  {
   "cell_type": "code",
   "execution_count": 54,
   "metadata": {},
   "outputs": [],
   "source": [
    "def FGSM(model, model_, X_test):\n",
    "    print(\"######## FGSM_\", model_,\" ########\")\n",
    "    if model_ =='SVM' or model_ == \"RF\" :\n",
    "        model_adv = SklearnClassifier(model, clip_values=(0, 10))\n",
    "    elif model_ == 'LR':\n",
    "        model_adv = SklearnClassifier(model)\n",
    "    elif model_ == 'RF':\n",
    "        model_adv = ScikitlearnRandomForestClassifier(model)\n",
    "    elif model_ == 'XGB':\n",
    "        model_adv = XGBoostClassifier(model)\n",
    "    else:\n",
    "        model_adv = KerasClassifier(model, clip_values=(0, 1))\n",
    "\n",
    "    attack_FGSM = FastGradientMethod(estimator=model_adv, eps=0.3)\n",
    "    if model_ == \"CNN\" or model_ == \"LSTM\":\n",
    "        X_test = np.array(X_test)\n",
    "        X_test_ex = X_test[:, :, newaxis]\n",
    "        adv = attack_FGSM.generate(np.array(X_test_ex))\n",
    "    else:\n",
    "        adv = attack_FGSM.generate(np.array(X_test))\n",
    "\n",
    "    if not os.path.exists(\"./Dataset/csv/Attacked\"):\n",
    "        os.mkdir(\"./Dataset/csv/Attacked\")\n",
    "    \n",
    "    adv_i = np.rint(adv[:,1:])\n",
    "    adv_int = np.insert(adv_i, 0, adv[:,0], axis=1)\n",
    "    if model_ == \"CNN\" or model_ ==\"LSTM\":\n",
    "        np.savetxt(\"./Dataset/csv/Attacked/FGSM_\" + model_ +\"_X_Test.csv\", adv_int[:,:,0], delimiter=\",\")\n",
    "    else:\n",
    "        np.savetxt(\"./Dataset/csv/Attacked/FGSM_\" + model_ +\"_X_Test.csv\", adv_int, delimiter=\",\")\n",
    "    return adv"
   ]
  },
  {
   "cell_type": "code",
   "execution_count": 10,
   "metadata": {},
   "outputs": [
    {
     "name": "stdout",
     "output_type": "stream",
     "text": [
      "WARNING:tensorflow:From c:\\Users\\Maxwang\\anaconda3\\envs\\Adversarial_attack_\\lib\\site-packages\\tensorflow\\python\\keras\\layers\\normalization.py:534: _colocate_with (from tensorflow.python.framework.ops) is deprecated and will be removed in a future version.\n",
      "Instructions for updating:\n",
      "Colocations handled automatically by placer.\n",
      "WARNING:tensorflow:Layer lstm will not use cuDNN kernels since it doesn't meet the criteria. It will use a generic GPU kernel as fallback when running on GPU.\n",
      "WARNING:tensorflow:Layer lstm_1 will not use cuDNN kernels since it doesn't meet the criteria. It will use a generic GPU kernel as fallback when running on GPU.\n",
      "WARNING:tensorflow:Layer lstm_2 will not use cuDNN kernels since it doesn't meet the criteria. It will use a generic GPU kernel as fallback when running on GPU.\n",
      "WARNING:tensorflow:Layer lstm_3 will not use cuDNN kernels since it doesn't meet the criteria. It will use a generic GPU kernel as fallback when running on GPU.\n"
     ]
    }
   ],
   "source": [
    "X_train, X_test, y_train, y_test, X_train_ex, X_test_ex, y_train_ex, y_test_ex = import_dataset()\n",
    "DT, RF, LR, XGB, SVM, KNN, DNN, CNN, LSTM = import_model()\n",
    "#DTA FGSM(完成 快) CW(很久) JSMA(跑條跑不出來) PGD(完成) ZOO(很久 ing)"
   ]
  },
  {
   "cell_type": "code",
   "execution_count": 55,
   "metadata": {},
   "outputs": [
    {
     "name": "stdout",
     "output_type": "stream",
     "text": [
      "######## FGSM_ RF  ########\n"
     ]
    },
    {
     "name": "stderr",
     "output_type": "stream",
     "text": [
      "c:\\Users\\Maxwang\\anaconda3\\envs\\Adversarial_attack_\\lib\\site-packages\\sklearn\\utils\\deprecation.py:103: FutureWarning: Attribute `n_features_` was deprecated in version 1.0 and will be removed in 1.2. Use `n_features_in_` instead.\n",
      "  warnings.warn(msg, category=FutureWarning)\n"
     ]
    },
    {
     "ename": "EstimatorError",
     "evalue": "FastGradientMethod requires an estimator derived from <class 'art.estimators.estimator.BaseEstimator'> and <class 'art.estimators.estimator.LossGradientsMixin'>, the provided classifier is an instance of <class 'art.estimators.classification.scikitlearn.ScikitlearnRandomForestClassifier'> and is derived from (<class 'art.estimators.classification.scikitlearn.ScikitlearnClassifier'>,).",
     "output_type": "error",
     "traceback": [
      "\u001b[1;31m---------------------------------------------------------------------------\u001b[0m",
      "\u001b[1;31mEstimatorError\u001b[0m                            Traceback (most recent call last)",
      "\u001b[1;32mc:\\Lab\\Code\\Defense Adversarial in ML CAN IDS\\adversarial_attack.ipynb Cell 11\u001b[0m in \u001b[0;36m<cell line: 3>\u001b[1;34m()\u001b[0m\n\u001b[0;32m      <a href='vscode-notebook-cell:/c%3A/Lab/Code/Defense%20Adversarial%20in%20ML%20CAN%20IDS/adversarial_attack.ipynb#X13sZmlsZQ%3D%3D?line=0'>1</a>\u001b[0m \u001b[39m# FGSM(LR, \"LR\", X_test) OK\u001b[39;00m\n\u001b[0;32m      <a href='vscode-notebook-cell:/c%3A/Lab/Code/Defense%20Adversarial%20in%20ML%20CAN%20IDS/adversarial_attack.ipynb#X13sZmlsZQ%3D%3D?line=1'>2</a>\u001b[0m \u001b[39m#FGSM(XGB, \"XGB\", X_test)\u001b[39;00m\n\u001b[1;32m----> <a href='vscode-notebook-cell:/c%3A/Lab/Code/Defense%20Adversarial%20in%20ML%20CAN%20IDS/adversarial_attack.ipynb#X13sZmlsZQ%3D%3D?line=2'>3</a>\u001b[0m FGSM(RF, \u001b[39m\"\u001b[39;49m\u001b[39mRF\u001b[39;49m\u001b[39m\"\u001b[39;49m, X_test)\n\u001b[0;32m      <a href='vscode-notebook-cell:/c%3A/Lab/Code/Defense%20Adversarial%20in%20ML%20CAN%20IDS/adversarial_attack.ipynb#X13sZmlsZQ%3D%3D?line=3'>4</a>\u001b[0m \u001b[39m#FGSM(SVM, \"SVM\", X_test) OK\u001b[39;00m\n\u001b[0;32m      <a href='vscode-notebook-cell:/c%3A/Lab/Code/Defense%20Adversarial%20in%20ML%20CAN%20IDS/adversarial_attack.ipynb#X13sZmlsZQ%3D%3D?line=4'>5</a>\u001b[0m FGSM(KNN, \u001b[39m\"\u001b[39m\u001b[39mKNN\u001b[39m\u001b[39m\"\u001b[39m, X_test)\n",
      "\u001b[1;32mc:\\Lab\\Code\\Defense Adversarial in ML CAN IDS\\adversarial_attack.ipynb Cell 11\u001b[0m in \u001b[0;36mFGSM\u001b[1;34m(model, model_, X_test)\u001b[0m\n\u001b[0;32m     <a href='vscode-notebook-cell:/c%3A/Lab/Code/Defense%20Adversarial%20in%20ML%20CAN%20IDS/adversarial_attack.ipynb#X13sZmlsZQ%3D%3D?line=10'>11</a>\u001b[0m \u001b[39melse\u001b[39;00m:\n\u001b[0;32m     <a href='vscode-notebook-cell:/c%3A/Lab/Code/Defense%20Adversarial%20in%20ML%20CAN%20IDS/adversarial_attack.ipynb#X13sZmlsZQ%3D%3D?line=11'>12</a>\u001b[0m     model_adv \u001b[39m=\u001b[39m KerasClassifier(model, clip_values\u001b[39m=\u001b[39m(\u001b[39m0\u001b[39m, \u001b[39m1\u001b[39m))\n\u001b[1;32m---> <a href='vscode-notebook-cell:/c%3A/Lab/Code/Defense%20Adversarial%20in%20ML%20CAN%20IDS/adversarial_attack.ipynb#X13sZmlsZQ%3D%3D?line=13'>14</a>\u001b[0m attack_FGSM \u001b[39m=\u001b[39m FastGradientMethod(estimator\u001b[39m=\u001b[39;49mmodel_adv, eps\u001b[39m=\u001b[39;49m\u001b[39m0.3\u001b[39;49m)\n\u001b[0;32m     <a href='vscode-notebook-cell:/c%3A/Lab/Code/Defense%20Adversarial%20in%20ML%20CAN%20IDS/adversarial_attack.ipynb#X13sZmlsZQ%3D%3D?line=14'>15</a>\u001b[0m \u001b[39mif\u001b[39;00m model_ \u001b[39m==\u001b[39m \u001b[39m\"\u001b[39m\u001b[39mCNN\u001b[39m\u001b[39m\"\u001b[39m \u001b[39mor\u001b[39;00m model_ \u001b[39m==\u001b[39m \u001b[39m\"\u001b[39m\u001b[39mLSTM\u001b[39m\u001b[39m\"\u001b[39m:\n\u001b[0;32m     <a href='vscode-notebook-cell:/c%3A/Lab/Code/Defense%20Adversarial%20in%20ML%20CAN%20IDS/adversarial_attack.ipynb#X13sZmlsZQ%3D%3D?line=15'>16</a>\u001b[0m     X_test \u001b[39m=\u001b[39m np\u001b[39m.\u001b[39marray(X_test)\n",
      "File \u001b[1;32mc:\\Users\\Maxwang\\anaconda3\\envs\\Adversarial_attack_\\lib\\site-packages\\art\\attacks\\evasion\\fast_gradient.py:104\u001b[0m, in \u001b[0;36mFastGradientMethod.__init__\u001b[1;34m(self, estimator, norm, eps, eps_step, targeted, num_random_init, batch_size, minimal, summary_writer)\u001b[0m\n\u001b[0;32m     71\u001b[0m \u001b[39mdef\u001b[39;00m \u001b[39m__init__\u001b[39m(\n\u001b[0;32m     72\u001b[0m     \u001b[39mself\u001b[39m,\n\u001b[0;32m     73\u001b[0m     estimator: \u001b[39m\"\u001b[39m\u001b[39mCLASSIFIER_LOSS_GRADIENTS_TYPE\u001b[39m\u001b[39m\"\u001b[39m,\n\u001b[1;32m   (...)\u001b[0m\n\u001b[0;32m     81\u001b[0m     summary_writer: Union[\u001b[39mstr\u001b[39m, \u001b[39mbool\u001b[39m, SummaryWriter] \u001b[39m=\u001b[39m \u001b[39mFalse\u001b[39;00m,\n\u001b[0;32m     82\u001b[0m ) \u001b[39m-\u001b[39m\u001b[39m>\u001b[39m \u001b[39mNone\u001b[39;00m:\n\u001b[0;32m     83\u001b[0m     \u001b[39m\"\"\"\u001b[39;00m\n\u001b[0;32m     84\u001b[0m \u001b[39m    Create a :class:`.FastGradientMethod` instance.\u001b[39;00m\n\u001b[0;32m     85\u001b[0m \n\u001b[1;32m   (...)\u001b[0m\n\u001b[0;32m    102\u001b[0m \u001b[39m                           ‘runs/exp1’, ‘runs/exp2’, etc. for each new experiment to compare across them.\u001b[39;00m\n\u001b[0;32m    103\u001b[0m \u001b[39m    \"\"\"\u001b[39;00m\n\u001b[1;32m--> 104\u001b[0m     \u001b[39msuper\u001b[39;49m()\u001b[39m.\u001b[39;49m\u001b[39m__init__\u001b[39;49m(estimator\u001b[39m=\u001b[39;49mestimator, summary_writer\u001b[39m=\u001b[39;49msummary_writer)\n\u001b[0;32m    105\u001b[0m     \u001b[39mself\u001b[39m\u001b[39m.\u001b[39mnorm \u001b[39m=\u001b[39m norm\n\u001b[0;32m    106\u001b[0m     \u001b[39mself\u001b[39m\u001b[39m.\u001b[39meps \u001b[39m=\u001b[39m eps\n",
      "File \u001b[1;32mc:\\Users\\Maxwang\\anaconda3\\envs\\Adversarial_attack_\\lib\\site-packages\\art\\attacks\\attack.py:194\u001b[0m, in \u001b[0;36mEvasionAttack.__init__\u001b[1;34m(self, **kwargs)\u001b[0m\n\u001b[0;32m    192\u001b[0m \u001b[39mdef\u001b[39;00m \u001b[39m__init__\u001b[39m(\u001b[39mself\u001b[39m, \u001b[39m*\u001b[39m\u001b[39m*\u001b[39mkwargs) \u001b[39m-\u001b[39m\u001b[39m>\u001b[39m \u001b[39mNone\u001b[39;00m:\n\u001b[0;32m    193\u001b[0m     \u001b[39mself\u001b[39m\u001b[39m.\u001b[39m_targeted \u001b[39m=\u001b[39m \u001b[39mFalse\u001b[39;00m\n\u001b[1;32m--> 194\u001b[0m     \u001b[39msuper\u001b[39;49m()\u001b[39m.\u001b[39;49m\u001b[39m__init__\u001b[39;49m(\u001b[39m*\u001b[39;49m\u001b[39m*\u001b[39;49mkwargs)\n",
      "File \u001b[1;32mc:\\Users\\Maxwang\\anaconda3\\envs\\Adversarial_attack_\\lib\\site-packages\\art\\attacks\\attack.py:122\u001b[0m, in \u001b[0;36mAttack.__init__\u001b[1;34m(self, estimator, summary_writer)\u001b[0m\n\u001b[0;32m    119\u001b[0m     \u001b[39mraise\u001b[39;00m \u001b[39mValueError\u001b[39;00m(\u001b[39m\"\u001b[39m\u001b[39mEstimator requirements have not been defined in `_estimator_requirements`.\u001b[39m\u001b[39m\"\u001b[39m)\n\u001b[0;32m    121\u001b[0m \u001b[39mif\u001b[39;00m \u001b[39mnot\u001b[39;00m \u001b[39mself\u001b[39m\u001b[39m.\u001b[39mis_estimator_valid(estimator, \u001b[39mself\u001b[39m\u001b[39m.\u001b[39m_estimator_requirements):\n\u001b[1;32m--> 122\u001b[0m     \u001b[39mraise\u001b[39;00m EstimatorError(\u001b[39mself\u001b[39m\u001b[39m.\u001b[39m\u001b[39m__class__\u001b[39m, \u001b[39mself\u001b[39m\u001b[39m.\u001b[39mestimator_requirements, estimator)\n\u001b[0;32m    124\u001b[0m \u001b[39mself\u001b[39m\u001b[39m.\u001b[39m_estimator \u001b[39m=\u001b[39m estimator\n\u001b[0;32m    125\u001b[0m \u001b[39mself\u001b[39m\u001b[39m.\u001b[39m_summary_writer_arg \u001b[39m=\u001b[39m summary_writer\n",
      "\u001b[1;31mEstimatorError\u001b[0m: FastGradientMethod requires an estimator derived from <class 'art.estimators.estimator.BaseEstimator'> and <class 'art.estimators.estimator.LossGradientsMixin'>, the provided classifier is an instance of <class 'art.estimators.classification.scikitlearn.ScikitlearnRandomForestClassifier'> and is derived from (<class 'art.estimators.classification.scikitlearn.ScikitlearnClassifier'>,)."
     ]
    }
   ],
   "source": [
    "# FGSM(LR, \"LR\", X_test) OK\n",
    "#FGSM(XGB, \"XGB\", X_test)\n",
    "FGSM(RF, \"RF\", X_test)\n",
    "#FGSM(SVM, \"SVM\", X_test) OK\n",
    "FGSM(KNN, \"KNN\", X_test)\n",
    "#FGSM(DNN, \"DNN\", X_test) OK\n",
    "#FGSM(CNN, \"CNN\", X_test) OK\n",
    "# FGSM(LSTM, \"LSTM\", X_test)"
   ]
  },
  {
   "cell_type": "code",
   "execution_count": 65,
   "metadata": {},
   "outputs": [
    {
     "name": "stdout",
     "output_type": "stream",
     "text": [
      "######## CW_ RF  ########\n"
     ]
    },
    {
     "name": "stderr",
     "output_type": "stream",
     "text": [
      "c:\\Users\\Maxwang\\anaconda3\\envs\\Adversarial_attack_\\lib\\site-packages\\sklearn\\utils\\deprecation.py:103: FutureWarning: Attribute `n_features_` was deprecated in version 1.0 and will be removed in 1.2. Use `n_features_in_` instead.\n",
      "  warnings.warn(msg, category=FutureWarning)\n"
     ]
    },
    {
     "ename": "EstimatorError",
     "evalue": "CarliniL2Method requires an estimator derived from <class 'art.estimators.estimator.BaseEstimator'> and <class 'art.estimators.classification.classifier.ClassGradientsMixin'>, the provided classifier is an instance of <class 'art.estimators.classification.scikitlearn.ScikitlearnRandomForestClassifier'> and is derived from (<class 'art.estimators.classification.scikitlearn.ScikitlearnClassifier'>,).",
     "output_type": "error",
     "traceback": [
      "\u001b[1;31m---------------------------------------------------------------------------\u001b[0m",
      "\u001b[1;31mEstimatorError\u001b[0m                            Traceback (most recent call last)",
      "\u001b[1;32mc:\\Lab\\Code\\Defense Adversarial in ML CAN IDS\\adversarial_attack.ipynb Cell 12\u001b[0m in \u001b[0;36m<cell line: 1>\u001b[1;34m()\u001b[0m\n\u001b[1;32m----> <a href='vscode-notebook-cell:/c%3A/Lab/Code/Defense%20Adversarial%20in%20ML%20CAN%20IDS/adversarial_attack.ipynb#X23sZmlsZQ%3D%3D?line=0'>1</a>\u001b[0m CW(RF, \u001b[39m\"\u001b[39;49m\u001b[39mRF\u001b[39;49m\u001b[39m\"\u001b[39;49m, X_test)\n\u001b[0;32m      <a href='vscode-notebook-cell:/c%3A/Lab/Code/Defense%20Adversarial%20in%20ML%20CAN%20IDS/adversarial_attack.ipynb#X23sZmlsZQ%3D%3D?line=1'>2</a>\u001b[0m \u001b[39m#CW(LR, \"LR\", X_test) OK\u001b[39;00m\n\u001b[0;32m      <a href='vscode-notebook-cell:/c%3A/Lab/Code/Defense%20Adversarial%20in%20ML%20CAN%20IDS/adversarial_attack.ipynb#X23sZmlsZQ%3D%3D?line=2'>3</a>\u001b[0m \u001b[39m#CW(SVM, \"SVM\", X_test) OK \u001b[39;00m\n\u001b[0;32m      <a href='vscode-notebook-cell:/c%3A/Lab/Code/Defense%20Adversarial%20in%20ML%20CAN%20IDS/adversarial_attack.ipynb#X23sZmlsZQ%3D%3D?line=3'>4</a>\u001b[0m \u001b[39m#CW(KNN, \"KNN\", X_test) ?\u001b[39;00m\n\u001b[0;32m      <a href='vscode-notebook-cell:/c%3A/Lab/Code/Defense%20Adversarial%20in%20ML%20CAN%20IDS/adversarial_attack.ipynb#X23sZmlsZQ%3D%3D?line=4'>5</a>\u001b[0m \u001b[39m#CW(DNN, \"DNN\", X_test) NO\u001b[39;00m\n\u001b[0;32m      <a href='vscode-notebook-cell:/c%3A/Lab/Code/Defense%20Adversarial%20in%20ML%20CAN%20IDS/adversarial_attack.ipynb#X23sZmlsZQ%3D%3D?line=5'>6</a>\u001b[0m CW(CNN, \u001b[39m\"\u001b[39m\u001b[39mCNN\u001b[39m\u001b[39m\"\u001b[39m, X_test) \n",
      "\u001b[1;32mc:\\Lab\\Code\\Defense Adversarial in ML CAN IDS\\adversarial_attack.ipynb Cell 12\u001b[0m in \u001b[0;36mCW\u001b[1;34m(model, model_, X_test)\u001b[0m\n\u001b[0;32m     <a href='vscode-notebook-cell:/c%3A/Lab/Code/Defense%20Adversarial%20in%20ML%20CAN%20IDS/adversarial_attack.ipynb#X23sZmlsZQ%3D%3D?line=10'>11</a>\u001b[0m \u001b[39melse\u001b[39;00m:\n\u001b[0;32m     <a href='vscode-notebook-cell:/c%3A/Lab/Code/Defense%20Adversarial%20in%20ML%20CAN%20IDS/adversarial_attack.ipynb#X23sZmlsZQ%3D%3D?line=11'>12</a>\u001b[0m     model_adv \u001b[39m=\u001b[39m KerasClassifier(model, clip_values\u001b[39m=\u001b[39m(\u001b[39m0\u001b[39m, \u001b[39m1\u001b[39m))\n\u001b[1;32m---> <a href='vscode-notebook-cell:/c%3A/Lab/Code/Defense%20Adversarial%20in%20ML%20CAN%20IDS/adversarial_attack.ipynb#X23sZmlsZQ%3D%3D?line=13'>14</a>\u001b[0m attack_CW \u001b[39m=\u001b[39m CarliniL2Method(model_adv, max_iter\u001b[39m=\u001b[39;49m\u001b[39m20\u001b[39;49m, verbose\u001b[39m=\u001b[39;49m\u001b[39mTrue\u001b[39;49;00m)\n\u001b[0;32m     <a href='vscode-notebook-cell:/c%3A/Lab/Code/Defense%20Adversarial%20in%20ML%20CAN%20IDS/adversarial_attack.ipynb#X23sZmlsZQ%3D%3D?line=15'>16</a>\u001b[0m \u001b[39mif\u001b[39;00m model_ \u001b[39m==\u001b[39m \u001b[39m\"\u001b[39m\u001b[39mCNN\u001b[39m\u001b[39m\"\u001b[39m \u001b[39mor\u001b[39;00m model_ \u001b[39m==\u001b[39m\u001b[39m\"\u001b[39m\u001b[39mLSTM\u001b[39m\u001b[39m\"\u001b[39m:\n\u001b[0;32m     <a href='vscode-notebook-cell:/c%3A/Lab/Code/Defense%20Adversarial%20in%20ML%20CAN%20IDS/adversarial_attack.ipynb#X23sZmlsZQ%3D%3D?line=16'>17</a>\u001b[0m     X_test \u001b[39m=\u001b[39m np\u001b[39m.\u001b[39marray(X_test)\n",
      "File \u001b[1;32mc:\\Users\\Maxwang\\anaconda3\\envs\\Adversarial_attack_\\lib\\site-packages\\art\\attacks\\evasion\\carlini.py:115\u001b[0m, in \u001b[0;36mCarliniL2Method.__init__\u001b[1;34m(self, classifier, confidence, targeted, learning_rate, binary_search_steps, max_iter, initial_const, max_halving, max_doubling, batch_size, verbose)\u001b[0m\n\u001b[0;32m     79\u001b[0m \u001b[39mdef\u001b[39;00m \u001b[39m__init__\u001b[39m(\n\u001b[0;32m     80\u001b[0m     \u001b[39mself\u001b[39m,\n\u001b[0;32m     81\u001b[0m     classifier: \u001b[39m\"\u001b[39m\u001b[39mCLASSIFIER_CLASS_LOSS_GRADIENTS_TYPE\u001b[39m\u001b[39m\"\u001b[39m,\n\u001b[1;32m   (...)\u001b[0m\n\u001b[0;32m     91\u001b[0m     verbose: \u001b[39mbool\u001b[39m \u001b[39m=\u001b[39m \u001b[39mTrue\u001b[39;00m,\n\u001b[0;32m     92\u001b[0m ) \u001b[39m-\u001b[39m\u001b[39m>\u001b[39m \u001b[39mNone\u001b[39;00m:\n\u001b[0;32m     93\u001b[0m     \u001b[39m\"\"\"\u001b[39;00m\n\u001b[0;32m     94\u001b[0m \u001b[39m    Create a Carlini&Wagner L_2 attack instance.\u001b[39;00m\n\u001b[0;32m     95\u001b[0m \n\u001b[1;32m   (...)\u001b[0m\n\u001b[0;32m    113\u001b[0m \u001b[39m    :param verbose: Show progress bars.\u001b[39;00m\n\u001b[0;32m    114\u001b[0m \u001b[39m    \"\"\"\u001b[39;00m\n\u001b[1;32m--> 115\u001b[0m     \u001b[39msuper\u001b[39;49m()\u001b[39m.\u001b[39;49m\u001b[39m__init__\u001b[39;49m(estimator\u001b[39m=\u001b[39;49mclassifier)\n\u001b[0;32m    117\u001b[0m     \u001b[39mself\u001b[39m\u001b[39m.\u001b[39mconfidence \u001b[39m=\u001b[39m confidence\n\u001b[0;32m    118\u001b[0m     \u001b[39mself\u001b[39m\u001b[39m.\u001b[39m_targeted \u001b[39m=\u001b[39m targeted\n",
      "File \u001b[1;32mc:\\Users\\Maxwang\\anaconda3\\envs\\Adversarial_attack_\\lib\\site-packages\\art\\attacks\\attack.py:194\u001b[0m, in \u001b[0;36mEvasionAttack.__init__\u001b[1;34m(self, **kwargs)\u001b[0m\n\u001b[0;32m    192\u001b[0m \u001b[39mdef\u001b[39;00m \u001b[39m__init__\u001b[39m(\u001b[39mself\u001b[39m, \u001b[39m*\u001b[39m\u001b[39m*\u001b[39mkwargs) \u001b[39m-\u001b[39m\u001b[39m>\u001b[39m \u001b[39mNone\u001b[39;00m:\n\u001b[0;32m    193\u001b[0m     \u001b[39mself\u001b[39m\u001b[39m.\u001b[39m_targeted \u001b[39m=\u001b[39m \u001b[39mFalse\u001b[39;00m\n\u001b[1;32m--> 194\u001b[0m     \u001b[39msuper\u001b[39;49m()\u001b[39m.\u001b[39;49m\u001b[39m__init__\u001b[39;49m(\u001b[39m*\u001b[39;49m\u001b[39m*\u001b[39;49mkwargs)\n",
      "File \u001b[1;32mc:\\Users\\Maxwang\\anaconda3\\envs\\Adversarial_attack_\\lib\\site-packages\\art\\attacks\\attack.py:122\u001b[0m, in \u001b[0;36mAttack.__init__\u001b[1;34m(self, estimator, summary_writer)\u001b[0m\n\u001b[0;32m    119\u001b[0m     \u001b[39mraise\u001b[39;00m \u001b[39mValueError\u001b[39;00m(\u001b[39m\"\u001b[39m\u001b[39mEstimator requirements have not been defined in `_estimator_requirements`.\u001b[39m\u001b[39m\"\u001b[39m)\n\u001b[0;32m    121\u001b[0m \u001b[39mif\u001b[39;00m \u001b[39mnot\u001b[39;00m \u001b[39mself\u001b[39m\u001b[39m.\u001b[39mis_estimator_valid(estimator, \u001b[39mself\u001b[39m\u001b[39m.\u001b[39m_estimator_requirements):\n\u001b[1;32m--> 122\u001b[0m     \u001b[39mraise\u001b[39;00m EstimatorError(\u001b[39mself\u001b[39m\u001b[39m.\u001b[39m\u001b[39m__class__\u001b[39m, \u001b[39mself\u001b[39m\u001b[39m.\u001b[39mestimator_requirements, estimator)\n\u001b[0;32m    124\u001b[0m \u001b[39mself\u001b[39m\u001b[39m.\u001b[39m_estimator \u001b[39m=\u001b[39m estimator\n\u001b[0;32m    125\u001b[0m \u001b[39mself\u001b[39m\u001b[39m.\u001b[39m_summary_writer_arg \u001b[39m=\u001b[39m summary_writer\n",
      "\u001b[1;31mEstimatorError\u001b[0m: CarliniL2Method requires an estimator derived from <class 'art.estimators.estimator.BaseEstimator'> and <class 'art.estimators.classification.classifier.ClassGradientsMixin'>, the provided classifier is an instance of <class 'art.estimators.classification.scikitlearn.ScikitlearnRandomForestClassifier'> and is derived from (<class 'art.estimators.classification.scikitlearn.ScikitlearnClassifier'>,)."
     ]
    }
   ],
   "source": [
    "#CW(LR, \"LR\", X_test) OK\n",
    "#CW(SVM, \"SVM\", X_test) OK \n",
    "#CW(KNN, \"KNN\", X_test) ?\n",
    "#CW(DNN, \"DNN\", X_test) NO"
   ]
  },
  {
   "cell_type": "code",
   "execution_count": 53,
   "metadata": {},
   "outputs": [
    {
     "name": "stdout",
     "output_type": "stream",
     "text": [
      "######## ZOO_ RF  ########\n"
     ]
    },
    {
     "name": "stderr",
     "output_type": "stream",
     "text": [
      "c:\\Users\\Maxwang\\anaconda3\\envs\\Adversarial_attack_\\lib\\site-packages\\sklearn\\utils\\deprecation.py:103: FutureWarning: Attribute `n_features_` was deprecated in version 1.0 and will be removed in 1.2. Use `n_features_in_` instead.\n",
      "  warnings.warn(msg, category=FutureWarning)\n",
      "ZOO:   0%|          | 26/44730 [00:02<1:01:43, 12.07it/s]\n"
     ]
    },
    {
     "ename": "KeyboardInterrupt",
     "evalue": "",
     "output_type": "error",
     "traceback": [
      "\u001b[1;31m---------------------------------------------------------------------------\u001b[0m",
      "\u001b[1;31mKeyboardInterrupt\u001b[0m                         Traceback (most recent call last)",
      "\u001b[1;32mc:\\Lab\\Code\\Defense Adversarial in ML CAN IDS\\adversarial_attack.ipynb Cell 13\u001b[0m in \u001b[0;36m<cell line: 2>\u001b[1;34m()\u001b[0m\n\u001b[0;32m      <a href='vscode-notebook-cell:/c%3A/Lab/Code/Defense%20Adversarial%20in%20ML%20CAN%20IDS/adversarial_attack.ipynb#X14sZmlsZQ%3D%3D?line=0'>1</a>\u001b[0m \u001b[39m#ZOO(DT, \"DT\", X_test) OK\u001b[39;00m\n\u001b[1;32m----> <a href='vscode-notebook-cell:/c%3A/Lab/Code/Defense%20Adversarial%20in%20ML%20CAN%20IDS/adversarial_attack.ipynb#X14sZmlsZQ%3D%3D?line=1'>2</a>\u001b[0m ZOO(RF, \u001b[39m\"\u001b[39;49m\u001b[39mRF\u001b[39;49m\u001b[39m\"\u001b[39;49m, X_test)\n\u001b[0;32m      <a href='vscode-notebook-cell:/c%3A/Lab/Code/Defense%20Adversarial%20in%20ML%20CAN%20IDS/adversarial_attack.ipynb#X14sZmlsZQ%3D%3D?line=2'>3</a>\u001b[0m \u001b[39m#ZOO(LR, \"LR\", X_test) OK\u001b[39;00m\n\u001b[0;32m      <a href='vscode-notebook-cell:/c%3A/Lab/Code/Defense%20Adversarial%20in%20ML%20CAN%20IDS/adversarial_attack.ipynb#X14sZmlsZQ%3D%3D?line=3'>4</a>\u001b[0m \u001b[39m#ZOO(XGB, \"XGB\", X_test) OK\u001b[39;00m\n\u001b[0;32m      <a href='vscode-notebook-cell:/c%3A/Lab/Code/Defense%20Adversarial%20in%20ML%20CAN%20IDS/adversarial_attack.ipynb#X14sZmlsZQ%3D%3D?line=4'>5</a>\u001b[0m \u001b[39m#ZOO(SVM, \"SVM\", X_test) OK\u001b[39;00m\n\u001b[0;32m      <a href='vscode-notebook-cell:/c%3A/Lab/Code/Defense%20Adversarial%20in%20ML%20CAN%20IDS/adversarial_attack.ipynb#X14sZmlsZQ%3D%3D?line=5'>6</a>\u001b[0m ZOO(KNN, \u001b[39m\"\u001b[39m\u001b[39mKNN\u001b[39m\u001b[39m\"\u001b[39m, X_test)\n",
      "\u001b[1;32mc:\\Lab\\Code\\Defense Adversarial in ML CAN IDS\\adversarial_attack.ipynb Cell 13\u001b[0m in \u001b[0;36mZOO\u001b[1;34m(model, model_, X_test)\u001b[0m\n\u001b[0;32m     <a href='vscode-notebook-cell:/c%3A/Lab/Code/Defense%20Adversarial%20in%20ML%20CAN%20IDS/adversarial_attack.ipynb#X14sZmlsZQ%3D%3D?line=20'>21</a>\u001b[0m     adv \u001b[39m=\u001b[39m attack_ZOO\u001b[39m.\u001b[39mgenerate(np\u001b[39m.\u001b[39marray(X_test_ex))\n\u001b[0;32m     <a href='vscode-notebook-cell:/c%3A/Lab/Code/Defense%20Adversarial%20in%20ML%20CAN%20IDS/adversarial_attack.ipynb#X14sZmlsZQ%3D%3D?line=21'>22</a>\u001b[0m \u001b[39melse\u001b[39;00m:\n\u001b[1;32m---> <a href='vscode-notebook-cell:/c%3A/Lab/Code/Defense%20Adversarial%20in%20ML%20CAN%20IDS/adversarial_attack.ipynb#X14sZmlsZQ%3D%3D?line=22'>23</a>\u001b[0m     adv \u001b[39m=\u001b[39m attack_ZOO\u001b[39m.\u001b[39;49mgenerate(np\u001b[39m.\u001b[39;49marray(X_test))\n\u001b[0;32m     <a href='vscode-notebook-cell:/c%3A/Lab/Code/Defense%20Adversarial%20in%20ML%20CAN%20IDS/adversarial_attack.ipynb#X14sZmlsZQ%3D%3D?line=24'>25</a>\u001b[0m \u001b[39mif\u001b[39;00m \u001b[39mnot\u001b[39;00m os\u001b[39m.\u001b[39mpath\u001b[39m.\u001b[39mexists(\u001b[39m\"\u001b[39m\u001b[39m./Dataset/csv/Attacked\u001b[39m\u001b[39m\"\u001b[39m):\n\u001b[0;32m     <a href='vscode-notebook-cell:/c%3A/Lab/Code/Defense%20Adversarial%20in%20ML%20CAN%20IDS/adversarial_attack.ipynb#X14sZmlsZQ%3D%3D?line=25'>26</a>\u001b[0m     os\u001b[39m.\u001b[39mmkdir(\u001b[39m\"\u001b[39m\u001b[39m./Dataset/csv/Attacked\u001b[39m\u001b[39m\"\u001b[39m)\n",
      "File \u001b[1;32mc:\\Users\\Maxwang\\anaconda3\\envs\\Adversarial_attack_\\lib\\site-packages\\art\\attacks\\evasion\\zoo.py:236\u001b[0m, in \u001b[0;36mZooAttack.generate\u001b[1;34m(self, x, y, **kwargs)\u001b[0m\n\u001b[0;32m    234\u001b[0m     x_batch \u001b[39m=\u001b[39m x[batch_index_1:batch_index_2]\n\u001b[0;32m    235\u001b[0m     y_batch \u001b[39m=\u001b[39m y[batch_index_1:batch_index_2]\n\u001b[1;32m--> 236\u001b[0m     res \u001b[39m=\u001b[39m \u001b[39mself\u001b[39;49m\u001b[39m.\u001b[39;49m_generate_batch(x_batch, y_batch)\n\u001b[0;32m    237\u001b[0m     x_adv_list\u001b[39m.\u001b[39mappend(res)\n\u001b[0;32m    238\u001b[0m x_adv \u001b[39m=\u001b[39m np\u001b[39m.\u001b[39mvstack(x_adv_list)\n",
      "File \u001b[1;32mc:\\Users\\Maxwang\\anaconda3\\envs\\Adversarial_attack_\\lib\\site-packages\\art\\attacks\\evasion\\zoo.py:280\u001b[0m, in \u001b[0;36mZooAttack._generate_batch\u001b[1;34m(self, x_batch, y_batch)\u001b[0m\n\u001b[0;32m    272\u001b[0m logger\u001b[39m.\u001b[39mdebug(\n\u001b[0;32m    273\u001b[0m     \u001b[39m\"\u001b[39m\u001b[39mBinary search step \u001b[39m\u001b[39m%i\u001b[39;00m\u001b[39m out of \u001b[39m\u001b[39m%i\u001b[39;00m\u001b[39m (c_mean==\u001b[39m\u001b[39m%f\u001b[39;00m\u001b[39m)\u001b[39m\u001b[39m\"\u001b[39m,\n\u001b[0;32m    274\u001b[0m     bss,\n\u001b[0;32m    275\u001b[0m     \u001b[39mself\u001b[39m\u001b[39m.\u001b[39mbinary_search_steps,\n\u001b[0;32m    276\u001b[0m     np\u001b[39m.\u001b[39mmean(c_current),\n\u001b[0;32m    277\u001b[0m )\n\u001b[0;32m    279\u001b[0m \u001b[39m# Run with 1 specific binary search step\u001b[39;00m\n\u001b[1;32m--> 280\u001b[0m best_dist, best_label, best_attack \u001b[39m=\u001b[39m \u001b[39mself\u001b[39;49m\u001b[39m.\u001b[39;49m_generate_bss(x_batch, y_batch, c_current)\n\u001b[0;32m    282\u001b[0m \u001b[39m# Update best results so far\u001b[39;00m\n\u001b[0;32m    283\u001b[0m o_best_attack[best_dist \u001b[39m<\u001b[39m o_best_dist] \u001b[39m=\u001b[39m best_attack[best_dist \u001b[39m<\u001b[39m o_best_dist]\n",
      "File \u001b[1;32mc:\\Users\\Maxwang\\anaconda3\\envs\\Adversarial_attack_\\lib\\site-packages\\art\\attacks\\evasion\\zoo.py:400\u001b[0m, in \u001b[0;36mZooAttack._generate_bss\u001b[1;34m(self, x_batch, y_batch, c_batch)\u001b[0m\n\u001b[0;32m    389\u001b[0m         x_orig \u001b[39m=\u001b[39m zoom(\n\u001b[0;32m    390\u001b[0m             x_orig,\n\u001b[0;32m    391\u001b[0m             [\n\u001b[1;32m   (...)\u001b[0m\n\u001b[0;32m    396\u001b[0m             ],\n\u001b[0;32m    397\u001b[0m         )\n\u001b[0;32m    399\u001b[0m \u001b[39m# Compute adversarial examples and loss\u001b[39;00m\n\u001b[1;32m--> 400\u001b[0m x_adv \u001b[39m=\u001b[39m \u001b[39mself\u001b[39;49m\u001b[39m.\u001b[39;49m_optimizer(x_adv, y_batch, c_batch)\n\u001b[0;32m    401\u001b[0m preds, l2dist, loss \u001b[39m=\u001b[39m \u001b[39mself\u001b[39m\u001b[39m.\u001b[39m_loss(x_orig, x_adv, y_batch, c_batch)\n\u001b[0;32m    403\u001b[0m \u001b[39m# Reset Adam if a valid example has been found to avoid overshoot\u001b[39;00m\n",
      "File \u001b[1;32mc:\\Users\\Maxwang\\anaconda3\\envs\\Adversarial_attack_\\lib\\site-packages\\art\\attacks\\evasion\\zoo.py:493\u001b[0m, in \u001b[0;36mZooAttack._optimizer\u001b[1;34m(self, x, targets, c_batch)\u001b[0m\n\u001b[0;32m    491\u001b[0m expanded_targets \u001b[39m=\u001b[39m np\u001b[39m.\u001b[39mrepeat(targets, \u001b[39m2\u001b[39m \u001b[39m*\u001b[39m \u001b[39mself\u001b[39m\u001b[39m.\u001b[39mnb_parallel, axis\u001b[39m=\u001b[39m\u001b[39m0\u001b[39m)\u001b[39m.\u001b[39mreshape((\u001b[39m-\u001b[39m\u001b[39m1\u001b[39m,) \u001b[39m+\u001b[39m targets\u001b[39m.\u001b[39mshape[\u001b[39m1\u001b[39m:])\n\u001b[0;32m    492\u001b[0m expanded_c \u001b[39m=\u001b[39m np\u001b[39m.\u001b[39mrepeat(c_batch, \u001b[39m2\u001b[39m \u001b[39m*\u001b[39m \u001b[39mself\u001b[39m\u001b[39m.\u001b[39mnb_parallel)\n\u001b[1;32m--> 493\u001b[0m _, _, loss \u001b[39m=\u001b[39m \u001b[39mself\u001b[39;49m\u001b[39m.\u001b[39;49m_loss(\n\u001b[0;32m    494\u001b[0m     expanded_x,\n\u001b[0;32m    495\u001b[0m     expanded_x \u001b[39m+\u001b[39;49m coord_batch\u001b[39m.\u001b[39;49mreshape(expanded_x\u001b[39m.\u001b[39;49mshape),\n\u001b[0;32m    496\u001b[0m     expanded_targets,\n\u001b[0;32m    497\u001b[0m     expanded_c,\n\u001b[0;32m    498\u001b[0m )\n\u001b[0;32m    499\u001b[0m \u001b[39mif\u001b[39;00m \u001b[39mself\u001b[39m\u001b[39m.\u001b[39madam_mean \u001b[39mis\u001b[39;00m \u001b[39mnot\u001b[39;00m \u001b[39mNone\u001b[39;00m \u001b[39mand\u001b[39;00m \u001b[39mself\u001b[39m\u001b[39m.\u001b[39madam_var \u001b[39mis\u001b[39;00m \u001b[39mnot\u001b[39;00m \u001b[39mNone\u001b[39;00m \u001b[39mand\u001b[39;00m \u001b[39mself\u001b[39m\u001b[39m.\u001b[39madam_epochs \u001b[39mis\u001b[39;00m \u001b[39mnot\u001b[39;00m \u001b[39mNone\u001b[39;00m:\n\u001b[0;32m    500\u001b[0m     \u001b[39mself\u001b[39m\u001b[39m.\u001b[39m_current_noise \u001b[39m=\u001b[39m \u001b[39mself\u001b[39m\u001b[39m.\u001b[39m_optimizer_adam_coordinate(\n\u001b[0;32m    501\u001b[0m         loss,\n\u001b[0;32m    502\u001b[0m         indices,\n\u001b[1;32m   (...)\u001b[0m\n\u001b[0;32m    508\u001b[0m         \u001b[39mTrue\u001b[39;00m,\n\u001b[0;32m    509\u001b[0m     )\n",
      "File \u001b[1;32mc:\\Users\\Maxwang\\anaconda3\\envs\\Adversarial_attack_\\lib\\site-packages\\art\\attacks\\evasion\\zoo.py:188\u001b[0m, in \u001b[0;36mZooAttack._loss\u001b[1;34m(self, x, x_adv, target, c_weight)\u001b[0m\n\u001b[0;32m    184\u001b[0m l2dist \u001b[39m=\u001b[39m np\u001b[39m.\u001b[39msum(np\u001b[39m.\u001b[39msquare(x \u001b[39m-\u001b[39m x_adv)\u001b[39m.\u001b[39mreshape(x_adv\u001b[39m.\u001b[39mshape[\u001b[39m0\u001b[39m], \u001b[39m-\u001b[39m\u001b[39m1\u001b[39m), axis\u001b[39m=\u001b[39m\u001b[39m1\u001b[39m)\n\u001b[0;32m    185\u001b[0m ratios \u001b[39m=\u001b[39m [\u001b[39m1.0\u001b[39m] \u001b[39m+\u001b[39m [\n\u001b[0;32m    186\u001b[0m     \u001b[39mint\u001b[39m(new_size) \u001b[39m/\u001b[39m \u001b[39mint\u001b[39m(old_size) \u001b[39mfor\u001b[39;00m new_size, old_size \u001b[39min\u001b[39;00m \u001b[39mzip\u001b[39m(\u001b[39mself\u001b[39m\u001b[39m.\u001b[39mestimator\u001b[39m.\u001b[39minput_shape, x\u001b[39m.\u001b[39mshape[\u001b[39m1\u001b[39m:])\n\u001b[0;32m    187\u001b[0m ]\n\u001b[1;32m--> 188\u001b[0m preds \u001b[39m=\u001b[39m \u001b[39mself\u001b[39m\u001b[39m.\u001b[39mestimator\u001b[39m.\u001b[39mpredict(np\u001b[39m.\u001b[39marray(zoom(x_adv, zoom\u001b[39m=\u001b[39;49mratios)), batch_size\u001b[39m=\u001b[39m\u001b[39mself\u001b[39m\u001b[39m.\u001b[39mbatch_size)\n\u001b[0;32m    189\u001b[0m z_target \u001b[39m=\u001b[39m np\u001b[39m.\u001b[39msum(preds \u001b[39m*\u001b[39m target, axis\u001b[39m=\u001b[39m\u001b[39m1\u001b[39m)\n\u001b[0;32m    190\u001b[0m z_other \u001b[39m=\u001b[39m np\u001b[39m.\u001b[39mmax(\n\u001b[0;32m    191\u001b[0m     preds \u001b[39m*\u001b[39m (\u001b[39m1\u001b[39m \u001b[39m-\u001b[39m target) \u001b[39m+\u001b[39m (np\u001b[39m.\u001b[39mmin(preds, axis\u001b[39m=\u001b[39m\u001b[39m1\u001b[39m) \u001b[39m-\u001b[39m \u001b[39m1\u001b[39m)[:, np\u001b[39m.\u001b[39mnewaxis] \u001b[39m*\u001b[39m target,\n\u001b[0;32m    192\u001b[0m     axis\u001b[39m=\u001b[39m\u001b[39m1\u001b[39m,\n\u001b[0;32m    193\u001b[0m )\n",
      "File \u001b[1;32mc:\\Users\\Maxwang\\anaconda3\\envs\\Adversarial_attack_\\lib\\site-packages\\scipy\\ndimage\\interpolation.py:817\u001b[0m, in \u001b[0;36mzoom\u001b[1;34m(input, zoom, output, order, mode, cval, prefilter, grid_mode)\u001b[0m\n\u001b[0;32m    813\u001b[0m zoom \u001b[39m=\u001b[39m numpy\u001b[39m.\u001b[39mdivide(zoom_nominator, zoom_div,\n\u001b[0;32m    814\u001b[0m                     out\u001b[39m=\u001b[39mnumpy\u001b[39m.\u001b[39mones_like(\u001b[39minput\u001b[39m\u001b[39m.\u001b[39mshape, dtype\u001b[39m=\u001b[39mnumpy\u001b[39m.\u001b[39mfloat64),\n\u001b[0;32m    815\u001b[0m                     where\u001b[39m=\u001b[39mzoom_div \u001b[39m!=\u001b[39m \u001b[39m0\u001b[39m)\n\u001b[0;32m    816\u001b[0m zoom \u001b[39m=\u001b[39m numpy\u001b[39m.\u001b[39mascontiguousarray(zoom)\n\u001b[1;32m--> 817\u001b[0m _nd_image\u001b[39m.\u001b[39;49mzoom_shift(filtered, zoom, \u001b[39mNone\u001b[39;49;00m, output, order, mode, cval, npad,\n\u001b[0;32m    818\u001b[0m                      grid_mode)\n\u001b[0;32m    819\u001b[0m \u001b[39mreturn\u001b[39;00m output\n",
      "\u001b[1;31mKeyboardInterrupt\u001b[0m: "
     ]
    }
   ],
   "source": [
    "#ZOO(DT, \"DT\", X_test) OK\n",
    "#ZOO(RF, \"RF\", X_test) OK\n",
    "#ZOO(LR, \"LR\", X_test) OK\n",
    "#ZOO(XGB, \"XGB\", X_test) OK\n",
    "#ZOO(SVM, \"SVM\", X_test) OK\n",
    "ZOO(KNN, \"KNN\", X_test)\n",
    "#ZOO(DNN, \"DNN\", X_test) OK\n",
    "ZOO(CNN, \"CNN\", X_test)\n",
    "ZOO(LSTM, \"LSTM\", X_test)"
   ]
  },
  {
   "cell_type": "code",
   "execution_count": 72,
   "metadata": {},
   "outputs": [
    {
     "name": "stdout",
     "output_type": "stream",
     "text": [
      "######## JSMA_ LR  ########\n"
     ]
    },
    {
     "ename": "TypeError",
     "evalue": "__init__() got an unexpected keyword argument 'estimator'",
     "output_type": "error",
     "traceback": [
      "\u001b[1;31m---------------------------------------------------------------------------\u001b[0m",
      "\u001b[1;31mTypeError\u001b[0m                                 Traceback (most recent call last)",
      "\u001b[1;32mc:\\Lab\\Code\\Defense Adversarial in ML CAN IDS\\adversarial_attack.ipynb Cell 14\u001b[0m in \u001b[0;36m<cell line: 2>\u001b[1;34m()\u001b[0m\n\u001b[0;32m      <a href='vscode-notebook-cell:/c%3A/Lab/Code/Defense%20Adversarial%20in%20ML%20CAN%20IDS/adversarial_attack.ipynb#X24sZmlsZQ%3D%3D?line=0'>1</a>\u001b[0m \u001b[39m#JSMA(RF, \"RF\", X_test) \u001b[39;00m\n\u001b[1;32m----> <a href='vscode-notebook-cell:/c%3A/Lab/Code/Defense%20Adversarial%20in%20ML%20CAN%20IDS/adversarial_attack.ipynb#X24sZmlsZQ%3D%3D?line=1'>2</a>\u001b[0m JSMA(LR, \u001b[39m\"\u001b[39;49m\u001b[39mLR\u001b[39;49m\u001b[39m\"\u001b[39;49m, X_test) \n\u001b[0;32m      <a href='vscode-notebook-cell:/c%3A/Lab/Code/Defense%20Adversarial%20in%20ML%20CAN%20IDS/adversarial_attack.ipynb#X24sZmlsZQ%3D%3D?line=2'>3</a>\u001b[0m JSMA(XGB, \u001b[39m\"\u001b[39m\u001b[39mXGB\u001b[39m\u001b[39m\"\u001b[39m, X_test) \n\u001b[0;32m      <a href='vscode-notebook-cell:/c%3A/Lab/Code/Defense%20Adversarial%20in%20ML%20CAN%20IDS/adversarial_attack.ipynb#X24sZmlsZQ%3D%3D?line=3'>4</a>\u001b[0m JSMA(SVM, \u001b[39m\"\u001b[39m\u001b[39mSVM\u001b[39m\u001b[39m\"\u001b[39m, X_test) \n",
      "\u001b[1;32mc:\\Lab\\Code\\Defense Adversarial in ML CAN IDS\\adversarial_attack.ipynb Cell 14\u001b[0m in \u001b[0;36mJSMA\u001b[1;34m(model, model_, X_test)\u001b[0m\n\u001b[0;32m     <a href='vscode-notebook-cell:/c%3A/Lab/Code/Defense%20Adversarial%20in%20ML%20CAN%20IDS/adversarial_attack.ipynb#X24sZmlsZQ%3D%3D?line=10'>11</a>\u001b[0m \u001b[39melse\u001b[39;00m:\n\u001b[0;32m     <a href='vscode-notebook-cell:/c%3A/Lab/Code/Defense%20Adversarial%20in%20ML%20CAN%20IDS/adversarial_attack.ipynb#X24sZmlsZQ%3D%3D?line=11'>12</a>\u001b[0m     model_adv \u001b[39m=\u001b[39m KerasClassifier(model, clip_values\u001b[39m=\u001b[39m(\u001b[39m0\u001b[39m, \u001b[39m1\u001b[39m))\n\u001b[1;32m---> <a href='vscode-notebook-cell:/c%3A/Lab/Code/Defense%20Adversarial%20in%20ML%20CAN%20IDS/adversarial_attack.ipynb#X24sZmlsZQ%3D%3D?line=13'>14</a>\u001b[0m attack_JSMA \u001b[39m=\u001b[39m SaliencyMapMethod(estimator\u001b[39m=\u001b[39;49mmodel_adv)\n\u001b[0;32m     <a href='vscode-notebook-cell:/c%3A/Lab/Code/Defense%20Adversarial%20in%20ML%20CAN%20IDS/adversarial_attack.ipynb#X24sZmlsZQ%3D%3D?line=15'>16</a>\u001b[0m \u001b[39mif\u001b[39;00m model_ \u001b[39m==\u001b[39m \u001b[39m\"\u001b[39m\u001b[39mCNN\u001b[39m\u001b[39m\"\u001b[39m \u001b[39mor\u001b[39;00m model_ \u001b[39m==\u001b[39m\u001b[39m\"\u001b[39m\u001b[39mLSTM\u001b[39m\u001b[39m\"\u001b[39m:\n\u001b[0;32m     <a href='vscode-notebook-cell:/c%3A/Lab/Code/Defense%20Adversarial%20in%20ML%20CAN%20IDS/adversarial_attack.ipynb#X24sZmlsZQ%3D%3D?line=16'>17</a>\u001b[0m     X_test \u001b[39m=\u001b[39m np\u001b[39m.\u001b[39marray(X_test)\n",
      "\u001b[1;31mTypeError\u001b[0m: __init__() got an unexpected keyword argument 'estimator'"
     ]
    }
   ],
   "source": [
    "#JSMA(RF, \"RF\", X_test) \n",
    "JSMA(LR, \"LR\", X_test) \n",
    "JSMA(XGB, \"XGB\", X_test) \n",
    "JSMA(SVM, \"SVM\", X_test) \n",
    "JSMA(KNN, \"KNN\", X_test)\n",
    "JSMA(DNN, \"DNN\", X_test)\n",
    "JSMA(CNN, \"CNN\", X_test)\n",
    "JSMA(LSTM, \"LSTM\", X_test)"
   ]
  },
  {
   "cell_type": "code",
   "execution_count": null,
   "metadata": {},
   "outputs": [
    {
     "name": "stderr",
     "output_type": "stream",
     "text": [
      "c:\\Users\\Maxwang\\anaconda3\\envs\\Adversarial_attack_\\lib\\site-packages\\sklearn\\utils\\deprecation.py:103: FutureWarning: The attribute `n_features_` is deprecated in 1.0 and will be removed in 1.2. Use `n_features_in_` instead.\n",
      "  warnings.warn(msg, category=FutureWarning)\n",
      "Decision tree attack: 100%|██████████| 44730/44730 [00:17<00:00, 2615.59it/s]\n"
     ]
    }
   ],
   "source": [
    "adv = DTA(DT, \"DT\", X_test)"
   ]
  },
  {
   "cell_type": "code",
   "execution_count": null,
   "metadata": {},
   "outputs": [],
   "source": [
    "adv_i = np.rint(adv[:,1:])\n",
    "arr = np.insert(adv_i, 0, adv[:,0], axis=1)\n",
    "np.savetxt(\"./Dataset/csv/Attacked/test.csv\", arr, delimiter=\",\")"
   ]
  },
  {
   "cell_type": "code",
   "execution_count": null,
   "metadata": {},
   "outputs": [
    {
     "name": "stdout",
     "output_type": "stream",
     "text": [
      "0.971070869662419\n",
      "              precision    recall  f1-score   support\n",
      "\n",
      "           0       0.97      0.98      0.97     23042\n",
      "           1       0.97      0.97      0.97     21688\n",
      "\n",
      "    accuracy                           0.97     44730\n",
      "   macro avg       0.97      0.97      0.97     44730\n",
      "weighted avg       0.97      0.97      0.97     44730\n",
      "\n"
     ]
    }
   ],
   "source": [
    "model = DT\n",
    "model.fit(X_train,y_train)\n",
    "print(model.score(X_test, y_test))\n",
    "prediction = model.predict(X_test)\n",
    "print(classification_report(y_test,prediction))"
   ]
  },
  {
   "cell_type": "code",
   "execution_count": null,
   "metadata": {},
   "outputs": [
    {
     "name": "stdout",
     "output_type": "stream",
     "text": [
      "0.44804381846635366\n",
      "              precision    recall  f1-score   support\n",
      "\n",
      "           0       0.33      0.07      0.12     23042\n",
      "           1       0.46      0.85      0.60     21688\n",
      "\n",
      "    accuracy                           0.45     44730\n",
      "   macro avg       0.40      0.46      0.36     44730\n",
      "weighted avg       0.39      0.45      0.35     44730\n",
      "\n"
     ]
    }
   ],
   "source": [
    "model = DT\n",
    "model.fit(X_train,y_train)\n",
    "print(model.score(arr, y_test))\n",
    "prediction = model.predict(arr)\n",
    "print(classification_report(y_test,prediction))"
   ]
  }
 ],
 "metadata": {
  "kernelspec": {
   "display_name": "Python 3.8.13 ('Adversarial_attack_')",
   "language": "python",
   "name": "python3"
  },
  "language_info": {
   "codemirror_mode": {
    "name": "ipython",
    "version": 3
   },
   "file_extension": ".py",
   "mimetype": "text/x-python",
   "name": "python",
   "nbconvert_exporter": "python",
   "pygments_lexer": "ipython3",
   "version": "3.8.13"
  },
  "orig_nbformat": 4,
  "vscode": {
   "interpreter": {
    "hash": "8dab91cb55a779ebb65e73a37577434c9648b8bfd406d9f159bac9d9fb993402"
   }
  }
 },
 "nbformat": 4,
 "nbformat_minor": 2
}
