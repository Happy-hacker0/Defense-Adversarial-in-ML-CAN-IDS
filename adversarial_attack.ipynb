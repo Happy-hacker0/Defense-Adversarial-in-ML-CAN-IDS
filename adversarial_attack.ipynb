{
 "cells": [
  {
   "cell_type": "code",
   "execution_count": 36,
   "metadata": {},
   "outputs": [],
   "source": [
    "from scapy.all import *\n",
    "import sys\n",
    "import codecs\n",
    "import re\n",
    "import numpy as np\n",
    "from numpy import newaxis\n",
    "import string\n",
    "from nltk.corpus import stopwords \n",
    "import time\n",
    "from sklearn.tree import DecisionTreeClassifier\n",
    "from xgboost import XGBClassifier\n",
    "from sklearn.linear_model import LogisticRegression\n",
    "from sklearn.svm import LinearSVC\n",
    "from sklearn.neighbors import KNeighborsClassifier\n",
    "from sklearn.model_selection import train_test_split\n",
    "import tensorflow as tf\n",
    "tf.compat.v1.experimental.output_all_intermediates(True)\n",
    "\n",
    "from joblib import dump, load\n",
    "\n",
    "from sklearn.metrics import classification_report\n",
    "from art.attacks.evasion import ProjectedGradientDescent\n",
    "from art.attacks.evasion import ZooAttack\n",
    "from art.attacks.evasion import FastGradientMethod\n",
    "from art.attacks.evasion import CarliniL2Method\n",
    "from art.attacks.evasion import SaliencyMapMethod\n",
    "from art.attacks.evasion import DecisionTreeAttack\n",
    "\n",
    "import sklearn\n",
    "from art.estimators import BaseEstimator\n",
    "from art.estimators.classification import SklearnClassifier\n",
    "from art.estimators.classification import XGBoostClassifier\n",
    "from art.estimators.classification import KerasClassifier\n",
    "from art.estimators.classification import EnsembleClassifier\n",
    "from art.estimators.classification.scikitlearn import ScikitlearnRandomForestClassifier\n",
    "\n",
    "\n",
    "from itertools import islice\n",
    "from tqdm import tqdm\n",
    "import pandas as pd\n",
    "import numpy as np\n",
    "from keras.callbacks import EarlyStopping, ModelCheckpoint, ReduceLROnPlateau\n",
    "tf.compat.v1.disable_eager_execution()\n"
   ]
  },
  {
   "cell_type": "code",
   "execution_count": 2,
   "metadata": {},
   "outputs": [],
   "source": [
    "# Import normal Dataset\n",
    "def import_dataset():\n",
    "    with open('./Dataset/csv/Original/Attack_merge.csv', newline='') as csvfile:\n",
    "        rows = pd.read_csv(csvfile,header=None)\n",
    "        y = rows[10]\n",
    "        x = rows.drop([10], axis=1)\n",
    "        X_train, X_test, y_train, y_test = train_test_split(x, y , test_size=0.2)\n",
    "        y_train_ex = tf.expand_dims(y_train, axis=1)\n",
    "        X_train_ex = tf.expand_dims(X_train, axis=2)\n",
    "        y_test_ex = tf.expand_dims(y_test, axis=1)\n",
    "        X_test_ex = tf.expand_dims(X_test, axis=2)\n",
    "    return X_train, X_test, y_train, y_test, X_train_ex, X_test_ex, y_train_ex, y_test_ex"
   ]
  },
  {
   "cell_type": "code",
   "execution_count": 3,
   "metadata": {},
   "outputs": [],
   "source": [
    "# Import Model\n",
    "def import_model():\n",
    "    DT = load(\"./models/DT.joblib\")\n",
    "    RF = load(\"./models/RF.joblib\")\n",
    "    LR = load(\"./models/LR.joblib\")\n",
    "    XGB = load(\"./models/XGB.joblib\") \n",
    "    SVM = load (\"./models/SVM.joblib\")\n",
    "    KNN = load(\"./models/KNN.joblib\")\n",
    "    DNN = tf.keras.models.load_model(\"./models/DNN4.h5\")\n",
    "    CNN = tf.keras.models.load_model(\"./models/CNN.h5\")\n",
    "    LSTM = tf.keras.models.load_model(\"./models/LSTM.h5\")\n",
    "    return DT, RF, LR, XGB, SVM, KNN, DNN, CNN, LSTM"
   ]
  },
  {
   "cell_type": "code",
   "execution_count": 4,
   "metadata": {},
   "outputs": [],
   "source": [
    "def DTA(model, model_, X_test):\n",
    "    print(\"######## DTA_\", model_,\" ########\")\n",
    "    DT_adv = SklearnClassifier(model)\n",
    "    attack_DT = DecisionTreeAttack(DT_adv)\n",
    "    adv = attack_DT.generate(np.array(X_test))\n",
    "    if not os.path.exists(\"./Dataset/csv/Attacked\"):\n",
    "        os.mkdir(\"./Dataset/csv/Attacked\")\n",
    "\n",
    "    adv_i = np.rint(adv[:,1:])\n",
    "    adv_int = np.insert(adv_i, 0, adv[:,0], axis=1)\n",
    "    np.savetxt(\"./Dataset/csv/Attacked/DTA_DT_X_Test.csv\", adv_int, delimiter=\",\")\n",
    "    return adv"
   ]
  },
  {
   "cell_type": "code",
   "execution_count": 24,
   "metadata": {},
   "outputs": [],
   "source": [
    "def CW(model, model_, X_test):\n",
    "    print(\"######## CW_\", model_,\" ########\")\n",
    "    if model_ =='SVM':\n",
    "        model_adv = SklearnClassifier(model, clip_values=(0, 10))\n",
    "    elif model_ == 'LR' or model_ == 'DT':\n",
    "        model_adv = SklearnClassifier(model)\n",
    "    elif model_ == 'RF':\n",
    "        model_adv = ScikitlearnRandomForestClassifier(model)\n",
    "    elif model_ == 'XGB':\n",
    "        model_adv = XGBoostClassifier(model=model, nb_features=X_test.shape[1], nb_classes=10)\n",
    "    else:\n",
    "        model_adv = KerasClassifier(model, clip_values=(0, 1))\n",
    "\n",
    "    attack_CW = CarliniL2Method(model_adv, max_iter=20, verbose=True)\n",
    "\n",
    "    if model_ == \"CNN\" or model_ ==\"LSTM\":\n",
    "        X_test = np.array(X_test)\n",
    "        X_test_ex = X_test[:, :, newaxis]\n",
    "        adv = attack_CW.generate(np.array(X_test_ex))\n",
    "    else:\n",
    "        adv = attack_CW.generate(np.array(X_test))\n",
    "    if not os.path.exists(\"./Dataset/csv/Attacked\"):\n",
    "        os.mkdir(\"./Dataset/csv/Attacked\")\n",
    "    \n",
    "    adv_i = np.rint(adv[:,1:])\n",
    "    adv_int = np.insert(adv_i, 0, adv[:,0], axis=1)\n",
    "    if model_ == \"CNN\" or model_ ==\"LSTM\":\n",
    "            np.savetxt(\"./Dataset/csv/Attacked/CW_\" + model_ +\"_X_Test.csv\", adv_int[:,:,0], delimiter=\",\")\n",
    "    else:\n",
    "        np.savetxt(\"./Dataset/csv/Attacked/CW_\" + model_ +\"_X_Test.csv\", adv_int, delimiter=\",\")\n",
    "    return adv"
   ]
  },
  {
   "cell_type": "code",
   "execution_count": 23,
   "metadata": {},
   "outputs": [],
   "source": [
    "def JSMA(model, model_, X_test):\n",
    "    print(\"######## JSMA_\", model_,\" ########\")\n",
    "    if model_ =='SVM':\n",
    "        model_adv = SklearnClassifier(model, clip_values=(0, 10))\n",
    "    elif model_ == 'LR' or model_ == 'DT':\n",
    "        model_adv = SklearnClassifier(model)\n",
    "    elif model_ == 'RF':\n",
    "        model_adv = ScikitlearnRandomForestClassifier(model)\n",
    "    elif model_ == 'XGB':\n",
    "        model_adv = XGBoostClassifier(model=model, nb_features=X_test.shape[1], nb_classes=10)\n",
    "    else:\n",
    "        model_adv = KerasClassifier(model, clip_values=(0, 1))\n",
    "        \n",
    "    attack_JSMA = SaliencyMapMethod(classifier=model_adv)\n",
    "\n",
    "    if model_ == \"CNN\" or model_ ==\"LSTM\":\n",
    "        X_test = np.array(X_test)\n",
    "        X_test_ex = X_test[:, :, newaxis]\n",
    "        adv = attack_JSMA.generate(np.array(X_test_ex))\n",
    "    else:\n",
    "        adv = attack_JSMA.generate(np.array(X_test))\n",
    "\n",
    "    if not os.path.exists(\"./Dataset/csv/Attacked\"):\n",
    "        os.mkdir(\"./Dataset/csv/Attacked\")\n",
    "    \n",
    "    adv_i = np.rint(adv[:,1:])\n",
    "    adv_int = np.insert(adv_i, 0, adv[:,0], axis=1)\n",
    "    if model_ == \"CNN\" or model_ ==\"LSTM\":\n",
    "            np.savetxt(\"./Dataset/csv/Attacked/JSMA_\" + model_ +\"_X_Test.csv\", adv_int[:,:,0], delimiter=\",\")\n",
    "    else:\n",
    "        np.savetxt(\"./Dataset/csv/Attacked/JSMA_\" + model_ +\"_X_Test.csv\", adv_int, delimiter=\",\")\n",
    "    return adv"
   ]
  },
  {
   "cell_type": "code",
   "execution_count": 20,
   "metadata": {},
   "outputs": [],
   "source": [
    "def PGD(model, model_, X_test):\n",
    "    print(\"######## PGD_\", model_,\" ########\")\n",
    "    if model_ =='SVM':\n",
    "        model_adv = SklearnClassifier(model, clip_values=(0, 10))\n",
    "    elif model_ == 'LR' or model_ == 'DT':\n",
    "        model_adv = SklearnClassifier(model)\n",
    "    elif model_ == 'RF':\n",
    "        model_adv = ScikitlearnRandomForestClassifier(model)\n",
    "    elif model_ == 'XGB':\n",
    "        model_adv = XGBoostClassifier(model=model, nb_features=X_test.shape[1], nb_classes=10)\n",
    "    else:\n",
    "        model_adv = KerasClassifier(model, clip_values=(0, 1))\n",
    "\n",
    "    attack_PGD = ProjectedGradientDescent(estimator=model_adv, norm=np.inf, eps=.3, eps_step=0.1, max_iter=20, \n",
    "                               targeted=False, num_random_init=0, batch_size=128, verbose=False)\n",
    "    \n",
    "    if model_ == \"CNN\" or model_ ==\"LSTM\":\n",
    "        X_test = np.array(X_test)\n",
    "        X_test_ex = X_test[:, :, newaxis]\n",
    "        adv = attack_PGD.generate(np.array(X_test_ex))\n",
    "    else:\n",
    "        adv = attack_PGD.generate(np.array(X_test))\n",
    "\n",
    "    if not os.path.exists(\"./Dataset/csv/Attacked\"):\n",
    "        os.mkdir(\"./Dataset/csv/Attacked\")\n",
    "    \n",
    "    adv_i = np.rint(adv[:,1:])\n",
    "    adv_int = np.insert(adv_i, 0, adv[:,0], axis=1)\n",
    "    if model_ == \"CNN\" or model_ ==\"LSTM\":\n",
    "        np.savetxt(\"./Dataset/csv/Attacked/PGD_\" + model_ +\"_X_Test.csv\", adv_int[:,:,0], delimiter=\",\")\n",
    "    else:\n",
    "        np.savetxt(\"./Dataset/csv/Attacked/PGD_\" + model_ +\"_X_Test.csv\", adv_int, delimiter=\",\")\n",
    "    return adv"
   ]
  },
  {
   "cell_type": "code",
   "execution_count": 21,
   "metadata": {},
   "outputs": [],
   "source": [
    "def ZOO(model, model_, X_test):\n",
    "    print(\"######## ZOO_\", model_,\" ########\")\n",
    "    if model_ =='SVM':\n",
    "        model_adv = SklearnClassifier(model, clip_values=(0, 10))\n",
    "    elif model_ == 'LR' or model_ == 'DT':\n",
    "        model_adv = SklearnClassifier(model)\n",
    "    elif model_ == 'RF':\n",
    "        model_adv = ScikitlearnRandomForestClassifier(model)\n",
    "    elif model_ == 'XGB':\n",
    "        model_adv = XGBoostClassifier(model=model, nb_features=X_test.shape[1], nb_classes=10)\n",
    "    else:\n",
    "        model_adv = KerasClassifier(model, clip_values=(0, 1))\n",
    "\n",
    "    attack_ZOO = ZooAttack(classifier=model_adv, confidence=0.0, targeted=False, learning_rate=1e-1, max_iter=20,\n",
    "                    binary_search_steps=10, initial_const=1e-3, abort_early=True, use_resize=False, \n",
    "                    use_importance=False, nb_parallel=1, batch_size=1, variable_h=0.2)\n",
    "    \n",
    "    if model_ == \"CNN\" or model_ ==\"LSTM\":\n",
    "        X_test = np.array(X_test)\n",
    "        X_test_ex = X_test[:, :, newaxis]\n",
    "        adv = attack_ZOO.generate(np.array(X_test_ex))\n",
    "    else:\n",
    "        adv = attack_ZOO.generate(np.array(X_test))\n",
    "\n",
    "    if not os.path.exists(\"./Dataset/csv/Attacked\"):\n",
    "        os.mkdir(\"./Dataset/csv/Attacked\")\n",
    "    \n",
    "    adv_i = np.rint(adv[:,1:])\n",
    "    adv_int = np.insert(adv_i, 0, adv[:,0], axis=1)\n",
    "    if model_ == \"CNN\" or model_ ==\"LSTM\":\n",
    "        np.savetxt(\"./Dataset/csv/Attacked/ZOO_\" + model_ +\"_X_Test.csv\", adv_int[:,:,0], delimiter=\",\")\n",
    "    else:\n",
    "        np.savetxt(\"./Dataset/csv/Attacked/ZOO_\" + model_ +\"_X_Test.csv\", adv_int, delimiter=\",\")\n",
    "    return adv"
   ]
  },
  {
   "cell_type": "code",
   "execution_count": 38,
   "metadata": {},
   "outputs": [],
   "source": [
    "def FGSM(model, model_, X_test):\n",
    "    print(\"######## FGSM_\", model_,\" ########\")\n",
    "    if model_ =='SVM' or model_ == \"RF\" :\n",
    "        model_adv = SklearnClassifier(model, clip_values=(0, 10))\n",
    "    elif model_ == 'LR':\n",
    "        model_adv = SklearnClassifier(model)\n",
    "    elif model_ == 'RF':\n",
    "        model_adv = ScikitlearnRandomForestClassifier(model)\n",
    "    elif model_ == 'XGB':\n",
    "        model_adv = XGBoostClassifier(model)\n",
    "    elif model_ == 'KNN':\n",
    "        model_adv = BaseEstimator(model)\n",
    "    else:\n",
    "        model_adv = KerasClassifier(model, clip_values=(0, 1))\n",
    "\n",
    "    attack_FGSM = FastGradientMethod(estimator=model_adv, eps=0.3)\n",
    "    if model_ == \"CNN\" or model_ == \"LSTM\":\n",
    "        X_test = np.array(X_test)\n",
    "        X_test_ex = X_test[:, :, newaxis]\n",
    "        adv = attack_FGSM.generate(np.array(X_test_ex))\n",
    "    else:\n",
    "        adv = attack_FGSM.generate(np.array(X_test))\n",
    "\n",
    "    if not os.path.exists(\"./Dataset/csv/Attacked\"):\n",
    "        os.mkdir(\"./Dataset/csv/Attacked\")\n",
    "    \n",
    "    adv_i = np.rint(adv[:,1:])\n",
    "    adv_int = np.insert(adv_i, 0, adv[:,0], axis=1)\n",
    "    if model_ == \"CNN\" or model_ ==\"LSTM\":\n",
    "        np.savetxt(\"./Dataset/csv/Attacked/FGSM_\" + model_ +\"_X_Test.csv\", adv_int[:,:,0], delimiter=\",\")\n",
    "    else:\n",
    "        np.savetxt(\"./Dataset/csv/Attacked/FGSM_\" + model_ +\"_X_Test.csv\", adv_int, delimiter=\",\")\n",
    "    return adv"
   ]
  },
  {
   "cell_type": "code",
   "execution_count": 10,
   "metadata": {},
   "outputs": [
    {
     "name": "stdout",
     "output_type": "stream",
     "text": [
      "WARNING:tensorflow:From c:\\Users\\Maxwang\\anaconda3\\envs\\Adversarial_attack_\\lib\\site-packages\\tensorflow\\python\\keras\\layers\\normalization.py:534: _colocate_with (from tensorflow.python.framework.ops) is deprecated and will be removed in a future version.\n",
      "Instructions for updating:\n",
      "Colocations handled automatically by placer.\n",
      "WARNING:tensorflow:Layer lstm will not use cuDNN kernels since it doesn't meet the criteria. It will use a generic GPU kernel as fallback when running on GPU.\n",
      "WARNING:tensorflow:Layer lstm_1 will not use cuDNN kernels since it doesn't meet the criteria. It will use a generic GPU kernel as fallback when running on GPU.\n",
      "WARNING:tensorflow:Layer lstm_2 will not use cuDNN kernels since it doesn't meet the criteria. It will use a generic GPU kernel as fallback when running on GPU.\n",
      "WARNING:tensorflow:Layer lstm_3 will not use cuDNN kernels since it doesn't meet the criteria. It will use a generic GPU kernel as fallback when running on GPU.\n"
     ]
    }
   ],
   "source": [
    "X_train, X_test, y_train, y_test, X_train_ex, X_test_ex, y_train_ex, y_test_ex = import_dataset()\n",
    "DT, RF, LR, XGB, SVM, KNN, DNN, CNN, LSTM = import_model()\n",
    "#DTA FGSM(完成 快) CW(很久) JSMA(跑條跑不出來) PGD(完成) ZOO(很久 ing)"
   ]
  },
  {
   "cell_type": "code",
   "execution_count": 37,
   "metadata": {},
   "outputs": [
    {
     "ename": "TypeError",
     "evalue": "Can't instantiate abstract class BaseEstimator with abstract methods fit, input_shape, predict",
     "output_type": "error",
     "traceback": [
      "\u001b[1;31m---------------------------------------------------------------------------\u001b[0m",
      "\u001b[1;31mTypeError\u001b[0m                                 Traceback (most recent call last)",
      "\u001b[1;32mc:\\Lab\\Code\\Defense Adversarial in ML CAN IDS\\adversarial_attack.ipynb Cell 11\u001b[0m in \u001b[0;36m<cell line: 1>\u001b[1;34m()\u001b[0m\n\u001b[1;32m----> <a href='vscode-notebook-cell:/c%3A/Lab/Code/Defense%20Adversarial%20in%20ML%20CAN%20IDS/adversarial_attack.ipynb#X25sZmlsZQ%3D%3D?line=0'>1</a>\u001b[0m attack_FGSM \u001b[39m=\u001b[39m SaliencyMapMethod(classifier\u001b[39m=\u001b[39mBaseEstimator(KNN))\n",
      "\u001b[1;31mTypeError\u001b[0m: Can't instantiate abstract class BaseEstimator with abstract methods fit, input_shape, predict"
     ]
    }
   ],
   "source": [
    "attack_FGSM = SaliencyMapMethod(classifier=BaseEstimator(KNN))"
   ]
  },
  {
   "cell_type": "code",
   "execution_count": 39,
   "metadata": {},
   "outputs": [
    {
     "name": "stdout",
     "output_type": "stream",
     "text": [
      "######## FGSM_ KNN  ########\n"
     ]
    },
    {
     "ename": "TypeError",
     "evalue": "Can't instantiate abstract class BaseEstimator with abstract methods fit, input_shape, predict",
     "output_type": "error",
     "traceback": [
      "\u001b[1;31m---------------------------------------------------------------------------\u001b[0m",
      "\u001b[1;31mTypeError\u001b[0m                                 Traceback (most recent call last)",
      "\u001b[1;32mc:\\Lab\\Code\\Defense Adversarial in ML CAN IDS\\adversarial_attack.ipynb Cell 12\u001b[0m in \u001b[0;36m<cell line: 5>\u001b[1;34m()\u001b[0m\n\u001b[0;32m      <a href='vscode-notebook-cell:/c%3A/Lab/Code/Defense%20Adversarial%20in%20ML%20CAN%20IDS/adversarial_attack.ipynb#X13sZmlsZQ%3D%3D?line=0'>1</a>\u001b[0m \u001b[39m# FGSM(LR, \"LR\", X_test) OK\u001b[39;00m\n\u001b[0;32m      <a href='vscode-notebook-cell:/c%3A/Lab/Code/Defense%20Adversarial%20in%20ML%20CAN%20IDS/adversarial_attack.ipynb#X13sZmlsZQ%3D%3D?line=1'>2</a>\u001b[0m \u001b[39m#FGSM(XGB, \"XGB\", X_test)\u001b[39;00m\n\u001b[0;32m      <a href='vscode-notebook-cell:/c%3A/Lab/Code/Defense%20Adversarial%20in%20ML%20CAN%20IDS/adversarial_attack.ipynb#X13sZmlsZQ%3D%3D?line=2'>3</a>\u001b[0m \u001b[39m# FGSM(RF, \"RF\", X_test)\u001b[39;00m\n\u001b[0;32m      <a href='vscode-notebook-cell:/c%3A/Lab/Code/Defense%20Adversarial%20in%20ML%20CAN%20IDS/adversarial_attack.ipynb#X13sZmlsZQ%3D%3D?line=3'>4</a>\u001b[0m \u001b[39m#FGSM(SVM, \"SVM\", X_test) OK\u001b[39;00m\n\u001b[1;32m----> <a href='vscode-notebook-cell:/c%3A/Lab/Code/Defense%20Adversarial%20in%20ML%20CAN%20IDS/adversarial_attack.ipynb#X13sZmlsZQ%3D%3D?line=4'>5</a>\u001b[0m FGSM(KNN, \u001b[39m\"\u001b[39;49m\u001b[39mKNN\u001b[39;49m\u001b[39m\"\u001b[39;49m, X_test)\n",
      "\u001b[1;32mc:\\Lab\\Code\\Defense Adversarial in ML CAN IDS\\adversarial_attack.ipynb Cell 12\u001b[0m in \u001b[0;36mFGSM\u001b[1;34m(model, model_, X_test)\u001b[0m\n\u001b[0;32m     <a href='vscode-notebook-cell:/c%3A/Lab/Code/Defense%20Adversarial%20in%20ML%20CAN%20IDS/adversarial_attack.ipynb#X13sZmlsZQ%3D%3D?line=9'>10</a>\u001b[0m     model_adv \u001b[39m=\u001b[39m XGBoostClassifier(model)\n\u001b[0;32m     <a href='vscode-notebook-cell:/c%3A/Lab/Code/Defense%20Adversarial%20in%20ML%20CAN%20IDS/adversarial_attack.ipynb#X13sZmlsZQ%3D%3D?line=10'>11</a>\u001b[0m \u001b[39melif\u001b[39;00m model_ \u001b[39m==\u001b[39m \u001b[39m'\u001b[39m\u001b[39mKNN\u001b[39m\u001b[39m'\u001b[39m:\n\u001b[1;32m---> <a href='vscode-notebook-cell:/c%3A/Lab/Code/Defense%20Adversarial%20in%20ML%20CAN%20IDS/adversarial_attack.ipynb#X13sZmlsZQ%3D%3D?line=11'>12</a>\u001b[0m     model_adv \u001b[39m=\u001b[39m BaseEstimator(model)\n\u001b[0;32m     <a href='vscode-notebook-cell:/c%3A/Lab/Code/Defense%20Adversarial%20in%20ML%20CAN%20IDS/adversarial_attack.ipynb#X13sZmlsZQ%3D%3D?line=12'>13</a>\u001b[0m \u001b[39melse\u001b[39;00m:\n\u001b[0;32m     <a href='vscode-notebook-cell:/c%3A/Lab/Code/Defense%20Adversarial%20in%20ML%20CAN%20IDS/adversarial_attack.ipynb#X13sZmlsZQ%3D%3D?line=13'>14</a>\u001b[0m     model_adv \u001b[39m=\u001b[39m KerasClassifier(model, clip_values\u001b[39m=\u001b[39m(\u001b[39m0\u001b[39m, \u001b[39m1\u001b[39m))\n",
      "\u001b[1;31mTypeError\u001b[0m: Can't instantiate abstract class BaseEstimator with abstract methods fit, input_shape, predict"
     ]
    }
   ],
   "source": [
    "# FGSM(LR, \"LR\", X_test) OK\n",
    "#FGSM(XGB, \"XGB\", X_test)\n",
    "# FGSM(RF, \"RF\", X_test)\n",
    "#FGSM(SVM, \"SVM\", X_test) OK\n",
    "FGSM(KNN, \"KNN\", X_test)\n",
    "#FGSM(DNN, \"DNN\", X_test) OK\n",
    "#FGSM(CNN, \"CNN\", X_test) OK\n",
    "# FGSM(LSTM, \"LSTM\", X_test)"
   ]
  },
  {
   "cell_type": "code",
   "execution_count": null,
   "metadata": {},
   "outputs": [],
   "source": [
    "#CW(LR, \"LR\", X_test) OK\n",
    "#CW(SVM, \"SVM\", X_test) OK \n",
    "#CW(KNN, \"KNN\", X_test) ?\n",
    "#CW(DNN, \"DNN\", X_test) NO"
   ]
  },
  {
   "cell_type": "code",
   "execution_count": null,
   "metadata": {},
   "outputs": [],
   "source": [
    "#ZOO(DT, \"DT\", X_test) OK\n",
    "#ZOO(RF, \"RF\", X_test) OK\n",
    "#ZOO(LR, \"LR\", X_test) OK\n",
    "#ZOO(XGB, \"XGB\", X_test) OK\n",
    "#ZOO(SVM, \"SVM\", X_test) OK\n",
    "ZOO(KNN, \"KNN\", X_test)\n",
    "#ZOO(DNN, \"DNN\", X_test) OK\n",
    "ZOO(CNN, \"CNN\", X_test)\n",
    "ZOO(LSTM, \"LSTM\", X_test)"
   ]
  },
  {
   "cell_type": "code",
   "execution_count": 18,
   "metadata": {},
   "outputs": [
    {
     "name": "stdout",
     "output_type": "stream",
     "text": [
      "######## JSMA_ LSTM  ########\n"
     ]
    },
    {
     "name": "stderr",
     "output_type": "stream",
     "text": [
      "JSMA:   0%|          | 0/44730 [00:00<?, ?it/s]\n"
     ]
    },
    {
     "ename": "IndexError",
     "evalue": "list index out of range",
     "output_type": "error",
     "traceback": [
      "\u001b[1;31m---------------------------------------------------------------------------\u001b[0m",
      "\u001b[1;31mIndexError\u001b[0m                                Traceback (most recent call last)",
      "\u001b[1;32mc:\\Lab\\Code\\Defense Adversarial in ML CAN IDS\\adversarial_attack.ipynb Cell 14\u001b[0m in \u001b[0;36m<cell line: 6>\u001b[1;34m()\u001b[0m\n\u001b[0;32m      <a href='vscode-notebook-cell:/c%3A/Lab/Code/Defense%20Adversarial%20in%20ML%20CAN%20IDS/adversarial_attack.ipynb#X16sZmlsZQ%3D%3D?line=0'>1</a>\u001b[0m \u001b[39m#JSMA(LR, \"LR\", X_test) \u001b[39;00m\n\u001b[0;32m      <a href='vscode-notebook-cell:/c%3A/Lab/Code/Defense%20Adversarial%20in%20ML%20CAN%20IDS/adversarial_attack.ipynb#X16sZmlsZQ%3D%3D?line=1'>2</a>\u001b[0m \u001b[39m#JSMA(SVM, \"SVM\", X_test) \u001b[39;00m\n\u001b[0;32m      <a href='vscode-notebook-cell:/c%3A/Lab/Code/Defense%20Adversarial%20in%20ML%20CAN%20IDS/adversarial_attack.ipynb#X16sZmlsZQ%3D%3D?line=2'>3</a>\u001b[0m \u001b[39m#JSMA(KNN, \"KNN\", X_test) ?\u001b[39;00m\n\u001b[0;32m      <a href='vscode-notebook-cell:/c%3A/Lab/Code/Defense%20Adversarial%20in%20ML%20CAN%20IDS/adversarial_attack.ipynb#X16sZmlsZQ%3D%3D?line=3'>4</a>\u001b[0m \u001b[39m#JSMA(DNN, \"DNN\", X_test)\u001b[39;00m\n\u001b[0;32m      <a href='vscode-notebook-cell:/c%3A/Lab/Code/Defense%20Adversarial%20in%20ML%20CAN%20IDS/adversarial_attack.ipynb#X16sZmlsZQ%3D%3D?line=4'>5</a>\u001b[0m \u001b[39m#JSMA(CNN, \"CNN\", X_test)\u001b[39;00m\n\u001b[1;32m----> <a href='vscode-notebook-cell:/c%3A/Lab/Code/Defense%20Adversarial%20in%20ML%20CAN%20IDS/adversarial_attack.ipynb#X16sZmlsZQ%3D%3D?line=5'>6</a>\u001b[0m JSMA(LSTM, \u001b[39m\"\u001b[39;49m\u001b[39mLSTM\u001b[39;49m\u001b[39m\"\u001b[39;49m, X_test)\n",
      "\u001b[1;32mc:\\Lab\\Code\\Defense Adversarial in ML CAN IDS\\adversarial_attack.ipynb Cell 14\u001b[0m in \u001b[0;36mJSMA\u001b[1;34m(model, model_, X_test)\u001b[0m\n\u001b[0;32m     <a href='vscode-notebook-cell:/c%3A/Lab/Code/Defense%20Adversarial%20in%20ML%20CAN%20IDS/adversarial_attack.ipynb#X16sZmlsZQ%3D%3D?line=16'>17</a>\u001b[0m     X_test \u001b[39m=\u001b[39m np\u001b[39m.\u001b[39marray(X_test)\n\u001b[0;32m     <a href='vscode-notebook-cell:/c%3A/Lab/Code/Defense%20Adversarial%20in%20ML%20CAN%20IDS/adversarial_attack.ipynb#X16sZmlsZQ%3D%3D?line=17'>18</a>\u001b[0m     X_test_ex \u001b[39m=\u001b[39m X_test[:, :, newaxis]\n\u001b[1;32m---> <a href='vscode-notebook-cell:/c%3A/Lab/Code/Defense%20Adversarial%20in%20ML%20CAN%20IDS/adversarial_attack.ipynb#X16sZmlsZQ%3D%3D?line=18'>19</a>\u001b[0m     adv \u001b[39m=\u001b[39m attack_JSMA\u001b[39m.\u001b[39;49mgenerate(np\u001b[39m.\u001b[39;49marray(X_test_ex))\n\u001b[0;32m     <a href='vscode-notebook-cell:/c%3A/Lab/Code/Defense%20Adversarial%20in%20ML%20CAN%20IDS/adversarial_attack.ipynb#X16sZmlsZQ%3D%3D?line=19'>20</a>\u001b[0m \u001b[39melse\u001b[39;00m:\n\u001b[0;32m     <a href='vscode-notebook-cell:/c%3A/Lab/Code/Defense%20Adversarial%20in%20ML%20CAN%20IDS/adversarial_attack.ipynb#X16sZmlsZQ%3D%3D?line=20'>21</a>\u001b[0m     adv \u001b[39m=\u001b[39m attack_JSMA\u001b[39m.\u001b[39mgenerate(np\u001b[39m.\u001b[39marray(X_test))\n",
      "File \u001b[1;32mc:\\Users\\Maxwang\\anaconda3\\envs\\Adversarial_attack_\\lib\\site-packages\\art\\attacks\\evasion\\saliency_map.py:136\u001b[0m, in \u001b[0;36mSaliencyMapMethod.generate\u001b[1;34m(self, x, y, **kwargs)\u001b[0m\n\u001b[0;32m    132\u001b[0m all_feat \u001b[39m=\u001b[39m np\u001b[39m.\u001b[39mzeros_like(batch)\n\u001b[0;32m    134\u001b[0m \u001b[39mwhile\u001b[39;00m active_indices\u001b[39m.\u001b[39msize \u001b[39m!=\u001b[39m \u001b[39m0\u001b[39m:\n\u001b[0;32m    135\u001b[0m     \u001b[39m# Compute saliency map\u001b[39;00m\n\u001b[1;32m--> 136\u001b[0m     feat_ind \u001b[39m=\u001b[39m \u001b[39mself\u001b[39;49m\u001b[39m.\u001b[39;49m_saliency_map(\n\u001b[0;32m    137\u001b[0m         np\u001b[39m.\u001b[39;49mreshape(batch, [batch\u001b[39m.\u001b[39;49mshape[\u001b[39m0\u001b[39;49m]] \u001b[39m+\u001b[39;49m dims)[active_indices],\n\u001b[0;32m    138\u001b[0m         target[active_indices],\n\u001b[0;32m    139\u001b[0m         search_space[active_indices],\n\u001b[0;32m    140\u001b[0m     )\n\u001b[0;32m    142\u001b[0m     \u001b[39m# Update used features\u001b[39;00m\n\u001b[0;32m    143\u001b[0m     all_feat[active_indices, feat_ind[:, \u001b[39m0\u001b[39m]] \u001b[39m=\u001b[39m \u001b[39m1\u001b[39m\n",
      "File \u001b[1;32mc:\\Users\\Maxwang\\anaconda3\\envs\\Adversarial_attack_\\lib\\site-packages\\art\\attacks\\evasion\\saliency_map.py:205\u001b[0m, in \u001b[0;36mSaliencyMapMethod._saliency_map\u001b[1;34m(self, x, target, search_space)\u001b[0m\n\u001b[0;32m    195\u001b[0m \u001b[39mdef\u001b[39;00m \u001b[39m_saliency_map\u001b[39m(\u001b[39mself\u001b[39m, x: np\u001b[39m.\u001b[39mndarray, target: Union[np\u001b[39m.\u001b[39mndarray, \u001b[39mint\u001b[39m], search_space: np\u001b[39m.\u001b[39mndarray) \u001b[39m-\u001b[39m\u001b[39m>\u001b[39m np\u001b[39m.\u001b[39mndarray:\n\u001b[0;32m    196\u001b[0m     \u001b[39m\"\"\"\u001b[39;00m\n\u001b[0;32m    197\u001b[0m \u001b[39m    Compute the saliency map of `x`. Return the top 2 coefficients in `search_space` that maximize / minimize\u001b[39;00m\n\u001b[0;32m    198\u001b[0m \u001b[39m    the saliency map.\u001b[39;00m\n\u001b[1;32m   (...)\u001b[0m\n\u001b[0;32m    203\u001b[0m \u001b[39m    :return: The top 2 coefficients in `search_space` that maximize / minimize the saliency map.\u001b[39;00m\n\u001b[0;32m    204\u001b[0m \u001b[39m    \"\"\"\u001b[39;00m\n\u001b[1;32m--> 205\u001b[0m     grads \u001b[39m=\u001b[39m \u001b[39mself\u001b[39;49m\u001b[39m.\u001b[39;49mestimator\u001b[39m.\u001b[39;49mclass_gradient(x, label\u001b[39m=\u001b[39;49mtarget)\n\u001b[0;32m    206\u001b[0m     grads \u001b[39m=\u001b[39m np\u001b[39m.\u001b[39mreshape(grads, (\u001b[39m-\u001b[39m\u001b[39m1\u001b[39m, \u001b[39mself\u001b[39m\u001b[39m.\u001b[39m_nb_features))\n\u001b[0;32m    208\u001b[0m     \u001b[39m# Remove gradients for already used features\u001b[39;00m\n",
      "File \u001b[1;32mc:\\Users\\Maxwang\\anaconda3\\envs\\Adversarial_attack_\\lib\\site-packages\\art\\estimators\\classification\\keras.py:493\u001b[0m, in \u001b[0;36mKerasClassifier.class_gradient\u001b[1;34m(self, x, label, training_mode, **kwargs)\u001b[0m\n\u001b[0;32m    487\u001b[0m \u001b[39mif\u001b[39;00m \u001b[39mnot\u001b[39;00m \u001b[39mall\u001b[39m(shape_match):  \u001b[39m# pragma: no cover\u001b[39;00m\n\u001b[0;32m    488\u001b[0m     \u001b[39mraise\u001b[39;00m \u001b[39mValueError\u001b[39;00m(\n\u001b[0;32m    489\u001b[0m         \u001b[39mf\u001b[39m\u001b[39m\"\u001b[39m\u001b[39mError when checking x: expected preprocessed x to have shape \u001b[39m\u001b[39m{\u001b[39;00m\u001b[39mself\u001b[39m\u001b[39m.\u001b[39m_input_shape\u001b[39m}\u001b[39;00m\u001b[39m but got array with \u001b[39m\u001b[39m\"\u001b[39m\n\u001b[0;32m    490\u001b[0m         \u001b[39mf\u001b[39m\u001b[39m\"\u001b[39m\u001b[39mshape \u001b[39m\u001b[39m{\u001b[39;00mx_preprocessed\u001b[39m.\u001b[39mshape[\u001b[39m1\u001b[39m:]\u001b[39m}\u001b[39;00m\u001b[39m\"\u001b[39m\n\u001b[0;32m    491\u001b[0m     )\n\u001b[1;32m--> 493\u001b[0m \u001b[39mself\u001b[39;49m\u001b[39m.\u001b[39;49m_init_class_gradients(label\u001b[39m=\u001b[39;49mlabel)\n\u001b[0;32m    495\u001b[0m \u001b[39mif\u001b[39;00m label \u001b[39mis\u001b[39;00m \u001b[39mNone\u001b[39;00m:\n\u001b[0;32m    496\u001b[0m     \u001b[39m# Compute the gradients w.r.t. all classes\u001b[39;00m\n\u001b[0;32m    497\u001b[0m     gradients \u001b[39m=\u001b[39m np\u001b[39m.\u001b[39mswapaxes(np\u001b[39m.\u001b[39marray(\u001b[39mself\u001b[39m\u001b[39m.\u001b[39m_class_gradients([x_preprocessed])), \u001b[39m0\u001b[39m, \u001b[39m1\u001b[39m)\n",
      "File \u001b[1;32mc:\\Users\\Maxwang\\anaconda3\\envs\\Adversarial_attack_\\lib\\site-packages\\art\\estimators\\classification\\keras.py:747\u001b[0m, in \u001b[0;36mKerasClassifier._init_class_gradients\u001b[1;34m(self, label)\u001b[0m\n\u001b[0;32m    744\u001b[0m     \u001b[39mself\u001b[39m\u001b[39m.\u001b[39m_class_gradients_idx \u001b[39m=\u001b[39m [\u001b[39mNone\u001b[39;00m \u001b[39mfor\u001b[39;00m _ \u001b[39min\u001b[39;00m \u001b[39mrange\u001b[39m(nb_outputs)]\n\u001b[0;32m    746\u001b[0m \u001b[39mfor\u001b[39;00m current_label \u001b[39min\u001b[39;00m unique_labels:\n\u001b[1;32m--> 747\u001b[0m     \u001b[39mif\u001b[39;00m \u001b[39mself\u001b[39;49m\u001b[39m.\u001b[39;49m_class_gradients_idx[current_label] \u001b[39mis\u001b[39;00m \u001b[39mNone\u001b[39;00m:\n\u001b[0;32m    748\u001b[0m         class_gradients \u001b[39m=\u001b[39m [k\u001b[39m.\u001b[39mgradients(\u001b[39mself\u001b[39m\u001b[39m.\u001b[39m_predictions_op[:, current_label], \u001b[39mself\u001b[39m\u001b[39m.\u001b[39m_input)[\u001b[39m0\u001b[39m]]\n\u001b[0;32m    749\u001b[0m         \u001b[39mself\u001b[39m\u001b[39m.\u001b[39m_class_gradients_idx[current_label] \u001b[39m=\u001b[39m k\u001b[39m.\u001b[39mfunction(\n\u001b[0;32m    750\u001b[0m             [\u001b[39mself\u001b[39m\u001b[39m.\u001b[39m_input, k\u001b[39m.\u001b[39mlearning_phase()], class_gradients\n\u001b[0;32m    751\u001b[0m         )\n",
      "\u001b[1;31mIndexError\u001b[0m: list index out of range"
     ]
    }
   ],
   "source": [
    "#JSMA(LR, \"LR\", X_test) \n",
    "#JSMA(SVM, \"SVM\", X_test) \n",
    "#JSMA(KNN, \"KNN\", X_test) ?\n",
    "#JSMA(DNN, \"DNN\", X_test)\n",
    "JSMA(CNN, \"CNN\", X_test)\n",
    "JSMA(LSTM, \"LSTM\", X_test)"
   ]
  },
  {
   "cell_type": "code",
   "execution_count": 25,
   "metadata": {},
   "outputs": [
    {
     "name": "stdout",
     "output_type": "stream",
     "text": [
      "######## PGD_ CNN  ########\n",
      "######## PGD_ LSTM  ########\n"
     ]
    },
    {
     "data": {
      "text/plain": [
       "array([[[0.0000000e+00],\n",
       "        [3.2970001e+02],\n",
       "        [1.0000000e-01],\n",
       "        ...,\n",
       "        [0.0000000e+00],\n",
       "        [0.0000000e+00],\n",
       "        [0.0000000e+00]],\n",
       "\n",
       "       [[2.0517811e-01],\n",
       "        [3.2970001e+02],\n",
       "        [1.2700000e+01],\n",
       "        ...,\n",
       "        [1.2700000e+01],\n",
       "        [1.7070000e+02],\n",
       "        [0.0000000e+00]],\n",
       "\n",
       "       [[2.0531112e-01],\n",
       "        [3.2970001e+02],\n",
       "        [1.2700000e+01],\n",
       "        ...,\n",
       "        [1.2700000e+01],\n",
       "        [1.7070000e+02],\n",
       "        [0.0000000e+00]],\n",
       "\n",
       "       ...,\n",
       "\n",
       "       [[3.0530006e-01],\n",
       "        [4.8670001e+02],\n",
       "        [1.0000000e-01],\n",
       "        ...,\n",
       "        [0.0000000e+00],\n",
       "        [3.0000001e-01],\n",
       "        [3.0000001e-01]],\n",
       "\n",
       "       [[3.0000186e-01],\n",
       "        [7.7670001e+02],\n",
       "        [3.2700001e+01],\n",
       "        ...,\n",
       "        [1.0000000e-01],\n",
       "        [1.0000000e-01],\n",
       "        [1.0000000e-01]],\n",
       "\n",
       "       [[0.0000000e+00],\n",
       "        [3.2970001e+02],\n",
       "        [1.2700000e+01],\n",
       "        ...,\n",
       "        [1.2700000e+01],\n",
       "        [1.7070000e+02],\n",
       "        [3.0000001e-01]]], dtype=float32)"
      ]
     },
     "execution_count": 25,
     "metadata": {},
     "output_type": "execute_result"
    }
   ],
   "source": [
    "# PGD(LR, \"LR\", X_test) \n",
    "# PGD(SVM, \"SVM\", X_test) \n",
    "#PGD(KNN, \"KNN\", X_test) ?\n",
    "# PGD(DNN, \"DNN\", X_test)\n",
    "PGD(CNN, \"CNN\", X_test)\n",
    "PGD(LSTM, \"LSTM\", X_test)"
   ]
  },
  {
   "cell_type": "code",
   "execution_count": null,
   "metadata": {},
   "outputs": [
    {
     "name": "stderr",
     "output_type": "stream",
     "text": [
      "c:\\Users\\Maxwang\\anaconda3\\envs\\Adversarial_attack_\\lib\\site-packages\\sklearn\\utils\\deprecation.py:103: FutureWarning: The attribute `n_features_` is deprecated in 1.0 and will be removed in 1.2. Use `n_features_in_` instead.\n",
      "  warnings.warn(msg, category=FutureWarning)\n",
      "Decision tree attack: 100%|██████████| 44730/44730 [00:17<00:00, 2615.59it/s]\n"
     ]
    }
   ],
   "source": [
    "adv = DTA(DT, \"DT\", X_test)"
   ]
  },
  {
   "cell_type": "code",
   "execution_count": null,
   "metadata": {},
   "outputs": [],
   "source": [
    "adv_i = np.rint(adv[:,1:])\n",
    "arr = np.insert(adv_i, 0, adv[:,0], axis=1)\n",
    "np.savetxt(\"./Dataset/csv/Attacked/test.csv\", arr, delimiter=\",\")"
   ]
  },
  {
   "cell_type": "code",
   "execution_count": null,
   "metadata": {},
   "outputs": [
    {
     "name": "stdout",
     "output_type": "stream",
     "text": [
      "0.971070869662419\n",
      "              precision    recall  f1-score   support\n",
      "\n",
      "           0       0.97      0.98      0.97     23042\n",
      "           1       0.97      0.97      0.97     21688\n",
      "\n",
      "    accuracy                           0.97     44730\n",
      "   macro avg       0.97      0.97      0.97     44730\n",
      "weighted avg       0.97      0.97      0.97     44730\n",
      "\n"
     ]
    }
   ],
   "source": [
    "model = DT\n",
    "model.fit(X_train,y_train)\n",
    "print(model.score(X_test, y_test))\n",
    "prediction = model.predict(X_test)\n",
    "print(classification_report(y_test,prediction))"
   ]
  },
  {
   "cell_type": "code",
   "execution_count": null,
   "metadata": {},
   "outputs": [
    {
     "name": "stdout",
     "output_type": "stream",
     "text": [
      "0.44804381846635366\n",
      "              precision    recall  f1-score   support\n",
      "\n",
      "           0       0.33      0.07      0.12     23042\n",
      "           1       0.46      0.85      0.60     21688\n",
      "\n",
      "    accuracy                           0.45     44730\n",
      "   macro avg       0.40      0.46      0.36     44730\n",
      "weighted avg       0.39      0.45      0.35     44730\n",
      "\n"
     ]
    }
   ],
   "source": [
    "model = DT\n",
    "model.fit(X_train,y_train)\n",
    "print(model.score(arr, y_test))\n",
    "prediction = model.predict(arr)\n",
    "print(classification_report(y_test,prediction))"
   ]
  }
 ],
 "metadata": {
  "kernelspec": {
   "display_name": "Python 3.8.13 ('Adversarial_attack_')",
   "language": "python",
   "name": "python3"
  },
  "language_info": {
   "codemirror_mode": {
    "name": "ipython",
    "version": 3
   },
   "file_extension": ".py",
   "mimetype": "text/x-python",
   "name": "python",
   "nbconvert_exporter": "python",
   "pygments_lexer": "ipython3",
   "version": "3.8.13"
  },
  "orig_nbformat": 4,
  "vscode": {
   "interpreter": {
    "hash": "8dab91cb55a779ebb65e73a37577434c9648b8bfd406d9f159bac9d9fb993402"
   }
  }
 },
 "nbformat": 4,
 "nbformat_minor": 2
}
