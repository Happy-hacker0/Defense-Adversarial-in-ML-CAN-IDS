{
 "cells": [
  {
   "cell_type": "code",
   "execution_count": 108,
   "metadata": {},
   "outputs": [],
   "source": [
    "from scapy.all import *\n",
    "import sys\n",
    "import codecs\n",
    "import re\n",
    "import numpy as np\n",
    "import string\n",
    "from nltk.corpus import stopwords \n",
    "import time\n",
    "from sklearn.tree import DecisionTreeClassifier\n",
    "from xgboost import XGBClassifier\n",
    "from sklearn.linear_model import LogisticRegression\n",
    "from sklearn.svm import LinearSVC\n",
    "from sklearn.neighbors import KNeighborsClassifier\n",
    "from sklearn.model_selection import train_test_split\n",
    "import tensorflow as tf\n",
    "\n",
    "from joblib import dump, load\n",
    "\n",
    "from sklearn.metrics import classification_report\n",
    "from art.attacks.evasion import ProjectedGradientDescent\n",
    "from art.attacks.evasion import ZooAttack\n",
    "from art.attacks.evasion import FastGradientMethod\n",
    "from art.attacks.evasion import CarliniL2Method\n",
    "from art.attacks.evasion import SaliencyMapMethod\n",
    "from art.attacks.evasion import DecisionTreeAttack\n",
    "\n",
    "import sklearn\n",
    "from art.estimators.classification import SklearnClassifier\n",
    "# from art.estimators.classification import XGBoostClassifier\n",
    "from art.estimators.classification import KerasClassifier\n",
    "from art.estimators.classification import EnsembleClassifier\n",
    "from art.estimators.classification.scikitlearn import ScikitlearnRandomForestClassifier\n",
    "from art.estimators.classification.xgboost import XGBoostClassifier\n",
    "\n",
    "from itertools import islice\n",
    "from tqdm import tqdm\n",
    "import pandas as pd\n",
    "import numpy as np\n",
    "from keras.callbacks import EarlyStopping, ModelCheckpoint, ReduceLROnPlateau\n",
    "tf.compat.v1.disable_eager_execution()\n"
   ]
  },
  {
   "cell_type": "code",
   "execution_count": 114,
   "metadata": {},
   "outputs": [],
   "source": [
    "# Import normal Dataset\n",
    "def import_dataset():\n",
    "    with open('./Dataset/csv/Original/Attack_merge.csv', newline='') as csvfile:\n",
    "        rows = pd.read_csv(csvfile,header=None)\n",
    "        y = rows[10]\n",
    "        x = rows.drop([10], axis=1)\n",
    "        X_train, X_test, y_train, y_test = train_test_split(x, y , test_size=0.2)\n",
    "        y_train_ex = tf.expand_dims(y_train, axis=1)\n",
    "        X_train_ex = tf.expand_dims(X_train, axis=2)\n",
    "        y_test_ex = tf.expand_dims(y_test, axis=1)\n",
    "        X_test_ex = tf.expand_dims(X_test, axis=2)\n",
    "    return X_train, X_test, y_train, y_test, X_train_ex, X_test_ex, y_train_ex, y_test_ex"
   ]
  },
  {
   "cell_type": "code",
   "execution_count": 8,
   "metadata": {},
   "outputs": [],
   "source": [
    "# Import Model\n",
    "def import_model():\n",
    "    DT = load(\"./models/DT.joblib\")\n",
    "    RF = load(\"./models/RF.joblib\")\n",
    "    LR = load(\"./models/LR.joblib\")\n",
    "    XGB = load(\"./models/XGB.joblib\") \n",
    "    SVM = load (\"./models/SVM.joblib\")\n",
    "    KNN = load(\"./models/KNN.joblib\")\n",
    "    DNN = tf.keras.models.load_model(\"./models/DNN4.h5\")\n",
    "    CNN = tf.keras.models.load_model(\"./models/CNN.h5\")\n",
    "    LSTM = tf.keras.models.load_model(\"./models/LSTM.h5\")\n",
    "    return DT, RF, LR, XGB, SVM, KNN, DNN, CNN, LSTM"
   ]
  },
  {
   "cell_type": "code",
   "execution_count": 76,
   "metadata": {},
   "outputs": [],
   "source": [
    "def DTA(model, model_, X_test):\n",
    "    print(\"######## DTA_\", model,\" ########\")\n",
    "    DT_adv = SklearnClassifier(model)\n",
    "    attack_DT = DecisionTreeAttack(DT_adv)\n",
    "    adv = attack_DT.generate(np.array(X_test))\n",
    "    if not os.path.exists(\"./Dataset/csv/Attacked\"):\n",
    "        os.mkdir(\"./Dataset/csv/Attacked\")\n",
    "\n",
    "    adv_i = np.rint(adv[:,1:])\n",
    "    adv_int = np.insert(adv_i, 0, adv[:,0], axis=1)\n",
    "    np.savetxt(\"./Dataset/csv/Attacked/DTA_DT_X_Test.csv\", adv_int, delimiter=\",\")\n",
    "    return adv"
   ]
  },
  {
   "cell_type": "code",
   "execution_count": 74,
   "metadata": {},
   "outputs": [],
   "source": [
    "def CW(model, model_, X_test):\n",
    "    print(\"######## CW_\", model,\" ########\")\n",
    "    if model_ =='SVM':\n",
    "        model_adv = SklearnClassifier(model, clip_values=(0, 10))\n",
    "    elif model_ == 'LR':\n",
    "        model_adv = SklearnClassifier(model)\n",
    "    elif model_ == 'XGB':\n",
    "        mode_adv = XGBClassifier(model)\n",
    "    else:\n",
    "        model_adv = KerasClassifier(model, clip_values=(0, 1))\n",
    "\n",
    "    attack_CW = CarliniL2Method(estimator=model_adv, max_iter=20, verbose=True)\n",
    "    adv = attack_CW.generate(np.array(X_test))\n",
    "    if not os.path.exists(\"./Dataset/csv/Attacked\"):\n",
    "        os.mkdir(\"./Dataset/csv/Attacked\")\n",
    "    \n",
    "    adv_i = np.rint(adv[:,1:])\n",
    "    adv_int = np.insert(adv_i, 0, adv[:,0], axis=1)\n",
    "    np.savetxt(\"./Dataset/csv/Attacked/CW_\" + model_ +\"_X_Test.csv\", adv_int, delimiter=\",\")\n",
    "    return adv"
   ]
  },
  {
   "cell_type": "code",
   "execution_count": 73,
   "metadata": {},
   "outputs": [],
   "source": [
    "def JSMA(model, model_, X_test):\n",
    "    print(\"######## JSMA_\", model,\" ########\")\n",
    "    if model_ =='SVM':\n",
    "        model_adv = SklearnClassifier(model, clip_values=(0, 10))\n",
    "    elif model_ == 'LR':\n",
    "        model_adv = SklearnClassifier(model)\n",
    "    else:\n",
    "        model_adv = KerasClassifier(model, clip_values=(0, 1))\n",
    "\n",
    "    attack_JSMA = SaliencyMapMethod(estimator=model_adv)\n",
    "    adv = attack_JSMA.generate(np.array(X_test))\n",
    "    if not os.path.exists(\"./Dataset/csv/Attacked\"):\n",
    "        os.mkdir(\"./Dataset/csv/Attacked\")\n",
    "    \n",
    "    adv_i = np.rint(adv[:,1:])\n",
    "    adv_int = np.insert(adv_i, 0, adv[:,0], axis=1)\n",
    "    np.savetxt(\"./Dataset/csv/Attacked/JSMA_\" + model_ +\"_X_Test.csv\", adv_int, delimiter=\",\")\n",
    "    return adv"
   ]
  },
  {
   "cell_type": "code",
   "execution_count": 72,
   "metadata": {},
   "outputs": [],
   "source": [
    "def PGD(model, model_, X_test):\n",
    "    print(\"######## PGD_\", model,\" ########\")\n",
    "    if model_ =='SVM':\n",
    "        model_adv = SklearnClassifier(model, clip_values=(0, 10))\n",
    "    elif model_ == 'LR':\n",
    "        model_adv = SklearnClassifier(model)\n",
    "    else:\n",
    "        model_adv = KerasClassifier(model, clip_values=(0, 1))\n",
    "\n",
    "    attack_PGD = ProjectedGradientDescent(estimator=model_adv, norm=np.inf, eps=.3, eps_step=0.1, max_iter=20, \n",
    "                               targeted=False, num_random_init=0, batch_size=128, verbose=False)\n",
    "    adv = attack_PGD.generate(np.array(X_test))\n",
    "    if not os.path.exists(\"./Dataset/csv/Attacked\"):\n",
    "        os.mkdir(\"./Dataset/csv/Attacked\")\n",
    "    \n",
    "    adv_i = np.rint(adv[:,1:])\n",
    "    adv_int = np.insert(adv_i, 0, adv[:,0], axis=1)\n",
    "    np.savetxt(\"./Dataset/csv/Attacked/PGD_\" + model_ +\"_X_Test.csv\", adv_int, delimiter=\",\")\n",
    "    return adv"
   ]
  },
  {
   "cell_type": "code",
   "execution_count": 71,
   "metadata": {},
   "outputs": [],
   "source": [
    "def ZOO(model, model_, X_test):\n",
    "    print(\"######## ZOO_\", model,\" ########\")\n",
    "    if model_ =='SVM':\n",
    "        model_adv = SklearnClassifier(model, clip_values=(0, 10))\n",
    "    elif model_ == 'LR' or model_ == 'DT':\n",
    "        model_adv = SklearnClassifier(model)\n",
    "    else:\n",
    "        model_adv = KerasClassifier(model, clip_values=(0, 1))\n",
    "\n",
    "    attack_ZOO = ZooAttack(classifier=model_adv, confidence=0.0, targeted=False, learning_rate=1e-1, max_iter=20,\n",
    "                    binary_search_steps=10, initial_const=1e-3, abort_early=True, use_resize=False, \n",
    "                    use_importance=False, nb_parallel=1, batch_size=1, variable_h=0.2)\n",
    "    adv = attack_ZOO.generate(np.array(X_test))\n",
    "    if not os.path.exists(\"./Dataset/csv/Attacked\"):\n",
    "        os.mkdir(\"./Dataset/csv/Attacked\")\n",
    "    \n",
    "    adv_i = np.rint(adv[:,1:])\n",
    "    adv_int = np.insert(adv_i, 0, adv[:,0], axis=1)\n",
    "    np.savetxt(\"./Dataset/csv/Attacked/ZOO_ \" + model_ +\"_X_Test.csv\", adv_int, delimiter=\",\")\n",
    "    return adv"
   ]
  },
  {
   "cell_type": "code",
   "execution_count": 116,
   "metadata": {},
   "outputs": [],
   "source": [
    "def FGSM(model, model_, X_test):\n",
    "    print(\"######## FGSM_\", model_,\" ########\")\n",
    "    if model_ =='SVM' or model_ == \"RF\" :\n",
    "        model_adv = SklearnClassifier(model, clip_values=(0, 10))\n",
    "    elif model_ == 'LR':\n",
    "        model_adv = SklearnClassifier(model)\n",
    "    elif model_ == 'RF':\n",
    "        model_adv = ScikitlearnRandomForestClassifier(model)\n",
    "    elif model_ == 'XGB':\n",
    "        model_adv = XGBoostClassifier(model)\n",
    "    else:\n",
    "        model_adv = KerasClassifier(model, clip_values=(0, 1))\n",
    "\n",
    "    attack_FGSM = FastGradientMethod(estimator=model_adv, eps=0.3)\n",
    "    adv = attack_FGSM.generate(np.array(X_test))\n",
    "    if not os.path.exists(\"./Dataset/csv/Attacked\"):\n",
    "        os.mkdir(\"./Dataset/csv/Attacked\")\n",
    "    \n",
    "    adv_i = np.rint(adv[:,1:])\n",
    "    adv_int = np.insert(adv_i, 0, adv[:,0], axis=1)\n",
    "    np.savetxt(\"./Dataset/csv/Attacked/FGSM_\" + model_ +\"_X_Test.csv\", adv_int, delimiter=\",\")\n",
    "    return adv"
   ]
  },
  {
   "cell_type": "code",
   "execution_count": 115,
   "metadata": {},
   "outputs": [
    {
     "name": "stdout",
     "output_type": "stream",
     "text": [
      "WARNING:tensorflow:Layer lstm will not use cuDNN kernels since it doesn't meet the criteria. It will use a generic GPU kernel as fallback when running on GPU.\n",
      "WARNING:tensorflow:Layer lstm_1 will not use cuDNN kernels since it doesn't meet the criteria. It will use a generic GPU kernel as fallback when running on GPU.\n",
      "WARNING:tensorflow:Layer lstm_2 will not use cuDNN kernels since it doesn't meet the criteria. It will use a generic GPU kernel as fallback when running on GPU.\n",
      "WARNING:tensorflow:Layer lstm_3 will not use cuDNN kernels since it doesn't meet the criteria. It will use a generic GPU kernel as fallback when running on GPU.\n"
     ]
    }
   ],
   "source": [
    "X_train, X_test, y_train, y_test, X_train_ex, X_test_ex, y_train_ex, y_test_ex = import_dataset()\n",
    "DT, RF, LR, XGB, SVM, KNN, DNN, CNN, LSTM = import_model()\n",
    "#DTA FGSM(完成 快) CW(很久) JSMA(跑條跑不出來) PGD(完成) ZOO(很久 ing)"
   ]
  },
  {
   "cell_type": "code",
   "execution_count": 117,
   "metadata": {},
   "outputs": [
    {
     "name": "stdout",
     "output_type": "stream",
     "text": [
      "######## FGSM_ CNN  ########\n"
     ]
    },
    {
     "ename": "NotImplementedError",
     "evalue": "Cannot convert a symbolic Tensor (ExpandDims_23:0) to a numpy array. This error may indicate that you're trying to pass a Tensor to a NumPy call, which is not supported",
     "output_type": "error",
     "traceback": [
      "\u001b[1;31m---------------------------------------------------------------------------\u001b[0m",
      "\u001b[1;31mNotImplementedError\u001b[0m                       Traceback (most recent call last)",
      "\u001b[1;32mc:\\Lab\\Code\\Defense Adversarial in ML CAN IDS\\adversarial_attack.ipynb Cell 11\u001b[0m in \u001b[0;36m<cell line: 7>\u001b[1;34m()\u001b[0m\n\u001b[0;32m      <a href='vscode-notebook-cell:/c%3A/Lab/Code/Defense%20Adversarial%20in%20ML%20CAN%20IDS/adversarial_attack.ipynb#X24sZmlsZQ%3D%3D?line=0'>1</a>\u001b[0m \u001b[39m# FGSM(LR, \"LR\", X_test) OK\u001b[39;00m\n\u001b[0;32m      <a href='vscode-notebook-cell:/c%3A/Lab/Code/Defense%20Adversarial%20in%20ML%20CAN%20IDS/adversarial_attack.ipynb#X24sZmlsZQ%3D%3D?line=1'>2</a>\u001b[0m \u001b[39m#FGSM(XGB, \"XGB\", X_test)\u001b[39;00m\n\u001b[0;32m      <a href='vscode-notebook-cell:/c%3A/Lab/Code/Defense%20Adversarial%20in%20ML%20CAN%20IDS/adversarial_attack.ipynb#X24sZmlsZQ%3D%3D?line=2'>3</a>\u001b[0m \u001b[39m#FGSM(RF, \"RF\", X_test) OK\u001b[39;00m\n\u001b[0;32m      <a href='vscode-notebook-cell:/c%3A/Lab/Code/Defense%20Adversarial%20in%20ML%20CAN%20IDS/adversarial_attack.ipynb#X24sZmlsZQ%3D%3D?line=3'>4</a>\u001b[0m \u001b[39m#FGSM(SVM, \"SVM\", X_test) OK\u001b[39;00m\n\u001b[0;32m      <a href='vscode-notebook-cell:/c%3A/Lab/Code/Defense%20Adversarial%20in%20ML%20CAN%20IDS/adversarial_attack.ipynb#X24sZmlsZQ%3D%3D?line=4'>5</a>\u001b[0m \u001b[39m#FGSM(KNN, \"KNN\", X_test)\u001b[39;00m\n\u001b[0;32m      <a href='vscode-notebook-cell:/c%3A/Lab/Code/Defense%20Adversarial%20in%20ML%20CAN%20IDS/adversarial_attack.ipynb#X24sZmlsZQ%3D%3D?line=5'>6</a>\u001b[0m \u001b[39m#FGSM(DNN, \"DNN\", X_test)\u001b[39;00m\n\u001b[1;32m----> <a href='vscode-notebook-cell:/c%3A/Lab/Code/Defense%20Adversarial%20in%20ML%20CAN%20IDS/adversarial_attack.ipynb#X24sZmlsZQ%3D%3D?line=6'>7</a>\u001b[0m FGSM(CNN, \u001b[39m\"\u001b[39;49m\u001b[39mCNN\u001b[39;49m\u001b[39m\"\u001b[39;49m, X_test_ex)\n\u001b[0;32m      <a href='vscode-notebook-cell:/c%3A/Lab/Code/Defense%20Adversarial%20in%20ML%20CAN%20IDS/adversarial_attack.ipynb#X24sZmlsZQ%3D%3D?line=7'>8</a>\u001b[0m FGSM(LSTM, \u001b[39m\"\u001b[39m\u001b[39mLSTM\u001b[39m\u001b[39m\"\u001b[39m, X_test_ex)\n",
      "\u001b[1;32mc:\\Lab\\Code\\Defense Adversarial in ML CAN IDS\\adversarial_attack.ipynb Cell 11\u001b[0m in \u001b[0;36mFGSM\u001b[1;34m(model, model_, X_test)\u001b[0m\n\u001b[0;32m     <a href='vscode-notebook-cell:/c%3A/Lab/Code/Defense%20Adversarial%20in%20ML%20CAN%20IDS/adversarial_attack.ipynb#X24sZmlsZQ%3D%3D?line=11'>12</a>\u001b[0m     model_adv \u001b[39m=\u001b[39m KerasClassifier(model, clip_values\u001b[39m=\u001b[39m(\u001b[39m0\u001b[39m, \u001b[39m1\u001b[39m))\n\u001b[0;32m     <a href='vscode-notebook-cell:/c%3A/Lab/Code/Defense%20Adversarial%20in%20ML%20CAN%20IDS/adversarial_attack.ipynb#X24sZmlsZQ%3D%3D?line=13'>14</a>\u001b[0m attack_FGSM \u001b[39m=\u001b[39m FastGradientMethod(estimator\u001b[39m=\u001b[39mmodel_adv, eps\u001b[39m=\u001b[39m\u001b[39m0.3\u001b[39m)\n\u001b[1;32m---> <a href='vscode-notebook-cell:/c%3A/Lab/Code/Defense%20Adversarial%20in%20ML%20CAN%20IDS/adversarial_attack.ipynb#X24sZmlsZQ%3D%3D?line=14'>15</a>\u001b[0m adv \u001b[39m=\u001b[39m attack_FGSM\u001b[39m.\u001b[39mgenerate(np\u001b[39m.\u001b[39;49marray(X_test))\n\u001b[0;32m     <a href='vscode-notebook-cell:/c%3A/Lab/Code/Defense%20Adversarial%20in%20ML%20CAN%20IDS/adversarial_attack.ipynb#X24sZmlsZQ%3D%3D?line=15'>16</a>\u001b[0m \u001b[39mif\u001b[39;00m \u001b[39mnot\u001b[39;00m os\u001b[39m.\u001b[39mpath\u001b[39m.\u001b[39mexists(\u001b[39m\"\u001b[39m\u001b[39m./Dataset/csv/Attacked\u001b[39m\u001b[39m\"\u001b[39m):\n\u001b[0;32m     <a href='vscode-notebook-cell:/c%3A/Lab/Code/Defense%20Adversarial%20in%20ML%20CAN%20IDS/adversarial_attack.ipynb#X24sZmlsZQ%3D%3D?line=16'>17</a>\u001b[0m     os\u001b[39m.\u001b[39mmkdir(\u001b[39m\"\u001b[39m\u001b[39m./Dataset/csv/Attacked\u001b[39m\u001b[39m\"\u001b[39m)\n",
      "File \u001b[1;32mc:\\Users\\Maxwang\\anaconda3\\envs\\Adversarial_attack_\\lib\\site-packages\\tensorflow\\python\\framework\\ops.py:867\u001b[0m, in \u001b[0;36mTensor.__array__\u001b[1;34m(self)\u001b[0m\n\u001b[0;32m    866\u001b[0m \u001b[39mdef\u001b[39;00m \u001b[39m__array__\u001b[39m(\u001b[39mself\u001b[39m):\n\u001b[1;32m--> 867\u001b[0m   \u001b[39mraise\u001b[39;00m \u001b[39mNotImplementedError\u001b[39;00m(\n\u001b[0;32m    868\u001b[0m       \u001b[39m\"\u001b[39m\u001b[39mCannot convert a symbolic Tensor (\u001b[39m\u001b[39m{}\u001b[39;00m\u001b[39m) to a numpy array.\u001b[39m\u001b[39m\"\u001b[39m\n\u001b[0;32m    869\u001b[0m       \u001b[39m\"\u001b[39m\u001b[39m This error may indicate that you\u001b[39m\u001b[39m'\u001b[39m\u001b[39mre trying to pass a Tensor to\u001b[39m\u001b[39m\"\u001b[39m\n\u001b[0;32m    870\u001b[0m       \u001b[39m\"\u001b[39m\u001b[39m a NumPy call, which is not supported\u001b[39m\u001b[39m\"\u001b[39m\u001b[39m.\u001b[39mformat(\u001b[39mself\u001b[39m\u001b[39m.\u001b[39mname))\n",
      "\u001b[1;31mNotImplementedError\u001b[0m: Cannot convert a symbolic Tensor (ExpandDims_23:0) to a numpy array. This error may indicate that you're trying to pass a Tensor to a NumPy call, which is not supported"
     ]
    }
   ],
   "source": [
    "# FGSM(LR, \"LR\", X_test) OK\n",
    "#FGSM(XGB, \"XGB\", X_test)\n",
    "#FGSM(RF, \"RF\", X_test) OK\n",
    "#FGSM(SVM, \"SVM\", X_test) OK\n",
    "#FGSM(KNN, \"KNN\", X_test)\n",
    "#FGSM(DNN, \"DNN\", X_test)\n",
    "FGSM(CNN, \"CNN\", X_test_ex)\n",
    "FGSM(LSTM, \"LSTM\", X_test_ex)"
   ]
  },
  {
   "cell_type": "code",
   "execution_count": 77,
   "metadata": {},
   "outputs": [
    {
     "name": "stderr",
     "output_type": "stream",
     "text": [
      "c:\\Users\\Maxwang\\anaconda3\\envs\\Adversarial_attack_\\lib\\site-packages\\sklearn\\utils\\deprecation.py:103: FutureWarning: The attribute `n_features_` is deprecated in 1.0 and will be removed in 1.2. Use `n_features_in_` instead.\n",
      "  warnings.warn(msg, category=FutureWarning)\n",
      "Decision tree attack: 100%|██████████| 44730/44730 [00:17<00:00, 2615.59it/s]\n"
     ]
    }
   ],
   "source": [
    "adv = DTA(DT, \"DT\", X_test)"
   ]
  },
  {
   "cell_type": "code",
   "execution_count": 61,
   "metadata": {},
   "outputs": [],
   "source": [
    "adv_i = np.rint(adv[:,1:])\n",
    "arr = np.insert(adv_i, 0, adv[:,0], axis=1)\n",
    "np.savetxt(\"./Dataset/csv/Attacked/test.csv\", arr, delimiter=\",\")"
   ]
  },
  {
   "cell_type": "code",
   "execution_count": 62,
   "metadata": {},
   "outputs": [
    {
     "name": "stdout",
     "output_type": "stream",
     "text": [
      "0.971070869662419\n",
      "              precision    recall  f1-score   support\n",
      "\n",
      "           0       0.97      0.98      0.97     23042\n",
      "           1       0.97      0.97      0.97     21688\n",
      "\n",
      "    accuracy                           0.97     44730\n",
      "   macro avg       0.97      0.97      0.97     44730\n",
      "weighted avg       0.97      0.97      0.97     44730\n",
      "\n"
     ]
    }
   ],
   "source": [
    "model = DT\n",
    "model.fit(X_train,y_train)\n",
    "print(model.score(X_test, y_test))\n",
    "prediction = model.predict(X_test)\n",
    "print(classification_report(y_test,prediction))"
   ]
  },
  {
   "cell_type": "code",
   "execution_count": 63,
   "metadata": {},
   "outputs": [
    {
     "name": "stdout",
     "output_type": "stream",
     "text": [
      "0.44804381846635366\n",
      "              precision    recall  f1-score   support\n",
      "\n",
      "           0       0.33      0.07      0.12     23042\n",
      "           1       0.46      0.85      0.60     21688\n",
      "\n",
      "    accuracy                           0.45     44730\n",
      "   macro avg       0.40      0.46      0.36     44730\n",
      "weighted avg       0.39      0.45      0.35     44730\n",
      "\n"
     ]
    }
   ],
   "source": [
    "model = DT\n",
    "model.fit(X_train,y_train)\n",
    "print(model.score(arr, y_test))\n",
    "prediction = model.predict(arr)\n",
    "print(classification_report(y_test,prediction))"
   ]
  }
 ],
 "metadata": {
  "kernelspec": {
   "display_name": "Python 3.8.13 ('Adversarial_attack_')",
   "language": "python",
   "name": "python3"
  },
  "language_info": {
   "codemirror_mode": {
    "name": "ipython",
    "version": 3
   },
   "file_extension": ".py",
   "mimetype": "text/x-python",
   "name": "python",
   "nbconvert_exporter": "python",
   "pygments_lexer": "ipython3",
   "version": "3.8.13"
  },
  "orig_nbformat": 4,
  "vscode": {
   "interpreter": {
    "hash": "8dab91cb55a779ebb65e73a37577434c9648b8bfd406d9f159bac9d9fb993402"
   }
  }
 },
 "nbformat": 4,
 "nbformat_minor": 2
}
