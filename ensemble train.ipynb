{
 "cells": [
  {
   "cell_type": "code",
   "execution_count": 13,
   "metadata": {},
   "outputs": [],
   "source": [
    "import warnings\n",
    "\n",
    "import tensorflow as tf\n",
    "import sklearn\n",
    "from sklearn.model_selection import train_test_split\n",
    "import numpy as np\n",
    "\n",
    "from joblib import load\n",
    "from numpy import genfromtxt\n",
    "\n",
    "import pickle\n",
    "import pandas as pd\n",
    "import os"
   ]
  },
  {
   "cell_type": "code",
   "execution_count": 20,
   "metadata": {},
   "outputs": [],
   "source": [
    "# Import Model\n",
    "def import_model():\n",
    "    list_model = []\n",
    "    path = './models'\n",
    "    for i in os.listdir(path):\n",
    "        list_model.append(i)\n",
    "    print(list_model)\n",
    "    return list_model"
   ]
  },
  {
   "cell_type": "code",
   "execution_count": 4,
   "metadata": {},
   "outputs": [],
   "source": [
    "# Import normal Dataset\n",
    "def import_dataset():\n",
    "    with open('./Dataset/csv/Attack_merge.csv', newline='') as csvfile:\n",
    "        rows = pd.read_csv(csvfile,header=None)\n",
    "        y = rows[10]\n",
    "        x = rows.drop([10], axis=1)\n",
    "        X_train, X_test, y_train, y_test = train_test_split(x, y , test_size=0.2)\n",
    "    return X_train, X_test, y_train, y_test"
   ]
  },
  {
   "cell_type": "code",
   "execution_count": 89,
   "metadata": {},
   "outputs": [],
   "source": [
    "import itertools\n",
    "def combinations(list_model, num):\n",
    "    return list(x for x in itertools.combinations(list_model, num))"
   ]
  },
  {
   "cell_type": "code",
   "execution_count": 91,
   "metadata": {},
   "outputs": [
    {
     "name": "stdout",
     "output_type": "stream",
     "text": [
      "CNN.h5\n"
     ]
    }
   ],
   "source": [
    "combination_model = combinations(['CNN.h5', 'DNN4.h5', 'DT.joblib', 'KNN.joblib', 'LR.joblib', 'LSTM.h5', 'RF.joblib', 'SVM.joblib', 'XGB.joblib'], 3)\n",
    "print(combination_model[0][0])"
   ]
  },
  {
   "cell_type": "code",
   "execution_count": 53,
   "metadata": {},
   "outputs": [],
   "source": [
    "def kappa_statistics(pred_labels, y_test):\n",
    "    ks = 0\n",
    "    length = len(pred_labels)\n",
    "    for n in range(len(pred_labels[0])):\n",
    "        # value_b = ''\n",
    "        for o in range(0, length):\n",
    "            if o == 0:\n",
    "                continue\n",
    "            elif pred_labels[o][n] != pred_labels[o-1][n]:\n",
    "                break\n",
    "            elif o == length-1:\n",
    "                ks += 1\n",
    "            else:\n",
    "                continue\n",
    "    ks_percentage = ks/len(y_test) * 100\n",
    "    print(\"KAPPA STATS: \" + str(ks_percentage))\n",
    "\n",
    "    return ks_percentage"
   ]
  },
  {
   "cell_type": "code",
   "execution_count": 54,
   "metadata": {},
   "outputs": [],
   "source": [
    "def double_fault(pred_labels, y_test):\n",
    "    wrong_gt = ([l for l, m in enumerate(y_test) if m != pred_labels[0][l]])\n",
    "    df = 0\n",
    "    length = len(pred_labels)\n",
    "    for n, o in enumerate(wrong_gt):\n",
    "        for p in range(0, length):\n",
    "            if p == 0:\n",
    "                continue\n",
    "            elif pred_labels[p][o] != pred_labels[p-1][o]:\n",
    "                break\n",
    "            elif p == length-1:\n",
    "                df += 1\n",
    "            else:\n",
    "                continue\n",
    "    df_percentage = df/len(y_test) * 100\n",
    "    print(\"DOUBLE FAULT: \" + str(df_percentage))\n",
    "    \n",
    "    return df_percentage"
   ]
  },
  {
   "cell_type": "code",
   "execution_count": 68,
   "metadata": {},
   "outputs": [],
   "source": [
    "def most_common(most):\n",
    "    # common = []\n",
    "    for b in range(0, len(most)):\n",
    "        if len(most[b]) == 0:\n",
    "            most[b] = b\n",
    "        else:\n",
    "            most[b] = max(set(most[b]), key=most[b].count)\n",
    "    return max(set(most), key=most.count)"
   ]
  },
  {
   "cell_type": "code",
   "execution_count": 69,
   "metadata": {},
   "outputs": [],
   "source": [
    "def prediction_test(clf, x_test):\n",
    "    if str(clf)[0:3] == 'Lin':\n",
    "        temp = (clf.predict(x_test))\n",
    "        score_temp = []\n",
    "        for i in range(0, len(temp)):\n",
    "            if temp[i] == 0:\n",
    "                score_temp.append(np.array([1.0, 0.0], dtype=float))\n",
    "            else:\n",
    "                score_temp.append(np.array([0.0, 1.0], dtype=float))\n",
    "        return score_temp\n",
    "    else:\n",
    "        return clf.predict_proba(x_test)"
   ]
  },
  {
   "cell_type": "code",
   "execution_count": 70,
   "metadata": {},
   "outputs": [],
   "source": [
    "def voting_average(list_model, X_test, y_test):\n",
    "    #For soft voting:\n",
    "    pred = np.asarray([prediction_test(clf, X_test) for clf in list_model])\n",
    "    pred = np.average(pred, axis=0, weights=None)\n",
    "    pred = np.argmax(pred, axis=1)\n",
    "    pred_labels = np.rint(pred)\n",
    "    f1 = sklearn.metrics.f1_score(y_test, pred_labels, average=\"weighted\")\n",
    "    \n",
    "    return f1"
   ]
  },
  {
   "cell_type": "code",
   "execution_count": 95,
   "metadata": {},
   "outputs": [],
   "source": [
    "def ensemble_learning(num_teams):\n",
    "    good_team = []\n",
    "    path = \"./models/\"\n",
    "    list_model = import_model()\n",
    "    X_train, X_test, y_train, y_test = import_dataset()\n",
    "    y_train_ex = tf.expand_dims(y_train, axis=1)\n",
    "    X_train_ex = tf.expand_dims(X_train, axis=2)\n",
    "    y_test_ex = tf.expand_dims(y_test, axis=1)\n",
    "    X_test_ex = tf.expand_dims(X_test, axis=2)\n",
    "\n",
    "    combination_model = combinations(list_model=list_model, num = num_teams)\n",
    "    print(combination_model)\n",
    "    for j in range(0, len(combination_model)):\n",
    "        pred_labels = []\n",
    "        for k in range(0, len(combination_model[j])):\n",
    "            if combination_model[j][k] == \"CNN.h5\" or combination_model[j][k] == \"LSTM.h5\":\n",
    "                prediction = tf.keras.models.load_model(path + combination_model[j][k]).predict(X_test_ex)\n",
    "\n",
    "            elif combination_model[j][k] == \"DNN4.h5\":\n",
    "                prediction = tf.keras.models.load_model(path + combination_model[j][k]).predict(X_test)\n",
    "                prediction = prediction[0:,1]\n",
    "\n",
    "            else:\n",
    "                prediction = load(path + combination_model[j][k]).predict(X_test)\n",
    "\n",
    "            pred_labels.append(np.rint(prediction))\n",
    "        #print(pred_labels)\n",
    "        print(combination_model[j])\n",
    "        ks_percentage = kappa_statistics(pred_labels, y_test)\n",
    "        df_percentage = double_fault(pred_labels, y_test)\n",
    "        \n",
    "        if ks_percentage > 50 and ks_percentage < 91 and df_percentage < 50:\n",
    "            good_team.append(combination_model[j])\n",
    "    \n",
    "    best_team = most_common(good_team)\n",
    "    print(\"good_team\", good_team)\n",
    "    print(\"best_team\", best_team)\n",
    "\n",
    "    # f1_score = voting_average(best_team, X_test, y_test)\n",
    "    # print(\"f1_score\", f1_score)\n",
    "    \n",
    "    # preds = model.predict(X_test_ex, steps=1)\n",
    "    # pred_labels = np.rint(preds)\n",
    "    # accuracy = sklearn.metrics.accuracy_score(y_test_ex, pred_labels)\n",
    "    # f1 = sklearn.metrics.f1_score(y_test_ex, pred_labels, average=\"binary\")\n",
    "    # prec = sklearn.metrics.precision_score(y_test_ex, pred_labels, average=\"binary\")\n",
    "    # recall = sklearn.metrics.recall_score(y_test_ex, pred_labels, average=\"binary\")\n",
    "    # print(\"accuracy: \" + str(accuracy))\n",
    "    # print(\"f1: \" + str(f1))\n",
    "    # print(\"prec: \" + str(prec))\n",
    "    # print(\"recall: \" + str(recall))\n"
   ]
  },
  {
   "cell_type": "code",
   "execution_count": 84,
   "metadata": {},
   "outputs": [
    {
     "data": {
      "text/plain": [
       "'N'"
      ]
     },
     "execution_count": 84,
     "metadata": {},
     "output_type": "execute_result"
    }
   ],
   "source": [
    "most_common(['CNN.h5', 'DNN4.h5'])"
   ]
  },
  {
   "cell_type": "code",
   "execution_count": 85,
   "metadata": {},
   "outputs": [
    {
     "name": "stdout",
     "output_type": "stream",
     "text": [
      "['CNN.h5', 'DNN4.h5', 'DT.joblib', 'KNN.joblib', 'LR.joblib', 'LSTM.h5', 'RF.joblib', 'SVM.joblib', 'XGB.joblib']\n",
      "(('CNN.h5', 'DNN4.h5'), ('CNN.h5', 'DT.joblib'), ('CNN.h5', 'KNN.joblib'), ('CNN.h5', 'LR.joblib'), ('CNN.h5', 'LSTM.h5'), ('CNN.h5', 'RF.joblib'), ('CNN.h5', 'SVM.joblib'), ('CNN.h5', 'XGB.joblib'), ('DNN4.h5', 'DT.joblib'), ('DNN4.h5', 'KNN.joblib'), ('DNN4.h5', 'LR.joblib'), ('DNN4.h5', 'LSTM.h5'), ('DNN4.h5', 'RF.joblib'), ('DNN4.h5', 'SVM.joblib'), ('DNN4.h5', 'XGB.joblib'), ('DT.joblib', 'KNN.joblib'), ('DT.joblib', 'LR.joblib'), ('DT.joblib', 'LSTM.h5'), ('DT.joblib', 'RF.joblib'), ('DT.joblib', 'SVM.joblib'), ('DT.joblib', 'XGB.joblib'), ('KNN.joblib', 'LR.joblib'), ('KNN.joblib', 'LSTM.h5'), ('KNN.joblib', 'RF.joblib'), ('KNN.joblib', 'SVM.joblib'), ('KNN.joblib', 'XGB.joblib'), ('LR.joblib', 'LSTM.h5'), ('LR.joblib', 'RF.joblib'), ('LR.joblib', 'SVM.joblib'), ('LR.joblib', 'XGB.joblib'), ('LSTM.h5', 'RF.joblib'), ('LSTM.h5', 'SVM.joblib'), ('LSTM.h5', 'XGB.joblib'), ('RF.joblib', 'SVM.joblib'), ('RF.joblib', 'XGB.joblib'), ('SVM.joblib', 'XGB.joblib'))\n",
      "KAPPA STATS: 99.096803040465\n",
      "DOUBLE FAULT: 6.937178627319472\n",
      "KAPPA STATS: 93.40487368656383\n",
      "DOUBLE FAULT: 0.9233176838810642\n",
      "KAPPA STATS: 92.49273418287503\n",
      "DOUBLE FAULT: 0.7578806170355467\n",
      "KAPPA STATS: 97.53632908562486\n",
      "DOUBLE FAULT: 6.937178627319472\n",
      "KAPPA STATS: 93.33780460541024\n",
      "DOUBLE FAULT: 1.6968477531857813\n",
      "KAPPA STATS: 97.46031746031746\n",
      "DOUBLE FAULT: 4.744019673597139\n",
      "KAPPA STATS: 97.74200760116253\n",
      "DOUBLE FAULT: 6.937178627319472\n"
     ]
    },
    {
     "name": "stderr",
     "output_type": "stream",
     "text": [
      "c:\\Users\\Maxwang\\anaconda3\\envs\\Adversarial_attack_\\lib\\site-packages\\xgboost\\data.py:262: FutureWarning: pandas.Int64Index is deprecated and will be removed from pandas in a future version. Use pandas.Index with the appropriate dtype instead.\n",
      "  elif isinstance(data.columns, (pd.Int64Index, pd.RangeIndex)):\n"
     ]
    },
    {
     "name": "stdout",
     "output_type": "stream",
     "text": [
      "KAPPA STATS: 92.22669349429913\n",
      "DOUBLE FAULT: 0.5857366420746702\n",
      "KAPPA STATS: 92.50167672702884\n",
      "DOUBLE FAULT: 0.9233176838810642\n",
      "KAPPA STATS: 91.58953722334005\n",
      "DOUBLE FAULT: 0.7578806170355467\n",
      "KAPPA STATS: 97.75542141739325\n",
      "DOUBLE FAULT: 7.49832327297116\n",
      "KAPPA STATS: 92.45249273418288\n",
      "DOUBLE FAULT: 1.7057902973395929\n",
      "KAPPA STATS: 96.55712050078247\n",
      "DOUBLE FAULT: 4.744019673597139\n",
      "KAPPA STATS: 97.96109993293092\n",
      "DOUBLE FAULT: 7.49832327297116\n"
     ]
    },
    {
     "name": "stderr",
     "output_type": "stream",
     "text": [
      "c:\\Users\\Maxwang\\anaconda3\\envs\\Adversarial_attack_\\lib\\site-packages\\xgboost\\data.py:262: FutureWarning: pandas.Int64Index is deprecated and will be removed from pandas in a future version. Use pandas.Index with the appropriate dtype instead.\n",
      "  elif isinstance(data.columns, (pd.Int64Index, pd.RangeIndex)):\n"
     ]
    },
    {
     "name": "stdout",
     "output_type": "stream",
     "text": [
      "KAPPA STATS: 91.32349653476413\n",
      "DOUBLE FAULT: 0.5857366420746702\n",
      "KAPPA STATS: 98.2472613458529\n",
      "DOUBLE FAULT: 0.9188464118041582\n",
      "KAPPA STATS: 90.94567404426559\n",
      "DOUBLE FAULT: 0.9255533199195171\n",
      "KAPPA STATS: 97.04896042924211\n",
      "DOUBLE FAULT: 0.8361278783813995\n",
      "KAPPA STATS: 95.39011848871004\n",
      "DOUBLE FAULT: 0.9926224010731053\n",
      "KAPPA STATS: 91.15135255980327\n",
      "DOUBLE FAULT: 0.9255533199195171\n",
      "KAPPA STATS: 98.22714062150682\n"
     ]
    },
    {
     "name": "stderr",
     "output_type": "stream",
     "text": [
      "c:\\Users\\Maxwang\\anaconda3\\envs\\Adversarial_attack_\\lib\\site-packages\\xgboost\\data.py:262: FutureWarning: pandas.Int64Index is deprecated and will be removed from pandas in a future version. Use pandas.Index with the appropriate dtype instead.\n",
      "  elif isinstance(data.columns, (pd.Int64Index, pd.RangeIndex)):\n"
     ]
    },
    {
     "name": "stdout",
     "output_type": "stream",
     "text": [
      "DOUBLE FAULT: 0.8696624189581935\n",
      "KAPPA STATS: 90.02906326849988\n",
      "DOUBLE FAULT: 0.7578806170355467\n",
      "KAPPA STATS: 97.50055890900961\n",
      "DOUBLE FAULT: 1.3525598032640287\n",
      "KAPPA STATS: 94.50033534540577\n",
      "DOUBLE FAULT: 0.8383635144198525\n",
      "KAPPA STATS: 90.23474178403755\n",
      "DOUBLE FAULT: 0.7578806170355467\n"
     ]
    },
    {
     "name": "stderr",
     "output_type": "stream",
     "text": [
      "c:\\Users\\Maxwang\\anaconda3\\envs\\Adversarial_attack_\\lib\\site-packages\\xgboost\\data.py:262: FutureWarning: pandas.Int64Index is deprecated and will be removed from pandas in a future version. Use pandas.Index with the appropriate dtype instead.\n",
      "  elif isinstance(data.columns, (pd.Int64Index, pd.RangeIndex)):\n"
     ]
    },
    {
     "name": "stdout",
     "output_type": "stream",
     "text": [
      "KAPPA STATS: 98.97831433042701\n",
      "DOUBLE FAULT: 1.5358819584171697\n",
      "KAPPA STATS: 90.89201877934272\n",
      "DOUBLE FAULT: 1.7057902973395929\n",
      "KAPPA STATS: 95.01006036217305\n",
      "DOUBLE FAULT: 4.750726581712497\n",
      "KAPPA STATS: 99.45003353454057\n",
      "DOUBLE FAULT: 9.023027051196065\n",
      "KAPPA STATS: 89.7674938520009\n"
     ]
    },
    {
     "name": "stderr",
     "output_type": "stream",
     "text": [
      "c:\\Users\\Maxwang\\anaconda3\\envs\\Adversarial_attack_\\lib\\site-packages\\xgboost\\data.py:262: FutureWarning: pandas.Int64Index is deprecated and will be removed from pandas in a future version. Use pandas.Index with the appropriate dtype instead.\n",
      "  elif isinstance(data.columns, (pd.Int64Index, pd.RangeIndex)):\n"
     ]
    },
    {
     "name": "stdout",
     "output_type": "stream",
     "text": [
      "DOUBLE FAULT: 0.5879722781131232\n",
      "KAPPA STATS: 95.39906103286386\n",
      "DOUBLE FAULT: 1.8041582830315224\n",
      "KAPPA STATS: 91.09769729488039\n",
      "DOUBLE FAULT: 1.7057902973395929\n"
     ]
    },
    {
     "name": "stderr",
     "output_type": "stream",
     "text": [
      "c:\\Users\\Maxwang\\anaconda3\\envs\\Adversarial_attack_\\lib\\site-packages\\xgboost\\data.py:262: FutureWarning: pandas.Int64Index is deprecated and will be removed from pandas in a future version. Use pandas.Index with the appropriate dtype instead.\n",
      "  elif isinstance(data.columns, (pd.Int64Index, pd.RangeIndex)):\n"
     ]
    },
    {
     "name": "stdout",
     "output_type": "stream",
     "text": [
      "KAPPA STATS: 97.71294433266264\n",
      "DOUBLE FAULT: 1.4196288844176168\n",
      "KAPPA STATS: 95.2157388777107\n",
      "DOUBLE FAULT: 4.750726581712497\n",
      "KAPPA STATS: 94.23429465682986\n",
      "DOUBLE FAULT: 0.6662195394589762\n",
      "KAPPA STATS: 89.97317236753857\n",
      "DOUBLE FAULT: 0.5879722781131232\n",
      "good_team ['DT.joblib', 'KNN.joblib', 'KNN.joblib', 'LR.joblib', 'XGB.joblib', 'XGB.joblib']\n",
      "best_team XGB.joblib\n"
     ]
    },
    {
     "name": "stderr",
     "output_type": "stream",
     "text": [
      "c:\\Users\\Maxwang\\anaconda3\\envs\\Adversarial_attack_\\lib\\site-packages\\xgboost\\data.py:262: FutureWarning: pandas.Int64Index is deprecated and will be removed from pandas in a future version. Use pandas.Index with the appropriate dtype instead.\n",
      "  elif isinstance(data.columns, (pd.Int64Index, pd.RangeIndex)):\n",
      "c:\\Users\\Maxwang\\anaconda3\\envs\\Adversarial_attack_\\lib\\site-packages\\xgboost\\data.py:262: FutureWarning: pandas.Int64Index is deprecated and will be removed from pandas in a future version. Use pandas.Index with the appropriate dtype instead.\n",
      "  elif isinstance(data.columns, (pd.Int64Index, pd.RangeIndex)):\n"
     ]
    }
   ],
   "source": [
    "ensemble_learning(2)"
   ]
  }
 ],
 "metadata": {
  "kernelspec": {
   "display_name": "Python 3.8.13 ('Adversarial_attack_')",
   "language": "python",
   "name": "python3"
  },
  "language_info": {
   "codemirror_mode": {
    "name": "ipython",
    "version": 3
   },
   "file_extension": ".py",
   "mimetype": "text/x-python",
   "name": "python",
   "nbconvert_exporter": "python",
   "pygments_lexer": "ipython3",
   "version": "3.8.13"
  },
  "orig_nbformat": 4,
  "vscode": {
   "interpreter": {
    "hash": "8dab91cb55a779ebb65e73a37577434c9648b8bfd406d9f159bac9d9fb993402"
   }
  }
 },
 "nbformat": 4,
 "nbformat_minor": 2
}
