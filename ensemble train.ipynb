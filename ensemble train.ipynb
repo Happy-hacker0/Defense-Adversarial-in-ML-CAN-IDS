{
 "cells": [
  {
   "cell_type": "code",
   "execution_count": 1,
   "metadata": {},
   "outputs": [],
   "source": [
    "import warnings\n",
    "warnings.filterwarnings('ignore')\n",
    "import tensorflow as tf\n",
    "import numpy as np\n",
    "tf.compat.v1.disable_eager_execution()\n",
    "from joblib import load\n",
    "from numpy import genfromtxt\n",
    "import sklearn\n",
    "physical_devices = tf.config.list_physical_devices('GPU')\n",
    "tf.config.experimental.set_memory_growth(physical_devices[0], True)\n",
    "import pickle\n",
    "import pandas as pd\n",
    "import os"
   ]
  },
  {
   "cell_type": "code",
   "execution_count": 12,
   "metadata": {},
   "outputs": [],
   "source": [
    "# Import Model\n",
    "list_model = []\n",
    "path = './models'\n",
    "for i in os.listdir(path):\n",
    "    list_model.append(i)"
   ]
  },
  {
   "cell_type": "code",
   "execution_count": 5,
   "metadata": {},
   "outputs": [],
   "source": [
    "def kappa_statistics(pred_labels, y_test):\n",
    "    ks = 0\n",
    "    length = len(pred_labels)\n",
    "    for n in range(len(pred_labels[0])):\n",
    "        # value_b = ''\n",
    "        for o in range(0, length):\n",
    "            if o == 0:\n",
    "                continue\n",
    "            elif pred_labels[o][n] != pred_labels[o-1][n]:\n",
    "                break\n",
    "            elif o == length-1:\n",
    "                ks += 1\n",
    "            else:\n",
    "                continue\n",
    "    ks_percentage = ks/len(y_test) * 100\n",
    "    print(\"KAPPA STATS: \" + str(ks_percentage))\n",
    "\n",
    "    return ks_percentage"
   ]
  },
  {
   "cell_type": "code",
   "execution_count": 6,
   "metadata": {},
   "outputs": [],
   "source": [
    "def double_fault(pred_labels, y_test):\n",
    "    wrong_gt = ([l for l, m in enumerate(y_test) if m != pred_labels[0][l]])\n",
    "    df = 0\n",
    "    length = len(pred_labels)\n",
    "    for n, o in enumerate(wrong_gt):\n",
    "        for p in range(0, length):\n",
    "            if p == 0:\n",
    "                continue\n",
    "            elif pred_labels[p][o] != pred_labels[p-1][o]:\n",
    "                break\n",
    "            elif p == length-1:\n",
    "                df += 1\n",
    "            else:\n",
    "                continue\n",
    "    df_percentage = df/len(y_test) * 100\n",
    "    print(\"DOUBLE FAULT: \" + str(df_percentage))\n",
    "    \n",
    "    return df_percentage"
   ]
  },
  {
   "cell_type": "code",
   "execution_count": null,
   "metadata": {},
   "outputs": [],
   "source": []
  },
  {
   "cell_type": "code",
   "execution_count": null,
   "metadata": {},
   "outputs": [],
   "source": []
  },
  {
   "cell_type": "code",
   "execution_count": null,
   "metadata": {},
   "outputs": [],
   "source": []
  }
 ],
 "metadata": {
  "kernelspec": {
   "display_name": "Python 3.8.13 ('Adversarial_attack_')",
   "language": "python",
   "name": "python3"
  },
  "language_info": {
   "codemirror_mode": {
    "name": "ipython",
    "version": 3
   },
   "file_extension": ".py",
   "mimetype": "text/x-python",
   "name": "python",
   "nbconvert_exporter": "python",
   "pygments_lexer": "ipython3",
   "version": "3.8.13"
  },
  "orig_nbformat": 4,
  "vscode": {
   "interpreter": {
    "hash": "8dab91cb55a779ebb65e73a37577434c9648b8bfd406d9f159bac9d9fb993402"
   }
  }
 },
 "nbformat": 4,
 "nbformat_minor": 2
}
